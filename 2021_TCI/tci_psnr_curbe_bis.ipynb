{
 "cells": [
  {
   "cell_type": "markdown",
   "metadata": {},
   "source": [
    "# Preliminary Operations\n",
    "## Imports"
   ]
  },
  {
   "cell_type": "code",
   "execution_count": 1,
   "metadata": {},
   "outputs": [
    {
     "data": {
      "text/plain": [
       "<torch._C.Generator at 0x7fe15812b130>"
      ]
     },
     "execution_count": 1,
     "metadata": {},
     "output_type": "execute_result"
    }
   ],
   "source": [
    "from __future__ import print_function, division\n",
    "import torch\n",
    "import torch.nn as nn\n",
    "import torch.optim as optim\n",
    "from torch.optim import lr_scheduler\n",
    "import numpy as np\n",
    "import torchvision\n",
    "from torchvision import datasets, models, transforms\n",
    "import argparse\n",
    "# import sys\n",
    "from pathlib import Path\n",
    "import scipy.io as sio\n",
    "import imageio\n",
    "import cv2\n",
    "\n",
    "\n",
    "\n",
    "\n",
    "from IPython.display import HTML, display\n",
    "import tabulate\n",
    "import os\n",
    "import warnings\n",
    "\n",
    "# sys.path.append('../..');\n",
    "from spyrit.learning.model_Had_DCAN import *\n",
    "from spyrit.learning.nets import *\n",
    "from spyrit.misc.disp import *\n",
    "from spyrit.misc.metrics import *\n",
    "from spyrit.reconstruction.recon_functions import * \n",
    "\n",
    "\n",
    "torch.manual_seed(19)"
   ]
  },
  {
   "cell_type": "code",
   "execution_count": 2,
   "metadata": {
    "tags": []
   },
   "outputs": [],
   "source": [
    "from scipy.sparse.linalg import aslinearoperator\n",
    "import pylops\n",
    "\n",
    "def TV(y, H, img_size, mu = 0.15, lamda = [0.1, 0.1], niter = 20, niterinner = 10):\n",
    "    ny = img_size;\n",
    "    nx = img_size;\n",
    "    A = aslinearoperator(H);\n",
    "    H_p = pylops.LinearOperator(A)\n",
    "    Dop = \\\n",
    "        [pylops.FirstDerivative(ny * nx, dims=(ny, nx), dir=0, edge=False,\n",
    "                                kind='backward', dtype=np.float64),\n",
    "         pylops.FirstDerivative(ny * nx, dims=(ny, nx), dir=1, edge=False,\n",
    "                                kind='backward', dtype=np.float64)]\n",
    "    xinv, niter = \\\n",
    "    pylops.optimization.sparsity.SplitBregman(H_p, Dop, y.flatten(),\n",
    "                                              niter, niterinner,\n",
    "                                              mu=mu, epsRL1s=lamda,\n",
    "                                              tol=1e-4, tau=1., show=False,\n",
    "                                              **dict(iter_lim=5, damp=1e-4))\n",
    "    return xinv;\n",
    "\n",
    "def batch_TV(m, batch_size, ch, img_size, H,N_0, mu = 0.15, lamda = [0.001, 0.001], niter = 3, niterinner = 3):\n",
    "    outputs = np.zeros((batch_size*ch, 1, img_size, img_size));\n",
    "    M = H.shape[0];\n",
    "    even_indices = range(0,2*M,2);\n",
    "    uneven_index = range(1,2*M,2);\n",
    "    for i in range(batch_size*ch):\n",
    "        m_i = torch2numpy(m[i,0,:]);\n",
    "        m_i = m_i[even_indices]-m_i[uneven_index];\n",
    "        out = TV(m_i, H, img_size, mu, lamda, niter, niterinner)\n",
    "        outputs[i, 0, :,:] = 2/N_0*np.reshape(out, (img_size, img_size))-1;\n",
    "    output_batch  = torch.Tensor(outputs);\n",
    "    return output_batch;\n"
   ]
  },
  {
   "cell_type": "code",
   "execution_count": 3,
   "metadata": {},
   "outputs": [],
   "source": [
    "def Inverse_square_root(A):\n",
    "    \"\"\"returns A^{-1/2}.\n",
    "    Warning : This is only intended to be used if A is positive definite.\n",
    "    \"\"\" \n",
    "    D, U = np.linalg.eig(A);\n",
    "    D = 1/D;\n",
    "    D = np.sqrt(D);\n",
    "    A_inv = np.dot(np.dot(np.transpose(U), D), U);\n",
    "    return diag(A_inv);\n",
    "\n",
    "\n",
    "def diag(y):\n",
    "    \"\"\"\n",
    "    Generates a diagonal matrix from vector y\n",
    "    \"\"\" \n",
    "    n = y.shape[0];\n",
    "    D = np.zeros((n,n));\n",
    "    D[np.diag_indices(n)] = np.reshape(y,(n,));\n",
    "    return D;\n",
    "\n",
    "def Diag(A):\n",
    "    \"\"\"Extracts the diagonal elements of A\"\"\"\n",
    "    a,b = A.shape;\n",
    "    n = min(a,b);\n",
    "    d = np.reshape(A[np.diag_indices(n)], (n,1));\n",
    "    return d;\n"
   ]
  },
  {
   "cell_type": "code",
   "execution_count": 4,
   "metadata": {},
   "outputs": [],
   "source": [
    "def Tikhonov_regularisation(H, y, x_0, P, R):\n",
    "    \"\"\"\n",
    "    Solves the inverse problem \n",
    "    y = H x+ n ,\n",
    "    by minimising \n",
    "    || Hx-y ||^2_{R^{-1}} + ||x - x_0||_{P^{-1}} , \n",
    "    where R is the noise covariance matrix, and P is the data covariance matrix.\n",
    "    \"\"\"\n",
    "    Pat = np.dot(P, np.transpose(H));\n",
    "    K = np.linalg.inv(R+np.dot(H,Pat));\n",
    "    K_k = np.dot(Pat, K);\n",
    "    x_out = x_0 + np.dot(K_k,y-np.dot(H,x_0));\n",
    "    return x_out\n",
    "\n",
    "def EM_TV(y, H, Sigma_a, img_size, Sigma_i, Sigma_1_2 = None, mu = 0.1, lamda = [1, 1], EM_N_iter = 4, niter = 3, niterinner = 3):\n",
    "    \"\"\"\n",
    "    Solves the inverse problem \n",
    "    y = H x+ n ,\n",
    "    by minimising \n",
    "    || Hx-y ||^2_{Sigma_a^{-1}} + lambda[0] ||D_1 x||_1 + lambda[1] ||D_2 x||_1\n",
    "    where Sigma_a is the noise covariance matrix, where D_1 is the matrix corresponding to the first derivative over x and D_2 is the first derivative over y.\n",
    "    This is done by applying the EM algorithm.\n",
    "    \"\"\"\n",
    "    x_inv = np.zeros((img_size**2,1));\n",
    "    if Sigma_1_2 is None:\n",
    "        Sigma_1_2 = Inverse_square_root(Sigma_i);\n",
    "    OP_TV = Sigma_1_2;\n",
    "    for i in range(EM_N_iter):\n",
    "        x_inv = np.reshape(x_inv, (img_size**2,1));\n",
    "        # print(x_inv.shape)\n",
    "        # print(y.shape)\n",
    "        x_inv = Tikhonov_regularisation(H, y, x_inv, Sigma_i, Sigma_a);\n",
    "        # print(x_inv.shape)\n",
    "        # print(np.dot(Sigma_1_2, x_inv).shape)\n",
    "        # print(OP_TV.shape)\n",
    "        x_inv = TV(np.dot(Sigma_1_2, x_inv), OP_TV, img_size, mu=mu, lamda = lamda, niter = niter, niterinner=niterinner);\n",
    "    return x_inv\n",
    "\n",
    "\n",
    "def batch_EM_TV(m, batch_size, ch, img_size, H, N_0, Sigma_i, Sigma_1_2 = None, mu = 1, lamda = [1, 1], EM_N_iter = 4, niter = 3, niterinner = 3):\n",
    "    \"\"\"\n",
    "    \n",
    "    \"\"\"\n",
    "    outputs = np.zeros((batch_size*ch, 1, img_size, img_size));\n",
    "    M = H.shape[0];\n",
    "    One = np.dot(H, np.ones((img_size**2,1)))\n",
    "    even_indices = range(0,2*M,2);\n",
    "    uneven_index = range(1,2*M,2);\n",
    "    for i in range(batch_size*ch):\n",
    "        m_i = torch2numpy(m[i,0,:]);\n",
    "        y_k_pos = m_i[even_indices];\n",
    "        y_k_neg = m_i[uneven_index];\n",
    "        \n",
    "        y_k_pos = np.reshape(y_k_pos, (M,1));\n",
    "        y_k_neg = np.reshape(y_k_neg, (M,1));\n",
    "        \n",
    "        Sigma_a = diag((y_k_pos+y_k_neg)/(N0**2));\n",
    "        y_k = y_k_pos-y_k_neg;\n",
    "        y_k = 2/N_0*y_k - One;\n",
    "        out = EM_TV(y_k, H, Sigma_a, img_size, Sigma_i, Sigma_1_2 = Sigma_1_2, mu = mu, lamda = lamda, EM_N_iter = EM_N_iter, niter = niter, niterinner = niterinner);\n",
    "        # outputs[i, 0, :,:] = np.reshape(2*(out-np.amin(out))/(np.amax(out)-np.amin(out))-1, (img_size, img_size));\n",
    "        outputs[i, 0, :,:] = np.reshape(out, (img_size, img_size));\n",
    "    output_batch  = torch.Tensor(outputs);\n",
    "    return output_batch\n"
   ]
  },
  {
   "cell_type": "code",
   "execution_count": 5,
   "metadata": {},
   "outputs": [],
   "source": [
    "import seaborn as sns\n",
    "\n",
    "def set_box_color(bp, color):\n",
    "    plt.setp(bp['boxes'], color=color)\n",
    "    plt.setp(bp['whiskers'], color=color)\n",
    "    plt.setp(bp['caps'], color=color)\n",
    "    plt.setp(bp['medians'], color=color)\n",
    "\n",
    "def dico2boxplot(dico, color):\n",
    "    Data = [dico[key] for key in dico];\n",
    "    ticks = [str(key) for key in dico];\n",
    "    plt.figure()\n",
    "    for i in range(len(Data)):\n",
    "        bpl = plt.boxplot(Data[i], positions = [i*2.0], sym=\"\", widths=1.0, patch_artist=True)\n",
    "        set_box_color(bpl, color[0])\n",
    "        bpl[\"boxes\"][0].set_facecolor(color[i+1])\n",
    "        bpl[\"boxes\"][0].set_linewidth(3)\n",
    "        bpl[\"boxes\"][0].set_linestyle(\"-\")\n",
    "        bpl[\"whiskers\"][0].set_linewidth(3)\n",
    "        bpl[\"whiskers\"][0].set_linestyle(\"-\")\n",
    "        bpl[\"caps\"][0].set_linewidth(3)\n",
    "        bpl[\"caps\"][0].set_linestyle(\"-\")\n",
    "        bpl[\"whiskers\"][1].set_linewidth(3)\n",
    "        bpl[\"whiskers\"][1].set_linestyle(\"-\")\n",
    "        bpl[\"caps\"][1].set_linewidth(3)\n",
    "        bpl[\"caps\"][1].set_linestyle(\"-\")\n",
    "        bpl[\"medians\"][0].set_linewidth(3)\n",
    "        bpl[\"medians\"][0].set_linestyle(\"-\")        \n",
    "    plt.xticks(range(0, len(ticks) * 2, 2), ticks)\n",
    "    plt.xlim(-2, len(ticks)*2)\n",
    "    plt.tight_layout()\n",
    "    \n",
    "    \n",
    "def set_violin_color(vp, color):\n",
    "    for pc in vp['bodies']:\n",
    "        pc.set_facecolor(color)\n",
    "        pc.set_edgecolor(color)\n",
    "        pc.set_alpha(0.3)\n",
    "\n",
    "def dico2violinplot(dico, color):\n",
    "    Data = [dico[key] for key in dico];\n",
    "    ticks = [str(key) for key in dico];\n",
    "    plt.figure()\n",
    "    for i in range(len(Data)):\n",
    "#         bpl = plt.violinplot(Data[i], positions = [i*2.0], widths=1.0, showmedians=  True, quantiles = [0.05, 0.95])\n",
    "        bpl = plt.violinplot(Data[i], positions = [i*2.0], widths=1.0, showmedians=  True)\n",
    "        set_violin_color(bpl, color[i])     \n",
    "    plt.xticks(range(0, len(ticks) * 2, 2), ticks)\n",
    "    plt.xlim(-2, len(ticks)*2)\n",
    "    plt.tight_layout()\n",
    "    \n"
   ]
  },
  {
   "cell_type": "code",
   "execution_count": 6,
   "metadata": {},
   "outputs": [],
   "source": [
    "def list2latex(input_list, midrule_list, ncol):\n",
    "    \"\"\"Produces a latex table from a list.\n",
    "    Inputs :\n",
    "    * input_list : Python list. Each Element of input_list is a list of strings that \n",
    "        represents a line of the table we wish to display.\n",
    "    * ncol : Integer. Defines the number of expected rows in the table.\n",
    "    * midrule_list : list of integers that define the rows after which we put midrules. \n",
    "    \"\"\"\n",
    "    midrule_counter = 0;\n",
    "    begin = \"\\\\begin{tabular}{l\"+(ncol-1)*\"c\"+\"}\";\n",
    "    print(begin)\n",
    "    print(\"\\\\toprule\")\n",
    "    for i in range(len(input_list)):\n",
    "        print_line(input_list[i], ncol);\n",
    "        if len(midrule_list)>midrule_counter:\n",
    "            if midrule_list[midrule_counter]==i:\n",
    "                print(\"\\\\midrule\")\n",
    "                midrule_counter+=1;\n",
    "    print(\"\\\\bottomrule\")\n",
    "    print(\"\\\\end{tabular}\")\n",
    "    \n",
    "    \n",
    "    \n",
    "def print_line(line, n_col):\n",
    "    if len(line)>= n_col:\n",
    "        string = [\"{} & \".format(line[i]) for i in range(n_col)];\n",
    "        string = ''.join(string)\n",
    "        string = string[:-2]+\"\\\\\\\\\";\n",
    "        print(string)\n",
    "    else:\n",
    "        string = [\"{} & \".format(line[i]) for i in range(len(line)-1)];\n",
    "        string = ''.join(string)\n",
    "        string += \"\\multicolumn{\"+str(n_col-len(line)+1)+\"}{c}{\"+ str(line[-1]) +\"} \\\\\\\\\";\n",
    "        print(string)"
   ]
  },
  {
   "cell_type": "markdown",
   "metadata": {},
   "source": [
    "## Parameters\n",
    "### Acquisition Parameters"
   ]
  },
  {
   "cell_type": "code",
   "execution_count": 7,
   "metadata": {},
   "outputs": [],
   "source": [
    "img_size = 64;"
   ]
  },
  {
   "cell_type": "markdown",
   "metadata": {},
   "source": [
    "### Network and training"
   ]
  },
  {
   "cell_type": "code",
   "execution_count": 8,
   "metadata": {},
   "outputs": [],
   "source": [
    "data_root = \"../../data/\" # Path to SLT-10 dataset\n",
    "precompute_root =\"../../models/SDCAN/\"# Path to precomputed data\n",
    "precompute =  False # Tells if the precomputed data is available \n",
    "n_iter = 5;"
   ]
  },
  {
   "cell_type": "markdown",
   "metadata": {},
   "source": [
    "### Experimental Data"
   ]
  },
  {
   "cell_type": "code",
   "execution_count": 9,
   "metadata": {},
   "outputs": [],
   "source": [
    "expe_root = \"../../data/expe_2/\" # Path to precomputed data"
   ]
  },
  {
   "cell_type": "markdown",
   "metadata": {},
   "source": [
    "### Optimisation"
   ]
  },
  {
   "cell_type": "code",
   "execution_count": 10,
   "metadata": {},
   "outputs": [],
   "source": [
    "num_epochs = 20 ; #Number of training epochs \n",
    "batch_size = 16; # Size of each training batch\n",
    "reg = 1e-7; # Regularisation Parameter\n",
    "lr = 1e-3; # Learning Rate\n",
    "step_size = 4; #Scheduler Step Size\n",
    "gamma =0.5; # Scheduler Decrease Rate"
   ]
  },
  {
   "cell_type": "markdown",
   "metadata": {},
   "source": [
    "## Loading Pre-processed Data"
   ]
  },
  {
   "cell_type": "code",
   "execution_count": 11,
   "metadata": {},
   "outputs": [
    {
     "name": "stdout",
     "output_type": "stream",
     "text": [
      "Loading covariance and mean\n"
     ]
    }
   ],
   "source": [
    "my_average_file = Path(precompute_root) / ('Average_{}x{}'.format(img_size, img_size)+'.npy')\n",
    "my_cov_file = Path(precompute_root) / ('Cov_{}x{}'.format(img_size, img_size)+'.npy')\n",
    "\n",
    "Path(precompute_root).mkdir(parents=True, exist_ok=True)\n",
    "if not(my_average_file.is_file()) or not(my_cov_file.is_file()) or precompute:\n",
    "    print('Computing covariance and mean (overwrite previous files)')\n",
    "    Mean_had, Cov_had = Stat_had(trainloader, precompute_root)\n",
    "else:\n",
    "    print('Loading covariance and mean')\n",
    "    Mean_had = np.load(my_average_file)\n",
    "    Cov_had  = np.load(my_cov_file)\n",
    "\n",
    "if expe_root:\n",
    "    my_transform_file = Path(expe_root) / ('transform_{}x{}'.format(img_size, img_size)+'.mat')\n",
    "    H = sio.loadmat(my_transform_file);\n",
    "    H = (1/img_size)*H[\"H\"]\n",
    "\n",
    "    my_average_file = Path(expe_root) / ('Average_{}x{}'.format(img_size, img_size)+'.mat')\n",
    "    my_cov_file = Path(expe_root) / ('Cov_{}x{}'.format(img_size, img_size)+'.mat')\n",
    "    Mean_had_1 = sio.loadmat(my_average_file)\n",
    "    Cov_had_1  = sio.loadmat(my_cov_file)\n",
    "\n",
    "    Mean_had_1 = Mean_had_1[\"mu\"]-np.dot(H, np.ones((img_size**2,1)));\n",
    "    Mean_had_1 = np.reshape(Mean_had_1,(img_size, img_size));\n",
    "    Mean_had_1 = np.amax(Mean_had)/np.amax(Mean_had_1)*Mean_had_1;\n",
    "    Cov_had_1 = Cov_had_1[\"C\"];\n",
    "    Cov_had_1 = np.amax(Cov_had)/np.amax(Cov_had_1)*Cov_had_1;\n",
    "    Cov_had = Cov_had_1;\n",
    "    Mean_had = Mean_had_1;\n",
    "\n",
    "else :\n",
    "    H = None;\n",
    "    \n",
    "Var = Cov2Var(Cov_had_1)\n",
    "Perm = Permutation_Matrix(Var)\n",
    "device = torch.device(\"cuda:0\" if torch.cuda.is_available() else \"cpu\")\n"
   ]
  },
  {
   "cell_type": "markdown",
   "metadata": {},
   "source": [
    "# STL-10\n",
    "## Loading Dataset"
   ]
  },
  {
   "cell_type": "code",
   "execution_count": 12,
   "metadata": {},
   "outputs": [],
   "source": [
    "torch.manual_seed(7)\n",
    "\n",
    "transform = transforms.Compose(\n",
    "    [transforms.functional.to_grayscale,\n",
    "     transforms.Resize((img_size, img_size)),\n",
    "     transforms.ToTensor(),\n",
    "     transforms.Normalize([0.5], [0.5])])\n",
    "\n",
    "\n",
    "trainset = \\\n",
    "    torchvision.datasets.STL10(root= data_root, split='train+unlabeled',download=False, transform=transform)\n",
    "trainloader = \\\n",
    "    torch.utils.data.DataLoader(trainset, batch_size=batch_size,shuffle=False)\n",
    "\n",
    "testset = \\\n",
    "    torchvision.datasets.STL10(root = data_root, split='test',download=False, transform=transform)\n",
    "testloader = \\\n",
    "    torch.utils.data.DataLoader(testset, batch_size=batch_size,shuffle=False)\n",
    "\n",
    "dataloaders = {'train':trainloader, 'val':testloader}"
   ]
  },
  {
   "cell_type": "markdown",
   "metadata": {},
   "source": [
    "## Simulated Data (CR = 7/8) \n",
    "### Parameters"
   ]
  },
  {
   "cell_type": "code",
   "execution_count": 13,
   "metadata": {},
   "outputs": [],
   "source": [
    "CR = 512;\n",
    "N0 = 10;\n",
    "# sig = 0.5;\n",
    "sig = 0;\n",
    "\n",
    "\n",
    "# Pmat = np.dot(Perm,H);\n",
    "# Pmat = img_size*Pmat[:CR,:];\n",
    "\n",
    "H_k = img_size*np.dot(Perm,H);\n",
    "Pmat = H_k[:CR,:];\n",
    "Sigma_i = np.dot(np.transpose(H),np.dot(Cov_had,H))\n",
    "# Sigma_1_2 = Inverse_square_root(Sigma_i);"
   ]
  },
  {
   "cell_type": "markdown",
   "metadata": {},
   "source": [
    "### Loading Network"
   ]
  },
  {
   "cell_type": "code",
   "execution_count": 14,
   "metadata": {
    "scrolled": true
   },
   "outputs": [],
   "source": [
    "# net_arch = 2\n",
    "# model_root = '../../models/TCI/Unet/'; #  Path to model saving files\n",
    "# title_1 = model_root+\"U_net_pinv_N0_10_sig_0_N_64_M_512_epo_100_lr_0.001_sss_10_sdr_0.5_bs_64_reg_1e-07\"\n",
    "# denoi_1 = Unet(1,1);\n",
    "# model_1 = noiCompNet(img_size, CR, Mean_had, Cov_had, net_arch, N0, sig, H, denoi=denoi_1);\n",
    "# model_1.Pinv.weight.requires_grad = False; # Pinv isn't used for training or testing, so it has no impact anyway.\n",
    "# model_1 = model_1.to(device);\n",
    "# load_net(title_1, model_1);\n",
    "# model_1.eval()"
   ]
  },
  {
   "cell_type": "code",
   "execution_count": 15,
   "metadata": {},
   "outputs": [],
   "source": [
    "# net_arch = 2\n",
    "# model_root = '../../models/TCI/modl/'\n",
    "# title_2 = model_root + \"_pinv_N0_10_sig_0_Denoi_modl_Iteratif_4_N_64_M_512_epo_40_lr_0.001_sss_10_sdr_0.5_bs_64_reg_1e-07\"\n",
    "# denoi_2 = Unet(1,1);\n",
    "# denoi_2 = iteratif(CR, img_size, Cov_had,H, denoi_2, n_iter = n_iter)\n",
    "# model_2 = noiCompNet(img_size, CR, Mean_had, Cov_had, net_arch, N0, sig, H, denoi=denoi_2);\n",
    "# model_2.Pinv.weight.requires_grad = False; # Pinv isn't used for training or testing, so it has no impact anyway.\n",
    "# model_2 = model_2.to(device);\n",
    "# load_net(title_2, model_2);\n",
    "# model_2.eval()"
   ]
  },
  {
   "cell_type": "code",
   "execution_count": 16,
   "metadata": {},
   "outputs": [],
   "source": [
    "n_iter = 4;\n",
    "# net_arch = 2;\n",
    "# model_root = '../../models/TCI/neumann/'\n",
    "# title_3 = model_root+\"U_net_u_N0_10_sig_0_neumann_4_N_64_M_512_epo_60_lr_0.001_sss_10_sdr_0.5_bs_64_reg_1e-05\"\n",
    "# denoi_3 = Unet(1,1);\n",
    "# denoi_3 = NeumannNet(CR, img_size, Cov_had, H, denoi_3, iterations = n_iter)\n",
    "# model_3 = noiCompNet(img_size, CR, Mean_had, Cov_had, net_arch, N0, sig, H, denoi=denoi_3);\n",
    "# model_3.recon.Gramian.weight.requires_grad = False;\n",
    "# model_3.Pinv.weight.requires_grad = False; # Pinv isn't used for training or testing, so it has no impact anyway.\n",
    "# model_3 = model_3.to(device);\n",
    "# load_net(title_3, model_3);\n",
    "# model_3.eval()"
   ]
  },
  {
   "cell_type": "code",
   "execution_count": 17,
   "metadata": {},
   "outputs": [
    {
     "name": "stdout",
     "output_type": "stream",
     "text": [
      "Measurement to image domain: statistical completion (no mean)\n",
      "Varying N0 = 10 +/- 0\n",
      "Denoised Measurements\n",
      "Model Loaded: ../../models/TCI/EM_net/EM_net_unshared_c0mp_N0_10_sig_0_Denoi_Iteratif_sc_4_N_64_M_512_epo_41_lr_0.001_sss_10_sdr_0.5_bs_64_reg_1e-06\n"
     ]
    },
    {
     "data": {
      "text/plain": [
       "DenoiCompNet(\n",
       "  (Patt): Conv2d(1, 512, kernel_size=(64, 64), stride=(1, 1))\n",
       "  (P): Conv2d(1, 1024, kernel_size=(64, 64), stride=(1, 1))\n",
       "  (Pinv): Linear(in_features=512, out_features=4096, bias=False)\n",
       "  (Pnorm): Linear(in_features=512, out_features=4096, bias=False)\n",
       "  (fc1): Linear(in_features=512, out_features=4096, bias=False)\n",
       "  (recon): EM_net_unshared(\n",
       "    (Pinvtot): Conv2d(1, 4096, kernel_size=(64, 64), stride=(1, 1))\n",
       "    (Pconv): Conv2d(1, 512, kernel_size=(64, 64), stride=(1, 1))\n",
       "    (P): Conv2d(1, 1024, kernel_size=(64, 64), stride=(1, 1))\n",
       "    (denoise_list): ModuleList(\n",
       "      (0): Denoise_layer(in_features=512)\n",
       "      (1): Denoise_layer(in_features=512)\n",
       "      (2): Denoise_layer(in_features=512)\n",
       "      (3): Denoise_layer(in_features=512)\n",
       "    )\n",
       "    (conv): ModuleList(\n",
       "      (0): DConvNet(\n",
       "        (convnet): Sequential(\n",
       "          (conv1): Conv2d(1, 64, kernel_size=(9, 9), stride=(1, 1), padding=(4, 4))\n",
       "          (relu1): ReLU()\n",
       "          (BN1): BatchNorm2d(64, eps=1e-05, momentum=0.1, affine=True, track_running_stats=True)\n",
       "          (conv2): Conv2d(64, 64, kernel_size=(1, 1), stride=(1, 1))\n",
       "          (relu2): ReLU()\n",
       "          (BN2): BatchNorm2d(64, eps=1e-05, momentum=0.1, affine=True, track_running_stats=True)\n",
       "          (conv3): Conv2d(64, 32, kernel_size=(3, 3), stride=(1, 1), padding=(1, 1))\n",
       "          (relu3): ReLU()\n",
       "          (BN3): BatchNorm2d(32, eps=1e-05, momentum=0.1, affine=True, track_running_stats=True)\n",
       "          (conv4): Conv2d(32, 1, kernel_size=(5, 5), stride=(1, 1), padding=(2, 2))\n",
       "        )\n",
       "      )\n",
       "      (1): DConvNet(\n",
       "        (convnet): Sequential(\n",
       "          (conv1): Conv2d(1, 64, kernel_size=(9, 9), stride=(1, 1), padding=(4, 4))\n",
       "          (relu1): ReLU()\n",
       "          (BN1): BatchNorm2d(64, eps=1e-05, momentum=0.1, affine=True, track_running_stats=True)\n",
       "          (conv2): Conv2d(64, 64, kernel_size=(1, 1), stride=(1, 1))\n",
       "          (relu2): ReLU()\n",
       "          (BN2): BatchNorm2d(64, eps=1e-05, momentum=0.1, affine=True, track_running_stats=True)\n",
       "          (conv3): Conv2d(64, 32, kernel_size=(3, 3), stride=(1, 1), padding=(1, 1))\n",
       "          (relu3): ReLU()\n",
       "          (BN3): BatchNorm2d(32, eps=1e-05, momentum=0.1, affine=True, track_running_stats=True)\n",
       "          (conv4): Conv2d(32, 1, kernel_size=(5, 5), stride=(1, 1), padding=(2, 2))\n",
       "        )\n",
       "      )\n",
       "      (2): DConvNet(\n",
       "        (convnet): Sequential(\n",
       "          (conv1): Conv2d(1, 64, kernel_size=(9, 9), stride=(1, 1), padding=(4, 4))\n",
       "          (relu1): ReLU()\n",
       "          (BN1): BatchNorm2d(64, eps=1e-05, momentum=0.1, affine=True, track_running_stats=True)\n",
       "          (conv2): Conv2d(64, 64, kernel_size=(1, 1), stride=(1, 1))\n",
       "          (relu2): ReLU()\n",
       "          (BN2): BatchNorm2d(64, eps=1e-05, momentum=0.1, affine=True, track_running_stats=True)\n",
       "          (conv3): Conv2d(64, 32, kernel_size=(3, 3), stride=(1, 1), padding=(1, 1))\n",
       "          (relu3): ReLU()\n",
       "          (BN3): BatchNorm2d(32, eps=1e-05, momentum=0.1, affine=True, track_running_stats=True)\n",
       "          (conv4): Conv2d(32, 1, kernel_size=(5, 5), stride=(1, 1), padding=(2, 2))\n",
       "        )\n",
       "      )\n",
       "      (3): DConvNet(\n",
       "        (convnet): Sequential(\n",
       "          (conv1): Conv2d(1, 64, kernel_size=(9, 9), stride=(1, 1), padding=(4, 4))\n",
       "          (relu1): ReLU()\n",
       "          (BN1): BatchNorm2d(64, eps=1e-05, momentum=0.1, affine=True, track_running_stats=True)\n",
       "          (conv2): Conv2d(64, 64, kernel_size=(1, 1), stride=(1, 1))\n",
       "          (relu2): ReLU()\n",
       "          (BN2): BatchNorm2d(64, eps=1e-05, momentum=0.1, affine=True, track_running_stats=True)\n",
       "          (conv3): Conv2d(64, 32, kernel_size=(3, 3), stride=(1, 1), padding=(1, 1))\n",
       "          (relu3): ReLU()\n",
       "          (BN3): BatchNorm2d(32, eps=1e-05, momentum=0.1, affine=True, track_running_stats=True)\n",
       "          (conv4): Conv2d(32, 1, kernel_size=(5, 5), stride=(1, 1), padding=(2, 2))\n",
       "        )\n",
       "      )\n",
       "      (4): DConvNet(\n",
       "        (convnet): Sequential(\n",
       "          (conv1): Conv2d(1, 64, kernel_size=(9, 9), stride=(1, 1), padding=(4, 4))\n",
       "          (relu1): ReLU()\n",
       "          (BN1): BatchNorm2d(64, eps=1e-05, momentum=0.1, affine=True, track_running_stats=True)\n",
       "          (conv2): Conv2d(64, 64, kernel_size=(1, 1), stride=(1, 1))\n",
       "          (relu2): ReLU()\n",
       "          (BN2): BatchNorm2d(64, eps=1e-05, momentum=0.1, affine=True, track_running_stats=True)\n",
       "          (conv3): Conv2d(64, 32, kernel_size=(3, 3), stride=(1, 1), padding=(1, 1))\n",
       "          (relu3): ReLU()\n",
       "          (BN3): BatchNorm2d(32, eps=1e-05, momentum=0.1, affine=True, track_running_stats=True)\n",
       "          (conv4): Conv2d(32, 1, kernel_size=(5, 5), stride=(1, 1), padding=(2, 2))\n",
       "        )\n",
       "      )\n",
       "    )\n",
       "    (completion_layer): Linear(in_features=512, out_features=3584, bias=False)\n",
       "  )\n",
       "  (max): MaxPool2d(kernel_size=64, stride=64, padding=0, dilation=1, ceil_mode=False)\n",
       ")"
      ]
     },
     "execution_count": 17,
     "metadata": {},
     "output_type": "execute_result"
    }
   ],
   "source": [
    "net_arch = 0;\n",
    "model_root = '../../models/TCI/EM_net/'\n",
    "title_4 = model_root+\"EM_net_unshared_c0mp_N0_10_sig_0_Denoi_Iteratif_sc_4_N_64_M_512_epo_41_lr_0.001_sss_10_sdr_0.5_bs_64_reg_1e-06\"\n",
    "denoi_4 = DConvNet();\n",
    "denoi_4 = EM_net_unshared(CR, img_size, Cov_had,H, denoi_4, n_iter = n_iter)\n",
    "denoi_4.N0 = N0;\n",
    "model_4 = DenoiCompNet(img_size, CR, Mean_had, Cov_had, net_arch, N0, sig, H, denoi=denoi_4);\n",
    "model_4.recon.completion_layer.weight.requires_grad = False;\n",
    "model_4.Pinv.weight.requires_grad = False; # Pinv isn't used for training or testing, so it has no impact anyway.\n",
    "model_4 = model_4.to(device);\n",
    "load_net(title_4, model_4);\n",
    "model_4.eval()"
   ]
  },
  {
   "cell_type": "code",
   "execution_count": 18,
   "metadata": {},
   "outputs": [],
   "source": [
    "# net_arch = 2\n",
    "# model_root = '../../models/TCI/Unet/'; #  Path to model saving files\n",
    "# title_5 = model_root+\"DCONV_pinv_N0_10_sig_0_Denoi_N_64_M_512_epo_100_lr_0.001_sss_10_sdr_0.5_bs_64_reg_1e-07\"\n",
    "# denoi_5 = DConvNet();\n",
    "# model_5 = noiCompNet(img_size, CR, Mean_had, Cov_had, net_arch, N0, sig, H, denoi=denoi_5);\n",
    "# model_5.Pinv.weight.requires_grad = False; # Pinv isn't used for training or testing, so it has no impact anyway.\n",
    "# model_5 = model_5.to(device);\n",
    "# load_net(title_5, model_5);\n",
    "# model_5.eval()"
   ]
  },
  {
   "cell_type": "code",
   "execution_count": 19,
   "metadata": {},
   "outputs": [
    {
     "name": "stdout",
     "output_type": "stream",
     "text": [
      "Measurement to image domain: statistical completion (no mean)\n",
      "Varying N0 = 10 +/- 0\n",
      "Denoised Measurements\n",
      "Model Loaded: ../../models/TCI/EM_net/EM_net_shared_c0mp_N0_10_sig_0_Denoi_Iteratif_sc_4_N_64_M_512_epo_41_lr_0.001_sss_10_sdr_0.5_bs_64_reg_1e-06\n"
     ]
    },
    {
     "data": {
      "text/plain": [
       "DenoiCompNet(\n",
       "  (Patt): Conv2d(1, 512, kernel_size=(64, 64), stride=(1, 1))\n",
       "  (P): Conv2d(1, 1024, kernel_size=(64, 64), stride=(1, 1))\n",
       "  (Pinv): Linear(in_features=512, out_features=4096, bias=False)\n",
       "  (Pnorm): Linear(in_features=512, out_features=4096, bias=False)\n",
       "  (fc1): Linear(in_features=512, out_features=4096, bias=False)\n",
       "  (recon): EM_net(\n",
       "    (conv): DConvNet(\n",
       "      (convnet): Sequential(\n",
       "        (conv1): Conv2d(1, 64, kernel_size=(9, 9), stride=(1, 1), padding=(4, 4))\n",
       "        (relu1): ReLU()\n",
       "        (BN1): BatchNorm2d(64, eps=1e-05, momentum=0.1, affine=True, track_running_stats=True)\n",
       "        (conv2): Conv2d(64, 64, kernel_size=(1, 1), stride=(1, 1))\n",
       "        (relu2): ReLU()\n",
       "        (BN2): BatchNorm2d(64, eps=1e-05, momentum=0.1, affine=True, track_running_stats=True)\n",
       "        (conv3): Conv2d(64, 32, kernel_size=(3, 3), stride=(1, 1), padding=(1, 1))\n",
       "        (relu3): ReLU()\n",
       "        (BN3): BatchNorm2d(32, eps=1e-05, momentum=0.1, affine=True, track_running_stats=True)\n",
       "        (conv4): Conv2d(32, 1, kernel_size=(5, 5), stride=(1, 1), padding=(2, 2))\n",
       "      )\n",
       "    )\n",
       "    (Pinvtot): Conv2d(1, 4096, kernel_size=(64, 64), stride=(1, 1))\n",
       "    (Pconv): Conv2d(1, 512, kernel_size=(64, 64), stride=(1, 1))\n",
       "    (denoise_list): ModuleList(\n",
       "      (0): Denoise_layer(in_features=512)\n",
       "      (1): Denoise_layer(in_features=512)\n",
       "      (2): Denoise_layer(in_features=512)\n",
       "      (3): Denoise_layer(in_features=512)\n",
       "    )\n",
       "    (completion_layer): Linear(in_features=512, out_features=3584, bias=False)\n",
       "    (P): Conv2d(1, 1024, kernel_size=(64, 64), stride=(1, 1))\n",
       "  )\n",
       "  (max): MaxPool2d(kernel_size=64, stride=64, padding=0, dilation=1, ceil_mode=False)\n",
       ")"
      ]
     },
     "execution_count": 19,
     "metadata": {},
     "output_type": "execute_result"
    }
   ],
   "source": [
    "net_arch = 0;\n",
    "model_root = '../../models/TCI/EM_net/'\n",
    "title_6 = model_root+\"EM_net_shared_c0mp_N0_10_sig_0_Denoi_Iteratif_sc_4_N_64_M_512_epo_41_lr_0.001_sss_10_sdr_0.5_bs_64_reg_1e-06\"\n",
    "denoi_6 = DConvNet();\n",
    "denoi_6 = EM_net(CR, img_size, Cov_had,H, denoi_6, n_iter = n_iter)\n",
    "denoi_6.N0 = N0;\n",
    "model_6 = DenoiCompNet(img_size, CR, Mean_had, Cov_had, net_arch, N0, sig, H, denoi=denoi_6);\n",
    "model_6.Pinv.weight.requires_grad = False; # Pinv isn't used for training or testing, so it has no impact anyway.\n",
    "model_6 = model_6.to(device);\n",
    "load_net(title_6, model_6);\n",
    "model_6.eval()"
   ]
  },
  {
   "cell_type": "markdown",
   "metadata": {},
   "source": [
    "### Compute Metrics Over the Test-set $N_0 = [2,5,10,50]$"
   ]
  },
  {
   "cell_type": "code",
   "execution_count": 20,
   "metadata": {
    "collapsed": true,
    "jupyter": {
     "outputs_hidden": true
    },
    "tags": []
   },
   "outputs": [
    {
     "name": "stdout",
     "output_type": "stream",
     "text": [
      "N0 = 2\n",
      "No = 2, batch = 0 /500 \n",
      "alpha in [2.00--2.00] photons\n",
      "No = 2, batch = 1 /500 \n",
      "alpha in [2.00--2.00] photons\n",
      "No = 2, batch = 2 /500 \n",
      "alpha in [2.00--2.00] photons\n",
      "No = 2, batch = 3 /500 \n",
      "alpha in [2.00--2.00] photons\n",
      "No = 2, batch = 4 /500 \n",
      "alpha in [2.00--2.00] photons\n",
      "No = 2, batch = 5 /500 \n",
      "alpha in [2.00--2.00] photons\n",
      "No = 2, batch = 6 /500 \n",
      "alpha in [2.00--2.00] photons\n",
      "No = 2, batch = 7 /500 \n",
      "alpha in [2.00--2.00] photons\n",
      "No = 2, batch = 8 /500 \n",
      "alpha in [2.00--2.00] photons\n",
      "No = 2, batch = 9 /500 \n",
      "alpha in [2.00--2.00] photons\n",
      "No = 2, batch = 10 /500 \n",
      "alpha in [2.00--2.00] photons\n",
      "No = 2, batch = 11 /500 \n",
      "alpha in [2.00--2.00] photons\n",
      "No = 2, batch = 12 /500 \n",
      "alpha in [2.00--2.00] photons\n",
      "N0 = 3\n",
      "No = 3, batch = 0 /500 \n",
      "alpha in [3.00--3.00] photons\n",
      "No = 3, batch = 1 /500 \n",
      "alpha in [3.00--3.00] photons\n",
      "No = 3, batch = 2 /500 \n",
      "alpha in [3.00--3.00] photons\n",
      "No = 3, batch = 3 /500 \n",
      "alpha in [3.00--3.00] photons\n",
      "No = 3, batch = 4 /500 \n",
      "alpha in [3.00--3.00] photons\n",
      "No = 3, batch = 5 /500 \n",
      "alpha in [3.00--3.00] photons\n",
      "No = 3, batch = 6 /500 \n",
      "alpha in [3.00--3.00] photons\n",
      "No = 3, batch = 7 /500 \n",
      "alpha in [3.00--3.00] photons\n",
      "No = 3, batch = 8 /500 \n",
      "alpha in [3.00--3.00] photons\n",
      "No = 3, batch = 9 /500 \n",
      "alpha in [3.00--3.00] photons\n",
      "No = 3, batch = 10 /500 \n",
      "alpha in [3.00--3.00] photons\n",
      "No = 3, batch = 11 /500 \n",
      "alpha in [3.00--3.00] photons\n",
      "No = 3, batch = 12 /500 \n",
      "alpha in [3.00--3.00] photons\n",
      "N0 = 5\n",
      "No = 5, batch = 0 /500 \n",
      "alpha in [5.00--5.00] photons\n",
      "No = 5, batch = 1 /500 \n",
      "alpha in [5.00--5.00] photons\n",
      "No = 5, batch = 2 /500 \n",
      "alpha in [5.00--5.00] photons\n",
      "No = 5, batch = 3 /500 \n",
      "alpha in [5.00--5.00] photons\n",
      "No = 5, batch = 4 /500 \n",
      "alpha in [5.00--5.00] photons\n",
      "No = 5, batch = 5 /500 \n",
      "alpha in [5.00--5.00] photons\n",
      "No = 5, batch = 6 /500 \n",
      "alpha in [5.00--5.00] photons\n",
      "No = 5, batch = 7 /500 \n",
      "alpha in [5.00--5.00] photons\n",
      "No = 5, batch = 8 /500 \n",
      "alpha in [5.00--5.00] photons\n",
      "No = 5, batch = 9 /500 \n",
      "alpha in [5.00--5.00] photons\n",
      "No = 5, batch = 10 /500 \n",
      "alpha in [5.00--5.00] photons\n",
      "No = 5, batch = 11 /500 \n",
      "alpha in [5.00--5.00] photons\n",
      "No = 5, batch = 12 /500 \n",
      "alpha in [5.00--5.00] photons\n",
      "N0 = 10\n",
      "No = 10, batch = 0 /500 \n",
      "alpha in [10.00--10.00] photons\n",
      "No = 10, batch = 1 /500 \n",
      "alpha in [10.00--10.00] photons\n",
      "No = 10, batch = 2 /500 \n",
      "alpha in [10.00--10.00] photons\n",
      "No = 10, batch = 3 /500 \n",
      "alpha in [10.00--10.00] photons\n",
      "No = 10, batch = 4 /500 \n",
      "alpha in [10.00--10.00] photons\n",
      "No = 10, batch = 5 /500 \n",
      "alpha in [10.00--10.00] photons\n",
      "No = 10, batch = 6 /500 \n",
      "alpha in [10.00--10.00] photons\n",
      "No = 10, batch = 7 /500 \n",
      "alpha in [10.00--10.00] photons\n",
      "No = 10, batch = 8 /500 \n",
      "alpha in [10.00--10.00] photons\n",
      "No = 10, batch = 9 /500 \n",
      "alpha in [10.00--10.00] photons\n",
      "No = 10, batch = 10 /500 \n",
      "alpha in [10.00--10.00] photons\n",
      "No = 10, batch = 11 /500 \n",
      "alpha in [10.00--10.00] photons\n",
      "No = 10, batch = 12 /500 \n",
      "alpha in [10.00--10.00] photons\n",
      "N0 = 50\n",
      "No = 50, batch = 0 /500 \n",
      "alpha in [50.00--50.00] photons\n",
      "No = 50, batch = 1 /500 \n",
      "alpha in [50.00--50.00] photons\n",
      "No = 50, batch = 2 /500 \n",
      "alpha in [50.00--50.00] photons\n",
      "No = 50, batch = 3 /500 \n",
      "alpha in [50.00--50.00] photons\n",
      "No = 50, batch = 4 /500 \n",
      "alpha in [50.00--50.00] photons\n",
      "No = 50, batch = 5 /500 \n",
      "alpha in [50.00--50.00] photons\n",
      "No = 50, batch = 6 /500 \n",
      "alpha in [50.00--50.00] photons\n",
      "No = 50, batch = 7 /500 \n",
      "alpha in [50.00--50.00] photons\n",
      "No = 50, batch = 8 /500 \n",
      "alpha in [50.00--50.00] photons\n",
      "No = 50, batch = 9 /500 \n",
      "alpha in [50.00--50.00] photons\n",
      "No = 50, batch = 10 /500 \n",
      "alpha in [50.00--50.00] photons\n",
      "No = 50, batch = 11 /500 \n",
      "alpha in [50.00--50.00] photons\n",
      "No = 50, batch = 12 /500 \n",
      "alpha in [50.00--50.00] photons\n"
     ]
    }
   ],
   "source": [
    "# N0_list = [5, 10, 50, 2500];\n",
    "N0_list = [2, 3, 5, 10, 50];\n",
    "# N0_list = [2500];\n",
    "title_list = [\"GT\", \"EM Shared\", \"EM Unshared\"]\n",
    "torch.manual_seed(1)\n",
    "Dico = {}\n",
    "\n",
    "for N_0 in N0_list :\n",
    "    print(\"N0 = {}\".format(N_0))\n",
    "    model_4.recon.N0 = N_0\n",
    "    model_6.recon.N0 = N_0\n",
    "    model_4.N0 = N_0;\n",
    "    model_6.N0 = N_0;\n",
    "\n",
    "    n_methods = 2;\n",
    "    out_psnr = \"data_review/psnr_{}_{}_stl_global.pkl\".format(N_0, CR);\n",
    "    out_ssim = \"data_review/ssim_{}_{}_stl_global.pkl\".format(N_0, CR);\n",
    "    if os.path.isfile(out_psnr) and os.path.isfile(out_ssim):\n",
    "        a_file = open(out_psnr, \"rb\")\n",
    "        Dico_psnr = pickle.load(a_file)\n",
    "        a_file.close()\n",
    "        \n",
    "        a_file = open(out_ssim, \"rb\")\n",
    "        Dico_ssim = pickle.load(a_file)\n",
    "        a_file.close()\n",
    "        \n",
    "    else :\n",
    "        psnr_list = [[] for i in range(n_methods)];\n",
    "        ssim_list = [[] for i in range(n_methods)];\n",
    "        Dico_psnr = {};\n",
    "        Dico_ssim = {};\n",
    "        for batch, (inputs, labels) in enumerate(testloader):\n",
    "            [batch_size, c, h, w] = inputs.shape;\n",
    "            inputs = inputs.to(device);\n",
    "            if batch*batch_size < 200:\n",
    "                print(\"No = {}, batch = {} /{} \".format(N_0, batch, len(testloader)))\n",
    "                with torch.no_grad():\n",
    "                    m = model_4.forward_acquire(inputs ,batch_size, 1, img_size, img_size);\n",
    "\n",
    "                    outputs = model_6.forward_reconstruct(m, batch_size, 1, img_size, img_size);\n",
    "                    psnr_list[0]+= batch_psnr(inputs, outputs );\n",
    "                    ssim_list[0]+= batch_ssim(inputs, outputs );\n",
    "    \n",
    "                    outputs = model_4.forward_reconstruct(m, batch_size, 1, img_size, img_size);\n",
    "                    psnr_list[1]+= batch_psnr(inputs, outputs );\n",
    "                    ssim_list[1]+= batch_ssim(inputs, outputs );\n",
    "    \n",
    "\n",
    "        psnr_list = [np.array(psnr_list[i]) for i in range(len(psnr_list))];\n",
    "        ssim_list = [np.array(ssim_list[i]) for i in range(len(ssim_list))];\n",
    "        \n",
    "\n",
    "        Dico_psnr[\"EM Shared\"] = psnr_list[0];\n",
    "        Dico_psnr[\"EM Unshared\"] = psnr_list[1];\n",
    "\n",
    "        Dico_ssim[\"EM Shared\"] = ssim_list[0];\n",
    "        Dico_ssim[\"EM Unshared\"] = ssim_list[1];\n",
    "        \n",
    "        \n",
    "        a_file = open(out_psnr, \"wb\")\n",
    "        pickle.dump(Dico_psnr, a_file)\n",
    "        a_file.close()\n",
    "        \n",
    "        a_file = open(out_ssim, \"wb\")\n",
    "        pickle.dump(Dico_ssim, a_file)\n",
    "        a_file.close()\n",
    "        \n",
    "    Dico[N_0] = [Dico_psnr, Dico_ssim];\n"
   ]
  },
  {
   "cell_type": "code",
   "execution_count": 21,
   "metadata": {},
   "outputs": [],
   "source": [
    "Table = [[r\"$\\alpha$\", \" \"]+title_list[1:]];\n",
    "for N_0 in N0_list :\n",
    "    psnr_list = [Dico[N_0][0][title_list[i]] for i in range(1,len(title_list))]\n",
    "    ssim_list = [Dico[N_0][1][title_list[i]] for i in range(1,len(title_list))]\n",
    "    \n",
    "    psnr_mean = np.round([np.mean(psnr_list[i]) for i in range(len(psnr_list))],2);\n",
    "    ssim_mean = np.round([np.mean(ssim_list[i]) for i in range(len(ssim_list))],2);\n",
    "    \n",
    "    psnr_std = np.round([np.std(psnr_list[i]) for i in range(len(psnr_list))],2);\n",
    "    ssim_std = np.round([np.std(ssim_list[i]) for i in range(len(ssim_list))],2);\n",
    "    \n",
    "    Table.append([\"{}\".format(N_0), \"PSNR\"] + [r\"${} \\pm {}$\".format(psnr_mean[i], psnr_std[i]) for i in range(len(psnr_mean))])\n",
    "    Table.append([\"{}\".format(N_0), \"SSIM\"] + [r\"${} \\pm {}$\".format(ssim_mean[i], ssim_std[i]) for i in range(len(ssim_mean))])"
   ]
  },
  {
   "cell_type": "code",
   "execution_count": 22,
   "metadata": {},
   "outputs": [
    {
     "data": {
      "text/html": [
       "\n",
       "<style>\n",
       "    div#notebook-container    {width: 100%;}\n",
       "    div#menubar-container     {width: 100%;}\n",
       "    div#maintoolbar-container {width: 100%;}\n",
       "</style>\n"
      ],
      "text/plain": [
       "<IPython.core.display.HTML object>"
      ]
     },
     "metadata": {},
     "output_type": "display_data"
    },
    {
     "data": {
      "text/html": [
       "<table>\n",
       "<tbody>\n",
       "<tr><td>$\\alpha$</td><td>    </td><td>EM Shared       </td><td>EM Unshared     </td></tr>\n",
       "<tr><td>2       </td><td>PSNR</td><td>$14.88 \\pm 1.49$</td><td>$15.85 \\pm 1.91$</td></tr>\n",
       "<tr><td>2       </td><td>SSIM</td><td>$0.73 \\pm 0.15$ </td><td>$0.77 \\pm 0.14$ </td></tr>\n",
       "<tr><td>3       </td><td>PSNR</td><td>$16.28 \\pm 2.06$</td><td>$17.07 \\pm 2.49$</td></tr>\n",
       "<tr><td>3       </td><td>SSIM</td><td>$0.8 \\pm 0.13$  </td><td>$0.83 \\pm 0.11$ </td></tr>\n",
       "<tr><td>5       </td><td>PSNR</td><td>$17.7 \\pm 2.76$ </td><td>$18.14 \\pm 3.05$</td></tr>\n",
       "<tr><td>5       </td><td>SSIM</td><td>$0.87 \\pm 0.11$ </td><td>$0.88 \\pm 0.09$ </td></tr>\n",
       "<tr><td>10      </td><td>PSNR</td><td>$18.83 \\pm 3.48$</td><td>$18.94 \\pm 3.55$</td></tr>\n",
       "<tr><td>10      </td><td>SSIM</td><td>$0.91 \\pm 0.07$ </td><td>$0.92 \\pm 0.06$ </td></tr>\n",
       "<tr><td>50      </td><td>PSNR</td><td>$19.45 \\pm 3.89$</td><td>$19.58 \\pm 3.94$</td></tr>\n",
       "<tr><td>50      </td><td>SSIM</td><td>$0.93 \\pm 0.05$ </td><td>$0.94 \\pm 0.06$ </td></tr>\n",
       "</tbody>\n",
       "</table>"
      ],
      "text/plain": [
       "<IPython.core.display.HTML object>"
      ]
     },
     "metadata": {},
     "output_type": "display_data"
    }
   ],
   "source": [
    "display(HTML(data=\"\"\"\n",
    "<style>\n",
    "    div#notebook-container    {width: 100%;}\n",
    "    div#menubar-container     {width: 100%;}\n",
    "    div#maintoolbar-container {width: 100%;}\n",
    "</style>\n",
    "\"\"\"))\n",
    "display(HTML(tabulate.tabulate(Table, tablefmt='html')))\n"
   ]
  },
  {
   "cell_type": "code",
   "execution_count": 23,
   "metadata": {},
   "outputs": [
    {
     "name": "stdout",
     "output_type": "stream",
     "text": [
      "N0 = 2\n",
      "N0 = 3\n",
      "N0 = 5\n",
      "N0 = 10\n",
      "N0 = 50\n"
     ]
    },
    {
     "data": {
      "image/png": "[encoded data removed]",
      "text/plain": [
       "<Figure size 432x288 with 1 Axes>"
      ]
     },
     "metadata": {
      "needs_background": "light"
     },
     "output_type": "display_data"
    },
    {
     "data": {
      "image/png": "[encoded data removed]",
      "text/plain": [
       "<Figure size 432x288 with 1 Axes>"
      ]
     },
     "metadata": {
      "needs_background": "light"
     },
     "output_type": "display_data"
    },
    {
     "data": {
      "image/png": "[encoded data removed]",
      "text/plain": [
       "<Figure size 432x288 with 1 Axes>"
      ]
     },
     "metadata": {
      "needs_background": "light"
     },
     "output_type": "display_data"
    },
    {
     "data": {
      "image/png": "[encoded data removed]",
      "text/plain": [
       "<Figure size 432x288 with 1 Axes>"
      ]
     },
     "metadata": {
      "needs_background": "light"
     },
     "output_type": "display_data"
    },
    {
     "data": {
      "image/png": "[encoded data removed]",
      "text/plain": [
       "<Figure size 432x288 with 1 Axes>"
      ]
     },
     "metadata": {
      "needs_background": "light"
     },
     "output_type": "display_data"
    }
   ],
   "source": [
    "%matplotlib inline\n",
    "pal = sns.color_palette(\"hls\", 8)\n",
    "color = ['#525252']+pal.as_hex()\n",
    "\n",
    "for N_0 in N0_list :\n",
    "    print(\"N0 = {}\".format(N_0))\n",
    "    psnr_list = [Dico[N_0][0][title_list[i]] for i in range(1,len(title_list))]\n",
    "    ssim_list = [Dico[N_0][1][title_list[i]] for i in range(1,len(title_list))]\n",
    "    Dico_1 = {}\n",
    "\n",
    "    for j in range(n_methods):\n",
    "        Dico_1[title_list[j+1]] = psnr_list[j];\n",
    "    dico2violinplot(Dico_1, color)\n"
   ]
  },
  {
   "cell_type": "code",
   "execution_count": 24,
   "metadata": {},
   "outputs": [
    {
     "name": "stdout",
     "output_type": "stream",
     "text": [
      "N0 = 2\n",
      "N0 = 3\n",
      "N0 = 5\n",
      "N0 = 10\n",
      "N0 = 50\n"
     ]
    },
    {
     "data": {
      "image/png": "[encoded data removed]",
      "text/plain": [
       "<Figure size 432x288 with 1 Axes>"
      ]
     },
     "metadata": {
      "needs_background": "light"
     },
     "output_type": "display_data"
    },
    {
     "data": {
      "image/png": "[encoded data removed]",
      "text/plain": [
       "<Figure size 432x288 with 1 Axes>"
      ]
     },
     "metadata": {
      "needs_background": "light"
     },
     "output_type": "display_data"
    },
    {
     "data": {
      "image/png": "[encoded data removed]",
      "text/plain": [
       "<Figure size 432x288 with 1 Axes>"
      ]
     },
     "metadata": {
      "needs_background": "light"
     },
     "output_type": "display_data"
    },
    {
     "data": {
      "image/png": "[encoded data removed]",
      "text/plain": [
       "<Figure size 432x288 with 1 Axes>"
      ]
     },
     "metadata": {
      "needs_background": "light"
     },
     "output_type": "display_data"
    },
    {
     "data": {
      "image/png": "[encoded data removed]",
      "text/plain": [
       "<Figure size 432x288 with 1 Axes>"
      ]
     },
     "metadata": {
      "needs_background": "light"
     },
     "output_type": "display_data"
    }
   ],
   "source": [
    "%matplotlib inline\n",
    "pal = sns.color_palette(\"hls\", 8)\n",
    "color = ['#525252']+pal.as_hex()\n",
    "\n",
    "for N_0 in N0_list :\n",
    "    print(\"N0 = {}\".format(N_0))\n",
    "    psnr_list = [Dico[N_0][0][title_list[i]] for i in range(1,len(title_list))]\n",
    "    ssim_list = [Dico[N_0][1][title_list[i]] for i in range(1,len(title_list))]\n",
    "    Dico_1 = {}\n",
    "\n",
    "    for j in range(n_methods):\n",
    "        Dico_1[title_list[j+1]] = ssim_list[j];\n",
    "    dico2violinplot(Dico_1, color)"
   ]
  },
  {
   "cell_type": "markdown",
   "metadata": {},
   "source": [
    "## Simulated Data (CR = 3/4) \n",
    "### Parameters"
   ]
  },
  {
   "cell_type": "code",
   "execution_count": 25,
   "metadata": {},
   "outputs": [],
   "source": [
    "CR = 1024;\n",
    "N0 = 10;\n",
    "sig = 0;\n",
    "\n",
    "H_k = img_size*np.dot(Perm,H);\n",
    "Pmat = H_k[:CR,:];\n",
    "Sigma_i = np.dot(np.transpose(H),np.dot(Cov_had,H))\n",
    "Sigma_1_2 = Inverse_square_root(Sigma_i);"
   ]
  },
  {
   "cell_type": "markdown",
   "metadata": {},
   "source": [
    "### Loading Network"
   ]
  },
  {
   "cell_type": "code",
   "execution_count": 26,
   "metadata": {
    "scrolled": true
   },
   "outputs": [],
   "source": [
    "# net_arch = 2\n",
    "# model_root = '../../models/TCI_imagenet/Unet/'; #  Path to model saving files\n",
    "# title_1 = model_root+\"U_net_pinv_N0_10_sig_0_N_64_M_1024_epo_50_lr_0.001_sss_10_sdr_0.5_bs_64_reg_1e-07\"\n",
    "# denoi_1 = Unet(1,1);\n",
    "# model_1 = noiCompNet(img_size, CR, Mean_had, Cov_had, net_arch, N0, sig, H, denoi=denoi_1);\n",
    "# model_1.Pinv.weight.requires_grad = False; # Pinv isn't used for training or testing, so it has no impact anyway.\n",
    "# model_1 = model_1.to(device);\n",
    "# load_net(title_1, model_1);\n",
    "# model_1.eval()"
   ]
  },
  {
   "cell_type": "code",
   "execution_count": 27,
   "metadata": {},
   "outputs": [],
   "source": [
    "# net_arch = 2\n",
    "# model_root = '../../models/TCI/modl/'\n",
    "# title_2 = model_root + \"_pinv_N0_10_sig_0_Denoi_modl_Iteratif_4_N_64_M_1024_epo_30_lr_0.001_sss_7_sdr_0.5_bs_64_reg_1e-07\"\n",
    "# denoi_2 = Unet(1,1);\n",
    "# denoi_2 = iteratif(CR, img_size, Cov_had,H, denoi_2, n_iter = n_iter)\n",
    "# model_2 = noiCompNet(img_size, CR, Mean_had, Cov_had, net_arch, N0, sig, H, denoi=denoi_2);\n",
    "# model_2.Pinv.weight.requires_grad = False; # Pinv isn't used for training or testing, so it has no impact anyway.\n",
    "# model_2 = model_2.to(device);\n",
    "# load_net(title_2, model_2);\n",
    "# model_2.eval()"
   ]
  },
  {
   "cell_type": "code",
   "execution_count": 28,
   "metadata": {},
   "outputs": [],
   "source": [
    "n_iter = 4;\n",
    "# net_arch = 2;\n",
    "# model_root = '../../models/TCI/neumann/'\n",
    "# title_3 = model_root+\"U_net_u_N0_10_sig_0_neumann_4_N_64_M_1024_epo_60_lr_0.001_sss_10_sdr_0.5_bs_64_reg_1e-07\"\n",
    "# denoi_3 = Unet(1,1);\n",
    "# denoi_3 = NeumannNet(CR, img_size, Cov_had, H, denoi_3, iterations = n_iter)\n",
    "# model_3 = noiCompNet(img_size, CR, Mean_had, Cov_had, net_arch, N0, sig, H, denoi=denoi_3);\n",
    "# model_3.recon.Gramian.weight.requires_grad = False;\n",
    "# model_3.Pinv.weight.requires_grad = False; # Pinv isn't used for training or testing, so it has no impact anyway.\n",
    "# model_3 = model_3.to(device);\n",
    "# load_net(title_3, model_3);\n",
    "# model_3.eval()"
   ]
  },
  {
   "cell_type": "code",
   "execution_count": 29,
   "metadata": {},
   "outputs": [
    {
     "name": "stdout",
     "output_type": "stream",
     "text": [
      "Measurement to image domain: statistical completion (no mean)\n",
      "Varying N0 = 10 +/- 0\n",
      "Denoised Measurements\n",
      "Model Loaded: ../../models/TCI/EM_net/EM_net_unshared_c0mp_N0_10_sig_0_Denoi_Iteratif_sc_4_N_64_M_1024_epo_31_lr_0.001_sss_10_sdr_0.5_bs_64_reg_1e-06\n"
     ]
    },
    {
     "data": {
      "text/plain": [
       "DenoiCompNet(\n",
       "  (Patt): Conv2d(1, 1024, kernel_size=(64, 64), stride=(1, 1))\n",
       "  (P): Conv2d(1, 2048, kernel_size=(64, 64), stride=(1, 1))\n",
       "  (Pinv): Linear(in_features=1024, out_features=4096, bias=False)\n",
       "  (Pnorm): Linear(in_features=1024, out_features=4096, bias=False)\n",
       "  (fc1): Linear(in_features=1024, out_features=4096, bias=False)\n",
       "  (recon): EM_net_unshared(\n",
       "    (Pinvtot): Conv2d(1, 4096, kernel_size=(64, 64), stride=(1, 1))\n",
       "    (Pconv): Conv2d(1, 1024, kernel_size=(64, 64), stride=(1, 1))\n",
       "    (P): Conv2d(1, 2048, kernel_size=(64, 64), stride=(1, 1))\n",
       "    (denoise_list): ModuleList(\n",
       "      (0): Denoise_layer(in_features=1024)\n",
       "      (1): Denoise_layer(in_features=1024)\n",
       "      (2): Denoise_layer(in_features=1024)\n",
       "      (3): Denoise_layer(in_features=1024)\n",
       "    )\n",
       "    (conv): ModuleList(\n",
       "      (0): DConvNet(\n",
       "        (convnet): Sequential(\n",
       "          (conv1): Conv2d(1, 64, kernel_size=(9, 9), stride=(1, 1), padding=(4, 4))\n",
       "          (relu1): ReLU()\n",
       "          (BN1): BatchNorm2d(64, eps=1e-05, momentum=0.1, affine=True, track_running_stats=True)\n",
       "          (conv2): Conv2d(64, 64, kernel_size=(1, 1), stride=(1, 1))\n",
       "          (relu2): ReLU()\n",
       "          (BN2): BatchNorm2d(64, eps=1e-05, momentum=0.1, affine=True, track_running_stats=True)\n",
       "          (conv3): Conv2d(64, 32, kernel_size=(3, 3), stride=(1, 1), padding=(1, 1))\n",
       "          (relu3): ReLU()\n",
       "          (BN3): BatchNorm2d(32, eps=1e-05, momentum=0.1, affine=True, track_running_stats=True)\n",
       "          (conv4): Conv2d(32, 1, kernel_size=(5, 5), stride=(1, 1), padding=(2, 2))\n",
       "        )\n",
       "      )\n",
       "      (1): DConvNet(\n",
       "        (convnet): Sequential(\n",
       "          (conv1): Conv2d(1, 64, kernel_size=(9, 9), stride=(1, 1), padding=(4, 4))\n",
       "          (relu1): ReLU()\n",
       "          (BN1): BatchNorm2d(64, eps=1e-05, momentum=0.1, affine=True, track_running_stats=True)\n",
       "          (conv2): Conv2d(64, 64, kernel_size=(1, 1), stride=(1, 1))\n",
       "          (relu2): ReLU()\n",
       "          (BN2): BatchNorm2d(64, eps=1e-05, momentum=0.1, affine=True, track_running_stats=True)\n",
       "          (conv3): Conv2d(64, 32, kernel_size=(3, 3), stride=(1, 1), padding=(1, 1))\n",
       "          (relu3): ReLU()\n",
       "          (BN3): BatchNorm2d(32, eps=1e-05, momentum=0.1, affine=True, track_running_stats=True)\n",
       "          (conv4): Conv2d(32, 1, kernel_size=(5, 5), stride=(1, 1), padding=(2, 2))\n",
       "        )\n",
       "      )\n",
       "      (2): DConvNet(\n",
       "        (convnet): Sequential(\n",
       "          (conv1): Conv2d(1, 64, kernel_size=(9, 9), stride=(1, 1), padding=(4, 4))\n",
       "          (relu1): ReLU()\n",
       "          (BN1): BatchNorm2d(64, eps=1e-05, momentum=0.1, affine=True, track_running_stats=True)\n",
       "          (conv2): Conv2d(64, 64, kernel_size=(1, 1), stride=(1, 1))\n",
       "          (relu2): ReLU()\n",
       "          (BN2): BatchNorm2d(64, eps=1e-05, momentum=0.1, affine=True, track_running_stats=True)\n",
       "          (conv3): Conv2d(64, 32, kernel_size=(3, 3), stride=(1, 1), padding=(1, 1))\n",
       "          (relu3): ReLU()\n",
       "          (BN3): BatchNorm2d(32, eps=1e-05, momentum=0.1, affine=True, track_running_stats=True)\n",
       "          (conv4): Conv2d(32, 1, kernel_size=(5, 5), stride=(1, 1), padding=(2, 2))\n",
       "        )\n",
       "      )\n",
       "      (3): DConvNet(\n",
       "        (convnet): Sequential(\n",
       "          (conv1): Conv2d(1, 64, kernel_size=(9, 9), stride=(1, 1), padding=(4, 4))\n",
       "          (relu1): ReLU()\n",
       "          (BN1): BatchNorm2d(64, eps=1e-05, momentum=0.1, affine=True, track_running_stats=True)\n",
       "          (conv2): Conv2d(64, 64, kernel_size=(1, 1), stride=(1, 1))\n",
       "          (relu2): ReLU()\n",
       "          (BN2): BatchNorm2d(64, eps=1e-05, momentum=0.1, affine=True, track_running_stats=True)\n",
       "          (conv3): Conv2d(64, 32, kernel_size=(3, 3), stride=(1, 1), padding=(1, 1))\n",
       "          (relu3): ReLU()\n",
       "          (BN3): BatchNorm2d(32, eps=1e-05, momentum=0.1, affine=True, track_running_stats=True)\n",
       "          (conv4): Conv2d(32, 1, kernel_size=(5, 5), stride=(1, 1), padding=(2, 2))\n",
       "        )\n",
       "      )\n",
       "      (4): DConvNet(\n",
       "        (convnet): Sequential(\n",
       "          (conv1): Conv2d(1, 64, kernel_size=(9, 9), stride=(1, 1), padding=(4, 4))\n",
       "          (relu1): ReLU()\n",
       "          (BN1): BatchNorm2d(64, eps=1e-05, momentum=0.1, affine=True, track_running_stats=True)\n",
       "          (conv2): Conv2d(64, 64, kernel_size=(1, 1), stride=(1, 1))\n",
       "          (relu2): ReLU()\n",
       "          (BN2): BatchNorm2d(64, eps=1e-05, momentum=0.1, affine=True, track_running_stats=True)\n",
       "          (conv3): Conv2d(64, 32, kernel_size=(3, 3), stride=(1, 1), padding=(1, 1))\n",
       "          (relu3): ReLU()\n",
       "          (BN3): BatchNorm2d(32, eps=1e-05, momentum=0.1, affine=True, track_running_stats=True)\n",
       "          (conv4): Conv2d(32, 1, kernel_size=(5, 5), stride=(1, 1), padding=(2, 2))\n",
       "        )\n",
       "      )\n",
       "    )\n",
       "    (completion_layer): Linear(in_features=1024, out_features=3072, bias=False)\n",
       "  )\n",
       "  (max): MaxPool2d(kernel_size=64, stride=64, padding=0, dilation=1, ceil_mode=False)\n",
       ")"
      ]
     },
     "execution_count": 29,
     "metadata": {},
     "output_type": "execute_result"
    }
   ],
   "source": [
    "net_arch = 0;\n",
    "model_root = '../../models/TCI/EM_net/'\n",
    "title_4 = model_root+\"EM_net_unshared_c0mp_N0_10_sig_0_Denoi_Iteratif_sc_4_N_64_M_1024_epo_31_lr_0.001_sss_10_sdr_0.5_bs_64_reg_1e-06\"\n",
    "denoi_4 = DConvNet();\n",
    "denoi_4 = EM_net_unshared(CR, img_size, Cov_had,H, denoi_4, n_iter = n_iter)\n",
    "denoi_4.N0 = N0;\n",
    "model_4 = DenoiCompNet(img_size, CR, Mean_had, Cov_had, net_arch, N0, sig, H, denoi=denoi_4);\n",
    "model_4.recon.completion_layer.weight.requires_grad = False;\n",
    "model_4.Pinv.weight.requires_grad = False; # Pinv isn't used for training or testing, so it has no impact anyway.\n",
    "model_4 = model_4.to(device);\n",
    "load_net(title_4, model_4);\n",
    "model_4.eval()"
   ]
  },
  {
   "cell_type": "code",
   "execution_count": 30,
   "metadata": {},
   "outputs": [],
   "source": [
    "# net_arch = 2\n",
    "# model_root = '../../models/TCI/Unet/'; #  Path to model saving files\n",
    "# title_5 = model_root+\"DCONV_pinv_N0_10_sig_0_Denoi_N_64_M_1024_epo_100_lr_0.001_sss_10_sdr_0.5_bs_64_reg_1e-07\"\n",
    "# denoi_5 = DConvNet();\n",
    "# model_5 = noiCompNet(img_size, CR, Mean_had, Cov_had, net_arch, N0, sig, H, denoi=denoi_5);\n",
    "# model_5.Pinv.weight.requires_grad = False; # Pinv isn't used for training or testing, so it has no impact anyway.\n",
    "# model_5 = model_5.to(device);\n",
    "# load_net(title_5, model_5);\n",
    "# model_5.eval()"
   ]
  },
  {
   "cell_type": "code",
   "execution_count": 31,
   "metadata": {},
   "outputs": [
    {
     "name": "stdout",
     "output_type": "stream",
     "text": [
      "Measurement to image domain: statistical completion (no mean)\n",
      "Varying N0 = 10 +/- 0\n",
      "Denoised Measurements\n",
      "Model Loaded: ../../models/TCI/EM_net/EM_net_shared_c0mp_N0_10_sig_0_Denoi_Iteratif_sc_4_N_64_M_1024_epo_31_lr_0.001_sss_10_sdr_0.5_bs_64_reg_1e-06\n"
     ]
    },
    {
     "data": {
      "text/plain": [
       "DenoiCompNet(\n",
       "  (Patt): Conv2d(1, 1024, kernel_size=(64, 64), stride=(1, 1))\n",
       "  (P): Conv2d(1, 2048, kernel_size=(64, 64), stride=(1, 1))\n",
       "  (Pinv): Linear(in_features=1024, out_features=4096, bias=False)\n",
       "  (Pnorm): Linear(in_features=1024, out_features=4096, bias=False)\n",
       "  (fc1): Linear(in_features=1024, out_features=4096, bias=False)\n",
       "  (recon): EM_net(\n",
       "    (conv): DConvNet(\n",
       "      (convnet): Sequential(\n",
       "        (conv1): Conv2d(1, 64, kernel_size=(9, 9), stride=(1, 1), padding=(4, 4))\n",
       "        (relu1): ReLU()\n",
       "        (BN1): BatchNorm2d(64, eps=1e-05, momentum=0.1, affine=True, track_running_stats=True)\n",
       "        (conv2): Conv2d(64, 64, kernel_size=(1, 1), stride=(1, 1))\n",
       "        (relu2): ReLU()\n",
       "        (BN2): BatchNorm2d(64, eps=1e-05, momentum=0.1, affine=True, track_running_stats=True)\n",
       "        (conv3): Conv2d(64, 32, kernel_size=(3, 3), stride=(1, 1), padding=(1, 1))\n",
       "        (relu3): ReLU()\n",
       "        (BN3): BatchNorm2d(32, eps=1e-05, momentum=0.1, affine=True, track_running_stats=True)\n",
       "        (conv4): Conv2d(32, 1, kernel_size=(5, 5), stride=(1, 1), padding=(2, 2))\n",
       "      )\n",
       "    )\n",
       "    (Pinvtot): Conv2d(1, 4096, kernel_size=(64, 64), stride=(1, 1))\n",
       "    (Pconv): Conv2d(1, 1024, kernel_size=(64, 64), stride=(1, 1))\n",
       "    (denoise_list): ModuleList(\n",
       "      (0): Denoise_layer(in_features=1024)\n",
       "      (1): Denoise_layer(in_features=1024)\n",
       "      (2): Denoise_layer(in_features=1024)\n",
       "      (3): Denoise_layer(in_features=1024)\n",
       "    )\n",
       "    (completion_layer): Linear(in_features=1024, out_features=3072, bias=False)\n",
       "    (P): Conv2d(1, 2048, kernel_size=(64, 64), stride=(1, 1))\n",
       "  )\n",
       "  (max): MaxPool2d(kernel_size=64, stride=64, padding=0, dilation=1, ceil_mode=False)\n",
       ")"
      ]
     },
     "execution_count": 31,
     "metadata": {},
     "output_type": "execute_result"
    }
   ],
   "source": [
    "net_arch = 0;\n",
    "model_root = '../../models/TCI/EM_net/'\n",
    "title_6 = model_root+\"EM_net_shared_c0mp_N0_10_sig_0_Denoi_Iteratif_sc_4_N_64_M_1024_epo_31_lr_0.001_sss_10_sdr_0.5_bs_64_reg_1e-06\"\n",
    "denoi_6 = DConvNet();\n",
    "denoi_6 = EM_net(CR, img_size, Cov_had,H, denoi_6, n_iter = n_iter)\n",
    "denoi_6.N0 = N0;\n",
    "model_6 = DenoiCompNet(img_size, CR, Mean_had, Cov_had, net_arch, N0, sig, H, denoi=denoi_6);\n",
    "model_6.Pinv.weight.requires_grad = False; # Pinv isn't used for training or testing, so it has no impact anyway.\n",
    "model_6 = model_6.to(device);\n",
    "load_net(title_6, model_6);\n",
    "model_6.eval()"
   ]
  },
  {
   "cell_type": "markdown",
   "metadata": {},
   "source": [
    "### Compute Metrics Over the Test-set $N_0 = [2,5,10,50]$"
   ]
  },
  {
   "cell_type": "code",
   "execution_count": 32,
   "metadata": {
    "tags": []
   },
   "outputs": [
    {
     "name": "stdout",
     "output_type": "stream",
     "text": [
      "N0 = 2\n",
      "No = 2, batch = 0 /500 \n",
      "alpha in [2.00--2.00] photons\n",
      "No = 2, batch = 1 /500 \n",
      "alpha in [2.00--2.00] photons\n",
      "No = 2, batch = 2 /500 \n",
      "alpha in [2.00--2.00] photons\n",
      "No = 2, batch = 3 /500 \n",
      "alpha in [2.00--2.00] photons\n",
      "No = 2, batch = 4 /500 \n",
      "alpha in [2.00--2.00] photons\n",
      "No = 2, batch = 5 /500 \n",
      "alpha in [2.00--2.00] photons\n",
      "No = 2, batch = 6 /500 \n",
      "alpha in [2.00--2.00] photons\n",
      "No = 2, batch = 7 /500 \n",
      "alpha in [2.00--2.00] photons\n",
      "No = 2, batch = 8 /500 \n",
      "alpha in [2.00--2.00] photons\n",
      "No = 2, batch = 9 /500 \n",
      "alpha in [2.00--2.00] photons\n",
      "No = 2, batch = 10 /500 \n",
      "alpha in [2.00--2.00] photons\n",
      "No = 2, batch = 11 /500 \n",
      "alpha in [2.00--2.00] photons\n",
      "No = 2, batch = 12 /500 \n",
      "alpha in [2.00--2.00] photons\n",
      "N0 = 3\n",
      "No = 3, batch = 0 /500 \n",
      "alpha in [3.00--3.00] photons\n",
      "No = 3, batch = 1 /500 \n",
      "alpha in [3.00--3.00] photons\n",
      "No = 3, batch = 2 /500 \n",
      "alpha in [3.00--3.00] photons\n",
      "No = 3, batch = 3 /500 \n",
      "alpha in [3.00--3.00] photons\n",
      "No = 3, batch = 4 /500 \n",
      "alpha in [3.00--3.00] photons\n",
      "No = 3, batch = 5 /500 \n",
      "alpha in [3.00--3.00] photons\n",
      "No = 3, batch = 6 /500 \n",
      "alpha in [3.00--3.00] photons\n",
      "No = 3, batch = 7 /500 \n",
      "alpha in [3.00--3.00] photons\n",
      "No = 3, batch = 8 /500 \n",
      "alpha in [3.00--3.00] photons\n",
      "No = 3, batch = 9 /500 \n",
      "alpha in [3.00--3.00] photons\n",
      "No = 3, batch = 10 /500 \n",
      "alpha in [3.00--3.00] photons\n",
      "No = 3, batch = 11 /500 \n",
      "alpha in [3.00--3.00] photons\n",
      "No = 3, batch = 12 /500 \n",
      "alpha in [3.00--3.00] photons\n",
      "N0 = 5\n",
      "No = 5, batch = 0 /500 \n",
      "alpha in [5.00--5.00] photons\n",
      "No = 5, batch = 1 /500 \n",
      "alpha in [5.00--5.00] photons\n",
      "No = 5, batch = 2 /500 \n",
      "alpha in [5.00--5.00] photons\n",
      "No = 5, batch = 3 /500 \n",
      "alpha in [5.00--5.00] photons\n",
      "No = 5, batch = 4 /500 \n",
      "alpha in [5.00--5.00] photons\n",
      "No = 5, batch = 5 /500 \n",
      "alpha in [5.00--5.00] photons\n",
      "No = 5, batch = 6 /500 \n",
      "alpha in [5.00--5.00] photons\n",
      "No = 5, batch = 7 /500 \n",
      "alpha in [5.00--5.00] photons\n",
      "No = 5, batch = 8 /500 \n",
      "alpha in [5.00--5.00] photons\n",
      "No = 5, batch = 9 /500 \n",
      "alpha in [5.00--5.00] photons\n",
      "No = 5, batch = 10 /500 \n",
      "alpha in [5.00--5.00] photons\n",
      "No = 5, batch = 11 /500 \n",
      "alpha in [5.00--5.00] photons\n",
      "No = 5, batch = 12 /500 \n",
      "alpha in [5.00--5.00] photons\n",
      "N0 = 10\n",
      "No = 10, batch = 0 /500 \n",
      "alpha in [10.00--10.00] photons\n",
      "No = 10, batch = 1 /500 \n",
      "alpha in [10.00--10.00] photons\n",
      "No = 10, batch = 2 /500 \n",
      "alpha in [10.00--10.00] photons\n",
      "No = 10, batch = 3 /500 \n",
      "alpha in [10.00--10.00] photons\n",
      "No = 10, batch = 4 /500 \n",
      "alpha in [10.00--10.00] photons\n",
      "No = 10, batch = 5 /500 \n",
      "alpha in [10.00--10.00] photons\n",
      "No = 10, batch = 6 /500 \n",
      "alpha in [10.00--10.00] photons\n",
      "No = 10, batch = 7 /500 \n",
      "alpha in [10.00--10.00] photons\n",
      "No = 10, batch = 8 /500 \n",
      "alpha in [10.00--10.00] photons\n",
      "No = 10, batch = 9 /500 \n",
      "alpha in [10.00--10.00] photons\n",
      "No = 10, batch = 10 /500 \n",
      "alpha in [10.00--10.00] photons\n",
      "No = 10, batch = 11 /500 \n",
      "alpha in [10.00--10.00] photons\n",
      "No = 10, batch = 12 /500 \n",
      "alpha in [10.00--10.00] photons\n",
      "N0 = 50\n",
      "No = 50, batch = 0 /500 \n",
      "alpha in [50.00--50.00] photons\n",
      "No = 50, batch = 1 /500 \n",
      "alpha in [50.00--50.00] photons\n",
      "No = 50, batch = 2 /500 \n",
      "alpha in [50.00--50.00] photons\n",
      "No = 50, batch = 3 /500 \n",
      "alpha in [50.00--50.00] photons\n",
      "No = 50, batch = 4 /500 \n",
      "alpha in [50.00--50.00] photons\n",
      "No = 50, batch = 5 /500 \n",
      "alpha in [50.00--50.00] photons\n",
      "No = 50, batch = 6 /500 \n",
      "alpha in [50.00--50.00] photons\n",
      "No = 50, batch = 7 /500 \n",
      "alpha in [50.00--50.00] photons\n",
      "No = 50, batch = 8 /500 \n",
      "alpha in [50.00--50.00] photons\n",
      "No = 50, batch = 9 /500 \n",
      "alpha in [50.00--50.00] photons\n",
      "No = 50, batch = 10 /500 \n",
      "alpha in [50.00--50.00] photons\n",
      "No = 50, batch = 11 /500 \n",
      "alpha in [50.00--50.00] photons\n",
      "No = 50, batch = 12 /500 \n",
      "alpha in [50.00--50.00] photons\n"
     ]
    }
   ],
   "source": [
    "# N0_list = [5, 10, 50, 2500];\n",
    "N0_list = [2, 3, 5, 10, 50];\n",
    "# N0_list = [2500];\n",
    "title_list = [\"GT\", \"EM Shared\", \"EM Unshared\"]\n",
    "torch.manual_seed(1)\n",
    "Dico = {}\n",
    "\n",
    "for N_0 in N0_list :\n",
    "    print(\"N0 = {}\".format(N_0))\n",
    "    model_4.recon.N0 = N_0\n",
    "    model_6.recon.N0 = N_0\n",
    "    model_4.N0 = N_0;\n",
    "    model_6.N0 = N_0;\n",
    "\n",
    "    n_methods = 2;\n",
    "    out_psnr = \"data_review/psnr_{}_{}_stl_global.pkl\".format(N_0, CR);\n",
    "    out_ssim = \"data_review/ssim_{}_{}_stl_global.pkl\".format(N_0, CR);\n",
    "    if os.path.isfile(out_psnr) and os.path.isfile(out_ssim):\n",
    "        a_file = open(out_psnr, \"rb\")\n",
    "        Dico_psnr = pickle.load(a_file)\n",
    "        a_file.close()\n",
    "        \n",
    "        a_file = open(out_ssim, \"rb\")\n",
    "        Dico_ssim = pickle.load(a_file)\n",
    "        a_file.close()\n",
    "        \n",
    "    else :\n",
    "        psnr_list = [[] for i in range(n_methods)];\n",
    "        ssim_list = [[] for i in range(n_methods)];\n",
    "        Dico_psnr = {};\n",
    "        Dico_ssim = {};\n",
    "        for batch, (inputs, labels) in enumerate(testloader):\n",
    "            [batch_size, c, h, w] = inputs.shape;\n",
    "            inputs = inputs.to(device);\n",
    "            if batch*batch_size < 200:\n",
    "                print(\"No = {}, batch = {} /{} \".format(N_0, batch, len(testloader)))\n",
    "                with torch.no_grad():\n",
    "                    m = model_4.forward_acquire(inputs ,batch_size, 1, img_size, img_size);\n",
    "\n",
    "                    outputs = model_6.forward_reconstruct(m, batch_size, 1, img_size, img_size);\n",
    "                    psnr_list[0]+= batch_psnr(inputs, outputs );\n",
    "                    ssim_list[0]+= batch_ssim(inputs, outputs );\n",
    "    \n",
    "                    outputs = model_4.forward_reconstruct(m, batch_size, 1, img_size, img_size);\n",
    "                    psnr_list[1]+= batch_psnr(inputs, outputs );\n",
    "                    ssim_list[1]+= batch_ssim(inputs, outputs );\n",
    "    \n",
    "\n",
    "        psnr_list = [np.array(psnr_list[i]) for i in range(len(psnr_list))];\n",
    "        ssim_list = [np.array(ssim_list[i]) for i in range(len(ssim_list))];\n",
    "        \n",
    "\n",
    "        Dico_psnr[\"EM Shared\"] = psnr_list[0];\n",
    "        Dico_psnr[\"EM Unshared\"] = psnr_list[1];\n",
    "\n",
    "        Dico_ssim[\"EM Shared\"] = ssim_list[0];\n",
    "        Dico_ssim[\"EM Unshared\"] = ssim_list[1];\n",
    "        \n",
    "        \n",
    "        a_file = open(out_psnr, \"wb\")\n",
    "        pickle.dump(Dico_psnr, a_file)\n",
    "        a_file.close()\n",
    "        \n",
    "        a_file = open(out_ssim, \"wb\")\n",
    "        pickle.dump(Dico_ssim, a_file)\n",
    "        a_file.close()\n",
    "        \n",
    "    Dico[N_0] = [Dico_psnr, Dico_ssim];\n"
   ]
  },
  {
   "cell_type": "code",
   "execution_count": 33,
   "metadata": {},
   "outputs": [],
   "source": [
    "Table = [[r\"$\\alpha$\", \" \"]+title_list[1:]];\n",
    "for N_0 in N0_list :\n",
    "    \n",
    "    psnr_list = [Dico[N_0][0][title_list[i]] for i in range(1,len(title_list))]\n",
    "    ssim_list = [Dico[N_0][1][title_list[i]] for i in range(1,len(title_list))]\n",
    "    \n",
    "    psnr_mean = np.round([np.mean(psnr_list[i]) for i in range(len(psnr_list))],2);\n",
    "    ssim_mean = np.round([np.mean(ssim_list[i]) for i in range(len(ssim_list))],2);\n",
    "    \n",
    "    psnr_std = np.round([np.std(psnr_list[i]) for i in range(len(psnr_list))],2);\n",
    "    ssim_std = np.round([np.std(ssim_list[i]) for i in range(len(ssim_list))],2);\n",
    "    \n",
    "    Table.append([\"{}\".format(N_0), \"PSNR\"] + [r\"${} \\pm {}$\".format(psnr_mean[i], psnr_std[i]) for i in range(len(psnr_mean))])\n",
    "    Table.append([\"{}\".format(N_0), \"SSIM\"] + [r\"${} \\pm {}$\".format(ssim_mean[i], ssim_std[i]) for i in range(len(ssim_mean))])\n"
   ]
  },
  {
   "cell_type": "code",
   "execution_count": 34,
   "metadata": {},
   "outputs": [
    {
     "data": {
      "text/html": [
       "\n",
       "<style>\n",
       "    div#notebook-container    {width: 100%;}\n",
       "    div#menubar-container     {width: 100%;}\n",
       "    div#maintoolbar-container {width: 100%;}\n",
       "</style>\n"
      ],
      "text/plain": [
       "<IPython.core.display.HTML object>"
      ]
     },
     "metadata": {},
     "output_type": "display_data"
    },
    {
     "data": {
      "text/html": [
       "<table>\n",
       "<tbody>\n",
       "<tr><td>$\\alpha$</td><td>    </td><td>EM Shared       </td><td>EM Unshared     </td></tr>\n",
       "<tr><td>2       </td><td>PSNR</td><td>$14.25 \\pm 1.25$</td><td>$14.66 \\pm 1.42$</td></tr>\n",
       "<tr><td>2       </td><td>SSIM</td><td>$0.69 \\pm 0.17$ </td><td>$0.71 \\pm 0.17$ </td></tr>\n",
       "<tr><td>3       </td><td>PSNR</td><td>$15.82 \\pm 1.8$ </td><td>$16.39 \\pm 2.1$ </td></tr>\n",
       "<tr><td>3       </td><td>SSIM</td><td>$0.78 \\pm 0.15$ </td><td>$0.8 \\pm 0.15$  </td></tr>\n",
       "<tr><td>5       </td><td>PSNR</td><td>$17.61 \\pm 2.68$</td><td>$18.11 \\pm 3.01$</td></tr>\n",
       "<tr><td>5       </td><td>SSIM</td><td>$0.86 \\pm 0.13$ </td><td>$0.87 \\pm 0.12$ </td></tr>\n",
       "<tr><td>10      </td><td>PSNR</td><td>$19.07 \\pm 3.57$</td><td>$19.21 \\pm 3.67$</td></tr>\n",
       "<tr><td>10      </td><td>SSIM</td><td>$0.92 \\pm 0.07$ </td><td>$0.93 \\pm 0.07$ </td></tr>\n",
       "<tr><td>50      </td><td>PSNR</td><td>$19.8 \\pm 4.08$ </td><td>$19.86 \\pm 4.07$</td></tr>\n",
       "<tr><td>50      </td><td>SSIM</td><td>$0.94 \\pm 0.05$ </td><td>$0.95 \\pm 0.05$ </td></tr>\n",
       "</tbody>\n",
       "</table>"
      ],
      "text/plain": [
       "<IPython.core.display.HTML object>"
      ]
     },
     "metadata": {},
     "output_type": "display_data"
    }
   ],
   "source": [
    "display(HTML(data=\"\"\"\n",
    "<style>\n",
    "    div#notebook-container    {width: 100%;}\n",
    "    div#menubar-container     {width: 100%;}\n",
    "    div#maintoolbar-container {width: 100%;}\n",
    "</style>\n",
    "\"\"\"))\n",
    "display(HTML(tabulate.tabulate(Table, tablefmt='html')))\n"
   ]
  },
  {
   "cell_type": "code",
   "execution_count": 35,
   "metadata": {},
   "outputs": [
    {
     "name": "stdout",
     "output_type": "stream",
     "text": [
      "N0 = 2\n",
      "N0 = 3\n",
      "N0 = 5\n",
      "N0 = 10\n",
      "N0 = 50\n"
     ]
    },
    {
     "data": {
      "image/png": "[encoded data removed]",
      "text/plain": [
       "<Figure size 432x288 with 1 Axes>"
      ]
     },
     "metadata": {
      "needs_background": "light"
     },
     "output_type": "display_data"
    },
    {
     "data": {
      "image/png": "[encoded data removed]",
      "text/plain": [
       "<Figure size 432x288 with 1 Axes>"
      ]
     },
     "metadata": {
      "needs_background": "light"
     },
     "output_type": "display_data"
    },
    {
     "data": {
      "image/png": "[encoded data removed]",
      "text/plain": [
       "<Figure size 432x288 with 1 Axes>"
      ]
     },
     "metadata": {
      "needs_background": "light"
     },
     "output_type": "display_data"
    },
    {
     "data": {
      "image/png": "[encoded data removed]",
      "text/plain": [
       "<Figure size 432x288 with 1 Axes>"
      ]
     },
     "metadata": {
      "needs_background": "light"
     },
     "output_type": "display_data"
    },
    {
     "data": {
      "image/png": "[encoded data removed]",
      "text/plain": [
       "<Figure size 432x288 with 1 Axes>"
      ]
     },
     "metadata": {
      "needs_background": "light"
     },
     "output_type": "display_data"
    }
   ],
   "source": [
    "%matplotlib inline\n",
    "pal = sns.color_palette(\"hls\", 8)\n",
    "color = ['#525252']+pal.as_hex()\n",
    "\n",
    "for N_0 in N0_list :\n",
    "    print(\"N0 = {}\".format(N_0))\n",
    "    psnr_list = [Dico[N_0][0][title_list[i]] for i in range(1,len(title_list))]\n",
    "    ssim_list = [Dico[N_0][1][title_list[i]] for i in range(1,len(title_list))]\n",
    "    Dico_1 = {}\n",
    "\n",
    "    for j in range(n_methods):\n",
    "        Dico_1[title_list[j+1]] = psnr_list[j];\n",
    "    dico2violinplot(Dico_1, color)\n"
   ]
  },
  {
   "cell_type": "code",
   "execution_count": 36,
   "metadata": {},
   "outputs": [
    {
     "name": "stdout",
     "output_type": "stream",
     "text": [
      "N0 = 2\n",
      "N0 = 3\n",
      "N0 = 5\n",
      "N0 = 10\n",
      "N0 = 50\n"
     ]
    },
    {
     "data": {
      "image/png": "[encoded data removed]",
      "text/plain": [
       "<Figure size 432x288 with 1 Axes>"
      ]
     },
     "metadata": {
      "needs_background": "light"
     },
     "output_type": "display_data"
    },
    {
     "data": {
      "image/png": "[encoded data removed]",
      "text/plain": [
       "<Figure size 432x288 with 1 Axes>"
      ]
     },
     "metadata": {
      "needs_background": "light"
     },
     "output_type": "display_data"
    },
    {
     "data": {
      "image/png": "[encoded data removed]",
      "text/plain": [
       "<Figure size 432x288 with 1 Axes>"
      ]
     },
     "metadata": {
      "needs_background": "light"
     },
     "output_type": "display_data"
    },
    {
     "data": {
      "image/png": "[encoded data removed]",
      "text/plain": [
       "<Figure size 432x288 with 1 Axes>"
      ]
     },
     "metadata": {
      "needs_background": "light"
     },
     "output_type": "display_data"
    },
    {
     "data": {
      "image/png": "[encoded data removed]",
      "text/plain": [
       "<Figure size 432x288 with 1 Axes>"
      ]
     },
     "metadata": {
      "needs_background": "light"
     },
     "output_type": "display_data"
    }
   ],
   "source": [
    "%matplotlib inline\n",
    "pal = sns.color_palette(\"hls\", 8)\n",
    "color = ['#525252']+pal.as_hex()\n",
    "\n",
    "for N_0 in N0_list :\n",
    "    print(\"N0 = {}\".format(N_0))\n",
    "    psnr_list = [Dico[N_0][0][title_list[i]] for i in range(1,len(title_list))]\n",
    "    ssim_list = [Dico[N_0][1][title_list[i]] for i in range(1,len(title_list))]\n",
    "    Dico_1 = {}\n",
    "\n",
    "    for j in range(n_methods):\n",
    "        Dico_1[title_list[j+1]] = ssim_list[j];\n",
    "    dico2violinplot(Dico_1, color)"
   ]
  },
  {
   "cell_type": "markdown",
   "metadata": {},
   "source": [
    "## Imagenet"
   ]
  },
  {
   "cell_type": "code",
   "execution_count": 37,
   "metadata": {},
   "outputs": [],
   "source": [
    "from spyrit.learning.imagenet_dataset import NetImage"
   ]
  },
  {
   "cell_type": "code",
   "execution_count": 38,
   "metadata": {},
   "outputs": [],
   "source": [
    "device = torch.device(\"cuda:0\" if torch.cuda.is_available() else \"cpu\")\n",
    "\n",
    "torch.manual_seed(7)\n",
    "\n",
    "transform = transforms.Compose(\n",
    "    [transforms.functional.to_grayscale,\n",
    "     transforms.Resize((img_size, img_size)),\n",
    "     transforms.ToTensor(),\n",
    "     transforms.Normalize([0.5], [0.5])])\n",
    "\n",
    "\n",
    "\n",
    "trainset = \\\n",
    "      NetImage(root=data_root, train = True, transform=transform)\n",
    "trainloader = \\\n",
    "    torch.utils.data.DataLoader(trainset, batch_size=batch_size,shuffle=False)\n",
    "testset = \\\n",
    "        NetImage(root=data_root, train = False, transform=transform)\n",
    "testloader = \\\n",
    "     torch.utils.data.DataLoader(testset, batch_size=batch_size,shuffle=False)\n",
    "\n",
    "dataloaders = {'train':trainloader, 'val':testloader}\n",
    "num_img = {'train' : len(trainset), 'val' : len(testset)}"
   ]
  },
  {
   "cell_type": "markdown",
   "metadata": {},
   "source": [
    "## Simulated Data (CR = 7/8) \n",
    "### Parameters"
   ]
  },
  {
   "cell_type": "code",
   "execution_count": 39,
   "metadata": {},
   "outputs": [],
   "source": [
    "CR = 512;\n",
    "N0 = 10;\n",
    "sig = 0;\n",
    "\n",
    "H_k = img_size*np.dot(Perm,H);\n",
    "Pmat = H_k[:CR,:];\n",
    "Sigma_i = np.dot(np.transpose(H),np.dot(Cov_had,H))\n",
    "# Sigma_1_2 = Inverse_square_root(Sigma_i);"
   ]
  },
  {
   "cell_type": "markdown",
   "metadata": {},
   "source": [
    "### Loading Network"
   ]
  },
  {
   "cell_type": "code",
   "execution_count": 40,
   "metadata": {
    "scrolled": true
   },
   "outputs": [],
   "source": [
    "# net_arch = 2\n",
    "# model_root = '../../models/TCI_imagenet/Unet/'; #  Path to model saving files\n",
    "# title_1 = model_root+\"U_net_pinv_N0_10_sig_0_N_64_M_512_epo_50_lr_0.001_sss_10_sdr_0.5_bs_64_reg_1e-07\"\n",
    "# denoi_1 = Unet(1,1);\n",
    "# model_1 = noiCompNet(img_size, CR, Mean_had, Cov_had, net_arch, N0, sig, H, denoi=denoi_1);\n",
    "# model_1.Pinv.weight.requires_grad = False; # Pinv isn't used for training or testing, so it has no impact anyway.\n",
    "# model_1 = model_1.to(device);\n",
    "# load_net(title_1, model_1);\n",
    "# model_1.eval()"
   ]
  },
  {
   "cell_type": "code",
   "execution_count": 41,
   "metadata": {
    "tags": []
   },
   "outputs": [],
   "source": [
    "# net_arch = 2\n",
    "# model_root = '../../models/TCI_imagenet/modl/'\n",
    "# title_2 = model_root + \"_pinv_N0_10_sig_0_Denoi_modl_Iteratif_4_N_64_M_512_epo_15_lr_0.001_sss_4_sdr_0.5_bs_64_reg_1e-07\"\n",
    "# denoi_2 = Unet(1,1);\n",
    "# denoi_2 = iteratif(CR, img_size, Cov_had,H, denoi_2, n_iter = n_iter)\n",
    "# model_2 = noiCompNet(img_size, CR, Mean_had, Cov_had, net_arch, N0, sig, H, denoi=denoi_2);\n",
    "# model_2.Pinv.weight.requires_grad = False; # Pinv isn't used for training or testing, so it has no impact anyway.\n",
    "# model_2 = model_2.to(device);\n",
    "# load_net(title_2, model_2);\n",
    "# model_2.eval()"
   ]
  },
  {
   "cell_type": "code",
   "execution_count": 42,
   "metadata": {
    "tags": []
   },
   "outputs": [],
   "source": [
    "n_iter = 4;\n",
    "# net_arch = 2;\n",
    "# model_root = '../../models/TCI_imagenet/neumann/'\n",
    "# title_3 = model_root+\"U_net_u_N0_10_sig_0_neumann_4_N_64_M_512_epo_20_lr_0.001_sss_4_sdr_0.5_bs_64_reg_1e-07\"\n",
    "# denoi_3 = Unet(1,1);\n",
    "# denoi_3 = NeumannNet(CR, img_size, Cov_had, H, denoi_3, iterations = n_iter)\n",
    "# model_3 = noiCompNet(img_size, CR, Mean_had, Cov_had, net_arch, N0, sig, H, denoi=denoi_3);\n",
    "# model_3.recon.Gramian.weight.requires_grad = False; #was done during training script.\n",
    "# model_3.Pinv.weight.requires_grad = False; # Pinv isn't used for training or testing, so it has no impact anyway.\n",
    "# model_3 = model_3.to(device);\n",
    "# load_net(title_3, model_3);\n",
    "# model_3.eval()"
   ]
  },
  {
   "cell_type": "code",
   "execution_count": 43,
   "metadata": {},
   "outputs": [
    {
     "name": "stdout",
     "output_type": "stream",
     "text": [
      "Measurement to image domain: statistical completion (no mean)\n",
      "Varying N0 = 10 +/- 0\n",
      "Denoised Measurements\n",
      "Model Loaded: ../../models/TCI_imagenet/EM_net/EM_net_unshared_c0mp_N0_10_sig_0_Denoi_Iteratif_sc_4_N_64_M_512_epo_11_lr_0.001_sss_4_sdr_0.5_bs_64_reg_1e-07\n"
     ]
    },
    {
     "data": {
      "text/plain": [
       "DenoiCompNet(\n",
       "  (Patt): Conv2d(1, 512, kernel_size=(64, 64), stride=(1, 1))\n",
       "  (P): Conv2d(1, 1024, kernel_size=(64, 64), stride=(1, 1))\n",
       "  (Pinv): Linear(in_features=512, out_features=4096, bias=False)\n",
       "  (Pnorm): Linear(in_features=512, out_features=4096, bias=False)\n",
       "  (fc1): Linear(in_features=512, out_features=4096, bias=False)\n",
       "  (recon): EM_net_unshared(\n",
       "    (Pinvtot): Conv2d(1, 4096, kernel_size=(64, 64), stride=(1, 1))\n",
       "    (Pconv): Conv2d(1, 512, kernel_size=(64, 64), stride=(1, 1))\n",
       "    (P): Conv2d(1, 1024, kernel_size=(64, 64), stride=(1, 1))\n",
       "    (denoise_list): ModuleList(\n",
       "      (0): Denoise_layer(in_features=512)\n",
       "      (1): Denoise_layer(in_features=512)\n",
       "      (2): Denoise_layer(in_features=512)\n",
       "      (3): Denoise_layer(in_features=512)\n",
       "    )\n",
       "    (conv): ModuleList(\n",
       "      (0): DConvNet(\n",
       "        (convnet): Sequential(\n",
       "          (conv1): Conv2d(1, 64, kernel_size=(9, 9), stride=(1, 1), padding=(4, 4))\n",
       "          (relu1): ReLU()\n",
       "          (BN1): BatchNorm2d(64, eps=1e-05, momentum=0.1, affine=True, track_running_stats=True)\n",
       "          (conv2): Conv2d(64, 64, kernel_size=(1, 1), stride=(1, 1))\n",
       "          (relu2): ReLU()\n",
       "          (BN2): BatchNorm2d(64, eps=1e-05, momentum=0.1, affine=True, track_running_stats=True)\n",
       "          (conv3): Conv2d(64, 32, kernel_size=(3, 3), stride=(1, 1), padding=(1, 1))\n",
       "          (relu3): ReLU()\n",
       "          (BN3): BatchNorm2d(32, eps=1e-05, momentum=0.1, affine=True, track_running_stats=True)\n",
       "          (conv4): Conv2d(32, 1, kernel_size=(5, 5), stride=(1, 1), padding=(2, 2))\n",
       "        )\n",
       "      )\n",
       "      (1): DConvNet(\n",
       "        (convnet): Sequential(\n",
       "          (conv1): Conv2d(1, 64, kernel_size=(9, 9), stride=(1, 1), padding=(4, 4))\n",
       "          (relu1): ReLU()\n",
       "          (BN1): BatchNorm2d(64, eps=1e-05, momentum=0.1, affine=True, track_running_stats=True)\n",
       "          (conv2): Conv2d(64, 64, kernel_size=(1, 1), stride=(1, 1))\n",
       "          (relu2): ReLU()\n",
       "          (BN2): BatchNorm2d(64, eps=1e-05, momentum=0.1, affine=True, track_running_stats=True)\n",
       "          (conv3): Conv2d(64, 32, kernel_size=(3, 3), stride=(1, 1), padding=(1, 1))\n",
       "          (relu3): ReLU()\n",
       "          (BN3): BatchNorm2d(32, eps=1e-05, momentum=0.1, affine=True, track_running_stats=True)\n",
       "          (conv4): Conv2d(32, 1, kernel_size=(5, 5), stride=(1, 1), padding=(2, 2))\n",
       "        )\n",
       "      )\n",
       "      (2): DConvNet(\n",
       "        (convnet): Sequential(\n",
       "          (conv1): Conv2d(1, 64, kernel_size=(9, 9), stride=(1, 1), padding=(4, 4))\n",
       "          (relu1): ReLU()\n",
       "          (BN1): BatchNorm2d(64, eps=1e-05, momentum=0.1, affine=True, track_running_stats=True)\n",
       "          (conv2): Conv2d(64, 64, kernel_size=(1, 1), stride=(1, 1))\n",
       "          (relu2): ReLU()\n",
       "          (BN2): BatchNorm2d(64, eps=1e-05, momentum=0.1, affine=True, track_running_stats=True)\n",
       "          (conv3): Conv2d(64, 32, kernel_size=(3, 3), stride=(1, 1), padding=(1, 1))\n",
       "          (relu3): ReLU()\n",
       "          (BN3): BatchNorm2d(32, eps=1e-05, momentum=0.1, affine=True, track_running_stats=True)\n",
       "          (conv4): Conv2d(32, 1, kernel_size=(5, 5), stride=(1, 1), padding=(2, 2))\n",
       "        )\n",
       "      )\n",
       "      (3): DConvNet(\n",
       "        (convnet): Sequential(\n",
       "          (conv1): Conv2d(1, 64, kernel_size=(9, 9), stride=(1, 1), padding=(4, 4))\n",
       "          (relu1): ReLU()\n",
       "          (BN1): BatchNorm2d(64, eps=1e-05, momentum=0.1, affine=True, track_running_stats=True)\n",
       "          (conv2): Conv2d(64, 64, kernel_size=(1, 1), stride=(1, 1))\n",
       "          (relu2): ReLU()\n",
       "          (BN2): BatchNorm2d(64, eps=1e-05, momentum=0.1, affine=True, track_running_stats=True)\n",
       "          (conv3): Conv2d(64, 32, kernel_size=(3, 3), stride=(1, 1), padding=(1, 1))\n",
       "          (relu3): ReLU()\n",
       "          (BN3): BatchNorm2d(32, eps=1e-05, momentum=0.1, affine=True, track_running_stats=True)\n",
       "          (conv4): Conv2d(32, 1, kernel_size=(5, 5), stride=(1, 1), padding=(2, 2))\n",
       "        )\n",
       "      )\n",
       "      (4): DConvNet(\n",
       "        (convnet): Sequential(\n",
       "          (conv1): Conv2d(1, 64, kernel_size=(9, 9), stride=(1, 1), padding=(4, 4))\n",
       "          (relu1): ReLU()\n",
       "          (BN1): BatchNorm2d(64, eps=1e-05, momentum=0.1, affine=True, track_running_stats=True)\n",
       "          (conv2): Conv2d(64, 64, kernel_size=(1, 1), stride=(1, 1))\n",
       "          (relu2): ReLU()\n",
       "          (BN2): BatchNorm2d(64, eps=1e-05, momentum=0.1, affine=True, track_running_stats=True)\n",
       "          (conv3): Conv2d(64, 32, kernel_size=(3, 3), stride=(1, 1), padding=(1, 1))\n",
       "          (relu3): ReLU()\n",
       "          (BN3): BatchNorm2d(32, eps=1e-05, momentum=0.1, affine=True, track_running_stats=True)\n",
       "          (conv4): Conv2d(32, 1, kernel_size=(5, 5), stride=(1, 1), padding=(2, 2))\n",
       "        )\n",
       "      )\n",
       "    )\n",
       "    (completion_layer): Linear(in_features=512, out_features=3584, bias=False)\n",
       "  )\n",
       "  (max): MaxPool2d(kernel_size=64, stride=64, padding=0, dilation=1, ceil_mode=False)\n",
       ")"
      ]
     },
     "execution_count": 43,
     "metadata": {},
     "output_type": "execute_result"
    }
   ],
   "source": [
    "net_arch = 0;\n",
    "model_root = '../../models/TCI_imagenet/EM_net/'\n",
    "title_4 = model_root+\"EM_net_unshared_c0mp_N0_10_sig_0_Denoi_Iteratif_sc_4_N_64_M_512_epo_11_lr_0.001_sss_4_sdr_0.5_bs_64_reg_1e-07\"\n",
    "denoi_4 = DConvNet();\n",
    "denoi_4 = EM_net_unshared(CR, img_size, Cov_had,H, denoi_4, n_iter = n_iter)\n",
    "denoi_4.N0 = N0;\n",
    "model_4 = DenoiCompNet(img_size, CR, Mean_had, Cov_had, net_arch, N0, sig, H, denoi=denoi_4);\n",
    "model_4.recon.completion_layer.weight.requires_grad = False;\n",
    "model_4.Pinv.weight.requires_grad = False; # Pinv isn't used for training or testing, so it has no impact anyway.\n",
    "model_4 = model_4.to(device);\n",
    "load_net(title_4, model_4);\n",
    "model_4.eval()"
   ]
  },
  {
   "cell_type": "code",
   "execution_count": 44,
   "metadata": {},
   "outputs": [],
   "source": [
    "# net_arch = 2\n",
    "# model_root = '../../models/TCI_imagenet/Unet/'; #  Path to model saving files\n",
    "# title_5 = model_root+\"DCONV_pinv_N0_10_sig_0_Denoi_N_64_M_512_epo_50_lr_0.001_sss_10_sdr_0.5_bs_64_reg_1e-07\"\n",
    "# model_5 = noiCompNet(img_size, CR, Mean_had, Cov_had, net_arch, N0, sig, H, denoi=denoi_5);\n",
    "# model_5.Pinv.weight.requires_grad = False; # Pinv isn't used for training or testing, so it has no impact anyway.\n",
    "# model_5 = model_5.to(device);\n",
    "# load_net(title_5, model_5);\n",
    "# model_5.eval()"
   ]
  },
  {
   "cell_type": "code",
   "execution_count": 45,
   "metadata": {},
   "outputs": [
    {
     "name": "stdout",
     "output_type": "stream",
     "text": [
      "Measurement to image domain: statistical completion (no mean)\n",
      "Varying N0 = 10 +/- 0\n",
      "Denoised Measurements\n",
      "Model Loaded: ../../models/TCI_imagenet/EM_net/EM_net_shared_c0mp_N0_10_sig_0_Denoi_Iteratif_sc_4_N_64_M_512_epo_11_lr_0.001_sss_4_sdr_0.5_bs_64_reg_1e-07\n"
     ]
    },
    {
     "data": {
      "text/plain": [
       "DenoiCompNet(\n",
       "  (Patt): Conv2d(1, 512, kernel_size=(64, 64), stride=(1, 1))\n",
       "  (P): Conv2d(1, 1024, kernel_size=(64, 64), stride=(1, 1))\n",
       "  (Pinv): Linear(in_features=512, out_features=4096, bias=False)\n",
       "  (Pnorm): Linear(in_features=512, out_features=4096, bias=False)\n",
       "  (fc1): Linear(in_features=512, out_features=4096, bias=False)\n",
       "  (recon): EM_net(\n",
       "    (conv): DConvNet(\n",
       "      (convnet): Sequential(\n",
       "        (conv1): Conv2d(1, 64, kernel_size=(9, 9), stride=(1, 1), padding=(4, 4))\n",
       "        (relu1): ReLU()\n",
       "        (BN1): BatchNorm2d(64, eps=1e-05, momentum=0.1, affine=True, track_running_stats=True)\n",
       "        (conv2): Conv2d(64, 64, kernel_size=(1, 1), stride=(1, 1))\n",
       "        (relu2): ReLU()\n",
       "        (BN2): BatchNorm2d(64, eps=1e-05, momentum=0.1, affine=True, track_running_stats=True)\n",
       "        (conv3): Conv2d(64, 32, kernel_size=(3, 3), stride=(1, 1), padding=(1, 1))\n",
       "        (relu3): ReLU()\n",
       "        (BN3): BatchNorm2d(32, eps=1e-05, momentum=0.1, affine=True, track_running_stats=True)\n",
       "        (conv4): Conv2d(32, 1, kernel_size=(5, 5), stride=(1, 1), padding=(2, 2))\n",
       "      )\n",
       "    )\n",
       "    (Pinvtot): Conv2d(1, 4096, kernel_size=(64, 64), stride=(1, 1))\n",
       "    (Pconv): Conv2d(1, 512, kernel_size=(64, 64), stride=(1, 1))\n",
       "    (denoise_list): ModuleList(\n",
       "      (0): Denoise_layer(in_features=512)\n",
       "      (1): Denoise_layer(in_features=512)\n",
       "      (2): Denoise_layer(in_features=512)\n",
       "      (3): Denoise_layer(in_features=512)\n",
       "    )\n",
       "    (completion_layer): Linear(in_features=512, out_features=3584, bias=False)\n",
       "    (P): Conv2d(1, 1024, kernel_size=(64, 64), stride=(1, 1))\n",
       "  )\n",
       "  (max): MaxPool2d(kernel_size=64, stride=64, padding=0, dilation=1, ceil_mode=False)\n",
       ")"
      ]
     },
     "execution_count": 45,
     "metadata": {},
     "output_type": "execute_result"
    }
   ],
   "source": [
    "net_arch = 0;\n",
    "model_root = '../../models/TCI_imagenet/EM_net/'\n",
    "title_6 = model_root+\"EM_net_shared_c0mp_N0_10_sig_0_Denoi_Iteratif_sc_4_N_64_M_512_epo_11_lr_0.001_sss_4_sdr_0.5_bs_64_reg_1e-07\"\n",
    "denoi_6 = DConvNet();\n",
    "denoi_6 = EM_net(CR, img_size, Cov_had,H, denoi_6, n_iter = n_iter)\n",
    "denoi_6.N0 = N0;\n",
    "model_6 = DenoiCompNet(img_size, CR, Mean_had, Cov_had, net_arch, N0, sig, H, denoi=denoi_6);\n",
    "model_6.Pinv.weight.requires_grad = False; # Pinv isn't used for training or testing, so it has no impact anyway.\n",
    "model_6 = model_6.to(device);\n",
    "load_net(title_6, model_6);\n",
    "model_6.eval()"
   ]
  },
  {
   "cell_type": "markdown",
   "metadata": {},
   "source": [
    "### Compute Metrics Over the Test-set $N_0 = [2,5,10,50]$"
   ]
  },
  {
   "cell_type": "code",
   "execution_count": 46,
   "metadata": {
    "collapsed": true,
    "jupyter": {
     "outputs_hidden": true
    },
    "tags": []
   },
   "outputs": [
    {
     "name": "stdout",
     "output_type": "stream",
     "text": [
      "N0 = 2\n",
      "No = 2, batch = 0 /3125 \n",
      "alpha in [2.00--2.00] photons\n",
      "No = 2, batch = 1 /3125 \n",
      "alpha in [2.00--2.00] photons\n",
      "No = 2, batch = 2 /3125 \n",
      "alpha in [2.00--2.00] photons\n",
      "No = 2, batch = 3 /3125 \n",
      "alpha in [2.00--2.00] photons\n",
      "No = 2, batch = 4 /3125 \n",
      "alpha in [2.00--2.00] photons\n",
      "No = 2, batch = 5 /3125 \n",
      "alpha in [2.00--2.00] photons\n",
      "No = 2, batch = 6 /3125 \n",
      "alpha in [2.00--2.00] photons\n",
      "No = 2, batch = 7 /3125 \n",
      "alpha in [2.00--2.00] photons\n",
      "No = 2, batch = 8 /3125 \n",
      "alpha in [2.00--2.00] photons\n",
      "No = 2, batch = 9 /3125 \n",
      "alpha in [2.00--2.00] photons\n",
      "No = 2, batch = 10 /3125 \n",
      "alpha in [2.00--2.00] photons\n",
      "No = 2, batch = 11 /3125 \n",
      "alpha in [2.00--2.00] photons\n",
      "No = 2, batch = 12 /3125 \n",
      "alpha in [2.00--2.00] photons\n",
      "N0 = 3\n",
      "No = 3, batch = 0 /3125 \n",
      "alpha in [3.00--3.00] photons\n",
      "No = 3, batch = 1 /3125 \n",
      "alpha in [3.00--3.00] photons\n",
      "No = 3, batch = 2 /3125 \n",
      "alpha in [3.00--3.00] photons\n",
      "No = 3, batch = 3 /3125 \n",
      "alpha in [3.00--3.00] photons\n",
      "No = 3, batch = 4 /3125 \n",
      "alpha in [3.00--3.00] photons\n",
      "No = 3, batch = 5 /3125 \n",
      "alpha in [3.00--3.00] photons\n",
      "No = 3, batch = 6 /3125 \n",
      "alpha in [3.00--3.00] photons\n",
      "No = 3, batch = 7 /3125 \n",
      "alpha in [3.00--3.00] photons\n",
      "No = 3, batch = 8 /3125 \n",
      "alpha in [3.00--3.00] photons\n",
      "No = 3, batch = 9 /3125 \n",
      "alpha in [3.00--3.00] photons\n",
      "No = 3, batch = 10 /3125 \n",
      "alpha in [3.00--3.00] photons\n",
      "No = 3, batch = 11 /3125 \n",
      "alpha in [3.00--3.00] photons\n",
      "No = 3, batch = 12 /3125 \n",
      "alpha in [3.00--3.00] photons\n",
      "N0 = 5\n",
      "No = 5, batch = 0 /3125 \n",
      "alpha in [5.00--5.00] photons\n",
      "No = 5, batch = 1 /3125 \n",
      "alpha in [5.00--5.00] photons\n",
      "No = 5, batch = 2 /3125 \n",
      "alpha in [5.00--5.00] photons\n",
      "No = 5, batch = 3 /3125 \n",
      "alpha in [5.00--5.00] photons\n",
      "No = 5, batch = 4 /3125 \n",
      "alpha in [5.00--5.00] photons\n",
      "No = 5, batch = 5 /3125 \n",
      "alpha in [5.00--5.00] photons\n",
      "No = 5, batch = 6 /3125 \n",
      "alpha in [5.00--5.00] photons\n",
      "No = 5, batch = 7 /3125 \n",
      "alpha in [5.00--5.00] photons\n",
      "No = 5, batch = 8 /3125 \n",
      "alpha in [5.00--5.00] photons\n",
      "No = 5, batch = 9 /3125 \n",
      "alpha in [5.00--5.00] photons\n",
      "No = 5, batch = 10 /3125 \n",
      "alpha in [5.00--5.00] photons\n",
      "No = 5, batch = 11 /3125 \n",
      "alpha in [5.00--5.00] photons\n",
      "No = 5, batch = 12 /3125 \n",
      "alpha in [5.00--5.00] photons\n",
      "N0 = 10\n",
      "No = 10, batch = 0 /3125 \n",
      "alpha in [10.00--10.00] photons\n",
      "No = 10, batch = 1 /3125 \n",
      "alpha in [10.00--10.00] photons\n",
      "No = 10, batch = 2 /3125 \n",
      "alpha in [10.00--10.00] photons\n",
      "No = 10, batch = 3 /3125 \n",
      "alpha in [10.00--10.00] photons\n",
      "No = 10, batch = 4 /3125 \n",
      "alpha in [10.00--10.00] photons\n",
      "No = 10, batch = 5 /3125 \n",
      "alpha in [10.00--10.00] photons\n",
      "No = 10, batch = 6 /3125 \n",
      "alpha in [10.00--10.00] photons\n",
      "No = 10, batch = 7 /3125 \n",
      "alpha in [10.00--10.00] photons\n",
      "No = 10, batch = 8 /3125 \n",
      "alpha in [10.00--10.00] photons\n",
      "No = 10, batch = 9 /3125 \n",
      "alpha in [10.00--10.00] photons\n",
      "No = 10, batch = 10 /3125 \n",
      "alpha in [10.00--10.00] photons\n",
      "No = 10, batch = 11 /3125 \n",
      "alpha in [10.00--10.00] photons\n",
      "No = 10, batch = 12 /3125 \n",
      "alpha in [10.00--10.00] photons\n",
      "N0 = 50\n",
      "No = 50, batch = 0 /3125 \n",
      "alpha in [50.00--50.00] photons\n",
      "No = 50, batch = 1 /3125 \n",
      "alpha in [50.00--50.00] photons\n",
      "No = 50, batch = 2 /3125 \n",
      "alpha in [50.00--50.00] photons\n",
      "No = 50, batch = 3 /3125 \n",
      "alpha in [50.00--50.00] photons\n",
      "No = 50, batch = 4 /3125 \n",
      "alpha in [50.00--50.00] photons\n",
      "No = 50, batch = 5 /3125 \n",
      "alpha in [50.00--50.00] photons\n",
      "No = 50, batch = 6 /3125 \n",
      "alpha in [50.00--50.00] photons\n",
      "No = 50, batch = 7 /3125 \n",
      "alpha in [50.00--50.00] photons\n",
      "No = 50, batch = 8 /3125 \n",
      "alpha in [50.00--50.00] photons\n",
      "No = 50, batch = 9 /3125 \n",
      "alpha in [50.00--50.00] photons\n",
      "No = 50, batch = 10 /3125 \n",
      "alpha in [50.00--50.00] photons\n",
      "No = 50, batch = 11 /3125 \n",
      "alpha in [50.00--50.00] photons\n",
      "No = 50, batch = 12 /3125 \n",
      "alpha in [50.00--50.00] photons\n"
     ]
    }
   ],
   "source": [
    "# N0_list = [5, 10, 50, 2500];\n",
    "N0_list = [2, 3, 5, 10, 50];\n",
    "# N0_list = [2500];\n",
    "title_list = [\"GT\", \"EM Shared\", \"EM Unshared\"]\n",
    "torch.manual_seed(1)\n",
    "Dico = {}\n",
    "\n",
    "for N_0 in N0_list :\n",
    "    print(\"N0 = {}\".format(N_0))\n",
    "    model_4.recon.N0 = N_0\n",
    "    model_6.recon.N0 = N_0\n",
    "    model_4.N0 = N_0;\n",
    "    model_6.N0 = N_0;\n",
    "\n",
    "    n_methods = 2;\n",
    "    out_psnr = \"data_review/psnr_{}_{}_imagenet_global.pkl\".format(N_0, CR);\n",
    "    out_ssim = \"data_review/ssim_{}_{}_imagenet_global.pkl\".format(N_0, CR);\n",
    "    if os.path.isfile(out_psnr) and os.path.isfile(out_ssim):\n",
    "        a_file = open(out_psnr, \"rb\")\n",
    "        Dico_psnr = pickle.load(a_file)\n",
    "        a_file.close()\n",
    "        \n",
    "        a_file = open(out_ssim, \"rb\")\n",
    "        Dico_ssim = pickle.load(a_file)\n",
    "        a_file.close()\n",
    "        \n",
    "    else :\n",
    "        psnr_list = [[] for i in range(n_methods)];\n",
    "        ssim_list = [[] for i in range(n_methods)];\n",
    "        Dico_psnr = {};\n",
    "        Dico_ssim = {};\n",
    "        for batch, (inputs, labels) in enumerate(testloader):\n",
    "            [batch_size, c, h, w] = inputs.shape;\n",
    "            inputs = inputs.to(device);\n",
    "            if batch*batch_size < 200:\n",
    "                print(\"No = {}, batch = {} /{} \".format(N_0, batch, len(testloader)))\n",
    "                with torch.no_grad():\n",
    "                    m = model_4.forward_acquire(inputs ,batch_size, 1, img_size, img_size);\n",
    "\n",
    "                    outputs = model_6.forward_reconstruct(m, batch_size, 1, img_size, img_size);\n",
    "                    psnr_list[0]+= batch_psnr(inputs, outputs );\n",
    "                    ssim_list[0]+= batch_ssim(inputs, outputs );\n",
    "    \n",
    "                    outputs = model_4.forward_reconstruct(m, batch_size, 1, img_size, img_size);\n",
    "                    psnr_list[1]+= batch_psnr(inputs, outputs );\n",
    "                    ssim_list[1]+= batch_ssim(inputs, outputs );\n",
    "    \n",
    "\n",
    "        psnr_list = [np.array(psnr_list[i]) for i in range(len(psnr_list))];\n",
    "        ssim_list = [np.array(ssim_list[i]) for i in range(len(ssim_list))];\n",
    "        \n",
    "\n",
    "        Dico_psnr[\"EM Shared\"] = psnr_list[0];\n",
    "        Dico_psnr[\"EM Unshared\"] = psnr_list[1];\n",
    "\n",
    "        Dico_ssim[\"EM Shared\"] = ssim_list[0];\n",
    "        Dico_ssim[\"EM Unshared\"] = ssim_list[1];\n",
    "        \n",
    "        \n",
    "        a_file = open(out_psnr, \"wb\")\n",
    "        pickle.dump(Dico_psnr, a_file)\n",
    "        a_file.close()\n",
    "        \n",
    "        a_file = open(out_ssim, \"wb\")\n",
    "        pickle.dump(Dico_ssim, a_file)\n",
    "        a_file.close()\n",
    "        \n",
    "    Dico[N_0] = [Dico_psnr, Dico_ssim];\n"
   ]
  },
  {
   "cell_type": "code",
   "execution_count": 47,
   "metadata": {},
   "outputs": [],
   "source": [
    "Table = [[r\"$\\alpha$\", \" \"]+title_list[1:]];\n",
    "for N_0 in N0_list :\n",
    "    \n",
    "    psnr_list = [Dico[N_0][0][title_list[i]] for i in range(1,len(title_list))]\n",
    "    ssim_list = [Dico[N_0][1][title_list[i]] for i in range(1,len(title_list))]\n",
    "    \n",
    "    psnr_mean = np.round([np.mean(psnr_list[i]) for i in range(len(psnr_list))],2);\n",
    "    ssim_mean = np.round([np.mean(ssim_list[i]) for i in range(len(ssim_list))],2);\n",
    "    \n",
    "    psnr_std = np.round([np.std(psnr_list[i]) for i in range(len(psnr_list))],2);\n",
    "    ssim_std = np.round([np.std(ssim_list[i]) for i in range(len(ssim_list))],2);\n",
    "    \n",
    "    Table.append([\"{}\".format(N_0), \"PSNR\"] + [r\"${} \\pm {}$\".format(psnr_mean[i], psnr_std[i]) for i in range(len(psnr_mean))])\n",
    "    Table.append([\"{}\".format(N_0), \"SSIM\"] + [r\"${} \\pm {}$\".format(ssim_mean[i], ssim_std[i]) for i in range(len(ssim_mean))])\n"
   ]
  },
  {
   "cell_type": "code",
   "execution_count": 48,
   "metadata": {},
   "outputs": [
    {
     "data": {
      "text/html": [
       "\n",
       "<style>\n",
       "    div#notebook-container    {width: 100%;}\n",
       "    div#menubar-container     {width: 100%;}\n",
       "    div#maintoolbar-container {width: 100%;}\n",
       "</style>\n"
      ],
      "text/plain": [
       "<IPython.core.display.HTML object>"
      ]
     },
     "metadata": {},
     "output_type": "display_data"
    },
    {
     "data": {
      "text/html": [
       "<table>\n",
       "<tbody>\n",
       "<tr><td>$\\alpha$</td><td>    </td><td>EM Shared       </td><td>EM Unshared     </td></tr>\n",
       "<tr><td>2       </td><td>PSNR</td><td>$14.37 \\pm 1.93$</td><td>$15.12 \\pm 2.32$</td></tr>\n",
       "<tr><td>2       </td><td>SSIM</td><td>$0.71 \\pm 0.16$ </td><td>$0.75 \\pm 0.15$ </td></tr>\n",
       "<tr><td>3       </td><td>PSNR</td><td>$15.53 \\pm 2.47$</td><td>$16.12 \\pm 2.86$</td></tr>\n",
       "<tr><td>3       </td><td>SSIM</td><td>$0.78 \\pm 0.14$ </td><td>$0.81 \\pm 0.13$ </td></tr>\n",
       "<tr><td>5       </td><td>PSNR</td><td>$16.72 \\pm 3.2$ </td><td>$17.02 \\pm 3.46$</td></tr>\n",
       "<tr><td>5       </td><td>SSIM</td><td>$0.85 \\pm 0.1$  </td><td>$0.86 \\pm 0.09$ </td></tr>\n",
       "<tr><td>10      </td><td>PSNR</td><td>$17.6 \\pm 3.85$ </td><td>$17.67 \\pm 3.9$ </td></tr>\n",
       "<tr><td>10      </td><td>SSIM</td><td>$0.9 \\pm 0.07$  </td><td>$0.9 \\pm 0.07$  </td></tr>\n",
       "<tr><td>50      </td><td>PSNR</td><td>$18.08 \\pm 4.22$</td><td>$18.22 \\pm 4.29$</td></tr>\n",
       "<tr><td>50      </td><td>SSIM</td><td>$0.91 \\pm 0.08$ </td><td>$0.92 \\pm 0.07$ </td></tr>\n",
       "</tbody>\n",
       "</table>"
      ],
      "text/plain": [
       "<IPython.core.display.HTML object>"
      ]
     },
     "metadata": {},
     "output_type": "display_data"
    }
   ],
   "source": [
    "display(HTML(data=\"\"\"\n",
    "<style>\n",
    "    div#notebook-container    {width: 100%;}\n",
    "    div#menubar-container     {width: 100%;}\n",
    "    div#maintoolbar-container {width: 100%;}\n",
    "</style>\n",
    "\"\"\"))\n",
    "display(HTML(tabulate.tabulate(Table, tablefmt='html')))\n"
   ]
  },
  {
   "cell_type": "code",
   "execution_count": 49,
   "metadata": {},
   "outputs": [
    {
     "name": "stdout",
     "output_type": "stream",
     "text": [
      "N0 = 2\n",
      "N0 = 3\n",
      "N0 = 5\n",
      "N0 = 10\n",
      "N0 = 50\n"
     ]
    },
    {
     "data": {
      "image/png": "[encoded data removed]",
      "text/plain": [
       "<Figure size 432x288 with 1 Axes>"
      ]
     },
     "metadata": {
      "needs_background": "light"
     },
     "output_type": "display_data"
    },
    {
     "data": {
      "image/png": "[encoded data removed]",
      "text/plain": [
       "<Figure size 432x288 with 1 Axes>"
      ]
     },
     "metadata": {
      "needs_background": "light"
     },
     "output_type": "display_data"
    },
    {
     "data": {
      "image/png": "[encoded data removed]",
      "text/plain": [
       "<Figure size 432x288 with 1 Axes>"
      ]
     },
     "metadata": {
      "needs_background": "light"
     },
     "output_type": "display_data"
    },
    {
     "data": {
      "image/png": "[encoded data removed]",
      "text/plain": [
       "<Figure size 432x288 with 1 Axes>"
      ]
     },
     "metadata": {
      "needs_background": "light"
     },
     "output_type": "display_data"
    },
    {
     "data": {
      "image/png": "[encoded data removed]",
      "text/plain": [
       "<Figure size 432x288 with 1 Axes>"
      ]
     },
     "metadata": {
      "needs_background": "light"
     },
     "output_type": "display_data"
    }
   ],
   "source": [
    "%matplotlib inline\n",
    "pal = sns.color_palette(\"hls\", 8)\n",
    "color = ['#525252']+pal.as_hex()\n",
    "\n",
    "for N_0 in N0_list :\n",
    "    print(\"N0 = {}\".format(N_0))\n",
    "    psnr_list = [Dico[N_0][0][title_list[i]] for i in range(1,len(title_list))]\n",
    "    ssim_list = [Dico[N_0][1][title_list[i]] for i in range(1,len(title_list))]\n",
    "#     pmdr_list = [Dico[N_0][1][title_list[i]] for i in range(1,len(title_list))]\n",
    "    Dico_1 = {}\n",
    "\n",
    "    for j in range(n_methods):\n",
    "        Dico_1[title_list[j+1]] = psnr_list[j];\n",
    "    dico2violinplot(Dico_1, color)\n"
   ]
  },
  {
   "cell_type": "code",
   "execution_count": 50,
   "metadata": {},
   "outputs": [
    {
     "name": "stdout",
     "output_type": "stream",
     "text": [
      "N0 = 2\n",
      "N0 = 3\n",
      "N0 = 5\n",
      "N0 = 10\n",
      "N0 = 50\n"
     ]
    },
    {
     "data": {
      "image/png": "[encoded data removed]",
      "text/plain": [
       "<Figure size 432x288 with 1 Axes>"
      ]
     },
     "metadata": {
      "needs_background": "light"
     },
     "output_type": "display_data"
    },
    {
     "data": {
      "image/png": "[encoded data removed]",
      "text/plain": [
       "<Figure size 432x288 with 1 Axes>"
      ]
     },
     "metadata": {
      "needs_background": "light"
     },
     "output_type": "display_data"
    },
    {
     "data": {
      "image/png": "[encoded data removed]",
      "text/plain": [
       "<Figure size 432x288 with 1 Axes>"
      ]
     },
     "metadata": {
      "needs_background": "light"
     },
     "output_type": "display_data"
    },
    {
     "data": {
      "image/png": "[encoded data removed]",
      "text/plain": [
       "<Figure size 432x288 with 1 Axes>"
      ]
     },
     "metadata": {
      "needs_background": "light"
     },
     "output_type": "display_data"
    },
    {
     "data": {
      "image/png": "[encoded data removed]",
      "text/plain": [
       "<Figure size 432x288 with 1 Axes>"
      ]
     },
     "metadata": {
      "needs_background": "light"
     },
     "output_type": "display_data"
    }
   ],
   "source": [
    "%matplotlib inline\n",
    "pal = sns.color_palette(\"hls\", 8)\n",
    "color = ['#525252']+pal.as_hex()\n",
    "\n",
    "for N_0 in N0_list :\n",
    "    print(\"N0 = {}\".format(N_0))\n",
    "    psnr_list = [Dico[N_0][0][title_list[i]] for i in range(1,len(title_list))]\n",
    "    ssim_list = [Dico[N_0][1][title_list[i]] for i in range(1,len(title_list))]\n",
    "#     pmdr_list = [Dico[N_0][1][title_list[i]] for i in range(1,len(title_list))]\n",
    "    Dico_1 = {}\n",
    "\n",
    "    for j in range(n_methods):\n",
    "        Dico_1[title_list[j+1]] = ssim_list[j];\n",
    "    dico2violinplot(Dico_1, color)"
   ]
  },
  {
   "cell_type": "markdown",
   "metadata": {},
   "source": [
    "## Simulated Data (CR = 3/4) \n",
    "### Parameters"
   ]
  },
  {
   "cell_type": "code",
   "execution_count": 51,
   "metadata": {},
   "outputs": [],
   "source": [
    "CR = 1024;\n",
    "N0 = 10;\n",
    "sig = 0;\n",
    "\n",
    "\n",
    "H_k = img_size*np.dot(Perm,H);\n",
    "Pmat = H_k[:CR,:];\n",
    "Sigma_i = np.dot(np.transpose(H),np.dot(Cov_had,H))\n",
    "# Sigma_1_2 = Inverse_square_root(Sigma_i);"
   ]
  },
  {
   "cell_type": "markdown",
   "metadata": {},
   "source": [
    "### Loading Network"
   ]
  },
  {
   "cell_type": "code",
   "execution_count": 52,
   "metadata": {
    "scrolled": true
   },
   "outputs": [],
   "source": [
    "# net_arch = 2\n",
    "# model_root = '../../models/TCI_imagenet/Unet/'; #  Path to model saving files\n",
    "# title_1 = model_root+\"U_net_pinv_N0_10_sig_0_N_64_M_1024_epo_50_lr_0.001_sss_10_sdr_0.5_bs_64_reg_1e-07\"\n",
    "# denoi_1 = Unet(1,1);\n",
    "# model_1 = noiCompNet(img_size, CR, Mean_had, Cov_had, net_arch, N0, sig, H, denoi=denoi_1);\n",
    "# model_1.Pinv.weight.requires_grad = False; # Pinv isn't used for training or testing, so it has no impact anyway.\n",
    "# model_1 = model_1.to(device);\n",
    "# load_net(title_1, model_1);\n",
    "# model_1.eval()"
   ]
  },
  {
   "cell_type": "code",
   "execution_count": 53,
   "metadata": {},
   "outputs": [],
   "source": [
    "# net_arch = 2\n",
    "# model_root = '../../models/TCI_imagenet/modl/'\n",
    "# title_2 = model_root + \"_pinv_N0_10_sig_0_Denoi_modl_Iteratif_4_N_64_M_1024_epo_10_lr_0.001_sss_3_sdr_0.5_bs_64_reg_1e-07\"\n",
    "# denoi_2 = Unet(1,1);\n",
    "# denoi_2 = iteratif(CR, img_size, Cov_had,H, denoi_2, n_iter = n_iter)\n",
    "# model_2 = noiCompNet(img_size, CR, Mean_had, Cov_had, net_arch, N0, sig, H, denoi=denoi_2);\n",
    "# model_2.Pinv.weight.requires_grad = False; # Pinv isn't used for training or testing, so it has no impact anyway.\n",
    "# model_2 = model_2.to(device);\n",
    "# load_net(title_2, model_2);\n",
    "# model_2.eval()"
   ]
  },
  {
   "cell_type": "code",
   "execution_count": 54,
   "metadata": {},
   "outputs": [],
   "source": [
    "n_iter = 4;\n",
    "# net_arch = 2;\n",
    "# model_root = '../../models/TCI_imagenet/neumann/'\n",
    "# title_3 = model_root+\"U_net_u_N0_10_sig_0_neumann_4_N_64_M_1024_epo_15_lr_0.001_sss_4_sdr_0.5_bs_64_reg_1e-07\"\n",
    "# denoi_3 = Unet(1,1);\n",
    "# denoi_3 = NeumannNet(CR, img_size, Cov_had, H, denoi_3, iterations = n_iter)\n",
    "# model_3 = noiCompNet(img_size, CR, Mean_had, Cov_had, net_arch, N0, sig, H, denoi=denoi_3);\n",
    "# model_3.recon.Gramian.weight.requires_grad = False; #was done during training script.\n",
    "# model_3.Pinv.weight.requires_grad = False; # Pinv isn't used for training or testing, so it has no impact anyway.\n",
    "# model_3 = model_3.to(device);\n",
    "# load_net(title_3, model_3);\n",
    "# model_3.eval()"
   ]
  },
  {
   "cell_type": "code",
   "execution_count": 55,
   "metadata": {},
   "outputs": [
    {
     "name": "stdout",
     "output_type": "stream",
     "text": [
      "Measurement to image domain: statistical completion (no mean)\n",
      "Varying N0 = 10 +/- 0\n",
      "Denoised Measurements\n",
      "Model Loaded: ../../models/TCI_imagenet/EM_net/EM_net_unshared_c0mp_N0_10_sig_0_Denoi_Iteratif_sc_4_N_64_M_1024_epo_11_lr_0.001_sss_4_sdr_0.5_bs_64_reg_1e-07\n"
     ]
    },
    {
     "data": {
      "text/plain": [
       "DenoiCompNet(\n",
       "  (Patt): Conv2d(1, 1024, kernel_size=(64, 64), stride=(1, 1))\n",
       "  (P): Conv2d(1, 2048, kernel_size=(64, 64), stride=(1, 1))\n",
       "  (Pinv): Linear(in_features=1024, out_features=4096, bias=False)\n",
       "  (Pnorm): Linear(in_features=1024, out_features=4096, bias=False)\n",
       "  (fc1): Linear(in_features=1024, out_features=4096, bias=False)\n",
       "  (recon): EM_net_unshared(\n",
       "    (Pinvtot): Conv2d(1, 4096, kernel_size=(64, 64), stride=(1, 1))\n",
       "    (Pconv): Conv2d(1, 1024, kernel_size=(64, 64), stride=(1, 1))\n",
       "    (P): Conv2d(1, 2048, kernel_size=(64, 64), stride=(1, 1))\n",
       "    (denoise_list): ModuleList(\n",
       "      (0): Denoise_layer(in_features=1024)\n",
       "      (1): Denoise_layer(in_features=1024)\n",
       "      (2): Denoise_layer(in_features=1024)\n",
       "      (3): Denoise_layer(in_features=1024)\n",
       "    )\n",
       "    (conv): ModuleList(\n",
       "      (0): DConvNet(\n",
       "        (convnet): Sequential(\n",
       "          (conv1): Conv2d(1, 64, kernel_size=(9, 9), stride=(1, 1), padding=(4, 4))\n",
       "          (relu1): ReLU()\n",
       "          (BN1): BatchNorm2d(64, eps=1e-05, momentum=0.1, affine=True, track_running_stats=True)\n",
       "          (conv2): Conv2d(64, 64, kernel_size=(1, 1), stride=(1, 1))\n",
       "          (relu2): ReLU()\n",
       "          (BN2): BatchNorm2d(64, eps=1e-05, momentum=0.1, affine=True, track_running_stats=True)\n",
       "          (conv3): Conv2d(64, 32, kernel_size=(3, 3), stride=(1, 1), padding=(1, 1))\n",
       "          (relu3): ReLU()\n",
       "          (BN3): BatchNorm2d(32, eps=1e-05, momentum=0.1, affine=True, track_running_stats=True)\n",
       "          (conv4): Conv2d(32, 1, kernel_size=(5, 5), stride=(1, 1), padding=(2, 2))\n",
       "        )\n",
       "      )\n",
       "      (1): DConvNet(\n",
       "        (convnet): Sequential(\n",
       "          (conv1): Conv2d(1, 64, kernel_size=(9, 9), stride=(1, 1), padding=(4, 4))\n",
       "          (relu1): ReLU()\n",
       "          (BN1): BatchNorm2d(64, eps=1e-05, momentum=0.1, affine=True, track_running_stats=True)\n",
       "          (conv2): Conv2d(64, 64, kernel_size=(1, 1), stride=(1, 1))\n",
       "          (relu2): ReLU()\n",
       "          (BN2): BatchNorm2d(64, eps=1e-05, momentum=0.1, affine=True, track_running_stats=True)\n",
       "          (conv3): Conv2d(64, 32, kernel_size=(3, 3), stride=(1, 1), padding=(1, 1))\n",
       "          (relu3): ReLU()\n",
       "          (BN3): BatchNorm2d(32, eps=1e-05, momentum=0.1, affine=True, track_running_stats=True)\n",
       "          (conv4): Conv2d(32, 1, kernel_size=(5, 5), stride=(1, 1), padding=(2, 2))\n",
       "        )\n",
       "      )\n",
       "      (2): DConvNet(\n",
       "        (convnet): Sequential(\n",
       "          (conv1): Conv2d(1, 64, kernel_size=(9, 9), stride=(1, 1), padding=(4, 4))\n",
       "          (relu1): ReLU()\n",
       "          (BN1): BatchNorm2d(64, eps=1e-05, momentum=0.1, affine=True, track_running_stats=True)\n",
       "          (conv2): Conv2d(64, 64, kernel_size=(1, 1), stride=(1, 1))\n",
       "          (relu2): ReLU()\n",
       "          (BN2): BatchNorm2d(64, eps=1e-05, momentum=0.1, affine=True, track_running_stats=True)\n",
       "          (conv3): Conv2d(64, 32, kernel_size=(3, 3), stride=(1, 1), padding=(1, 1))\n",
       "          (relu3): ReLU()\n",
       "          (BN3): BatchNorm2d(32, eps=1e-05, momentum=0.1, affine=True, track_running_stats=True)\n",
       "          (conv4): Conv2d(32, 1, kernel_size=(5, 5), stride=(1, 1), padding=(2, 2))\n",
       "        )\n",
       "      )\n",
       "      (3): DConvNet(\n",
       "        (convnet): Sequential(\n",
       "          (conv1): Conv2d(1, 64, kernel_size=(9, 9), stride=(1, 1), padding=(4, 4))\n",
       "          (relu1): ReLU()\n",
       "          (BN1): BatchNorm2d(64, eps=1e-05, momentum=0.1, affine=True, track_running_stats=True)\n",
       "          (conv2): Conv2d(64, 64, kernel_size=(1, 1), stride=(1, 1))\n",
       "          (relu2): ReLU()\n",
       "          (BN2): BatchNorm2d(64, eps=1e-05, momentum=0.1, affine=True, track_running_stats=True)\n",
       "          (conv3): Conv2d(64, 32, kernel_size=(3, 3), stride=(1, 1), padding=(1, 1))\n",
       "          (relu3): ReLU()\n",
       "          (BN3): BatchNorm2d(32, eps=1e-05, momentum=0.1, affine=True, track_running_stats=True)\n",
       "          (conv4): Conv2d(32, 1, kernel_size=(5, 5), stride=(1, 1), padding=(2, 2))\n",
       "        )\n",
       "      )\n",
       "      (4): DConvNet(\n",
       "        (convnet): Sequential(\n",
       "          (conv1): Conv2d(1, 64, kernel_size=(9, 9), stride=(1, 1), padding=(4, 4))\n",
       "          (relu1): ReLU()\n",
       "          (BN1): BatchNorm2d(64, eps=1e-05, momentum=0.1, affine=True, track_running_stats=True)\n",
       "          (conv2): Conv2d(64, 64, kernel_size=(1, 1), stride=(1, 1))\n",
       "          (relu2): ReLU()\n",
       "          (BN2): BatchNorm2d(64, eps=1e-05, momentum=0.1, affine=True, track_running_stats=True)\n",
       "          (conv3): Conv2d(64, 32, kernel_size=(3, 3), stride=(1, 1), padding=(1, 1))\n",
       "          (relu3): ReLU()\n",
       "          (BN3): BatchNorm2d(32, eps=1e-05, momentum=0.1, affine=True, track_running_stats=True)\n",
       "          (conv4): Conv2d(32, 1, kernel_size=(5, 5), stride=(1, 1), padding=(2, 2))\n",
       "        )\n",
       "      )\n",
       "    )\n",
       "    (completion_layer): Linear(in_features=1024, out_features=3072, bias=False)\n",
       "  )\n",
       "  (max): MaxPool2d(kernel_size=64, stride=64, padding=0, dilation=1, ceil_mode=False)\n",
       ")"
      ]
     },
     "execution_count": 55,
     "metadata": {},
     "output_type": "execute_result"
    }
   ],
   "source": [
    "net_arch = 0;\n",
    "model_root = '../../models/TCI_imagenet/EM_net/'\n",
    "title_4 = model_root+\"EM_net_unshared_c0mp_N0_10_sig_0_Denoi_Iteratif_sc_4_N_64_M_1024_epo_11_lr_0.001_sss_4_sdr_0.5_bs_64_reg_1e-07\"\n",
    "denoi_4 = DConvNet();\n",
    "denoi_4 = EM_net_unshared(CR, img_size, Cov_had,H, denoi_4, n_iter = n_iter)\n",
    "denoi_4.N0 = N0;\n",
    "model_4 = DenoiCompNet(img_size, CR, Mean_had, Cov_had, net_arch, N0, sig, H, denoi=denoi_4);\n",
    "model_4.recon.completion_layer.weight.requires_grad = False;\n",
    "model_4.Pinv.weight.requires_grad = False; # Pinv isn't used for training or testing, so it has no impact anyway.\n",
    "model_4 = model_4.to(device);\n",
    "load_net(title_4, model_4);\n",
    "model_4.eval()"
   ]
  },
  {
   "cell_type": "code",
   "execution_count": 56,
   "metadata": {},
   "outputs": [],
   "source": [
    "# net_arch = 2\n",
    "# model_root = '../../models/TCI_imagenet/Unet/'; #  Path to model saving files\n",
    "# title_5 = model_root+\"DCONV_pinv_N0_10_sig_0_Denoi_N_64_M_1024_epo_50_lr_0.001_sss_10_sdr_0.5_bs_64_reg_1e-07\"\n",
    "# model_5 = noiCompNet(img_size, CR, Mean_had, Cov_had, net_arch, N0, sig, H, denoi=denoi_5);\n",
    "# model_5.Pinv.weight.requires_grad = False; # Pinv isn't used for training or testing, so it has no impact anyway.\n",
    "# model_5 = model_5.to(device);\n",
    "# load_net(title_5, model_5);\n",
    "# model_5.eval()"
   ]
  },
  {
   "cell_type": "code",
   "execution_count": 57,
   "metadata": {},
   "outputs": [
    {
     "name": "stdout",
     "output_type": "stream",
     "text": [
      "Measurement to image domain: statistical completion (no mean)\n",
      "Varying N0 = 10 +/- 0\n",
      "Denoised Measurements\n",
      "Model Loaded: ../../models/TCI_imagenet/EM_net/EM_net_shared_c0mp_N0_10_sig_0_Denoi_Iteratif_sc_4_N_64_M_1024_epo_11_lr_0.001_sss_4_sdr_0.5_bs_64_reg_1e-07\n"
     ]
    },
    {
     "data": {
      "text/plain": [
       "DenoiCompNet(\n",
       "  (Patt): Conv2d(1, 1024, kernel_size=(64, 64), stride=(1, 1))\n",
       "  (P): Conv2d(1, 2048, kernel_size=(64, 64), stride=(1, 1))\n",
       "  (Pinv): Linear(in_features=1024, out_features=4096, bias=False)\n",
       "  (Pnorm): Linear(in_features=1024, out_features=4096, bias=False)\n",
       "  (fc1): Linear(in_features=1024, out_features=4096, bias=False)\n",
       "  (recon): EM_net(\n",
       "    (conv): DConvNet(\n",
       "      (convnet): Sequential(\n",
       "        (conv1): Conv2d(1, 64, kernel_size=(9, 9), stride=(1, 1), padding=(4, 4))\n",
       "        (relu1): ReLU()\n",
       "        (BN1): BatchNorm2d(64, eps=1e-05, momentum=0.1, affine=True, track_running_stats=True)\n",
       "        (conv2): Conv2d(64, 64, kernel_size=(1, 1), stride=(1, 1))\n",
       "        (relu2): ReLU()\n",
       "        (BN2): BatchNorm2d(64, eps=1e-05, momentum=0.1, affine=True, track_running_stats=True)\n",
       "        (conv3): Conv2d(64, 32, kernel_size=(3, 3), stride=(1, 1), padding=(1, 1))\n",
       "        (relu3): ReLU()\n",
       "        (BN3): BatchNorm2d(32, eps=1e-05, momentum=0.1, affine=True, track_running_stats=True)\n",
       "        (conv4): Conv2d(32, 1, kernel_size=(5, 5), stride=(1, 1), padding=(2, 2))\n",
       "      )\n",
       "    )\n",
       "    (Pinvtot): Conv2d(1, 4096, kernel_size=(64, 64), stride=(1, 1))\n",
       "    (Pconv): Conv2d(1, 1024, kernel_size=(64, 64), stride=(1, 1))\n",
       "    (denoise_list): ModuleList(\n",
       "      (0): Denoise_layer(in_features=1024)\n",
       "      (1): Denoise_layer(in_features=1024)\n",
       "      (2): Denoise_layer(in_features=1024)\n",
       "      (3): Denoise_layer(in_features=1024)\n",
       "    )\n",
       "    (completion_layer): Linear(in_features=1024, out_features=3072, bias=False)\n",
       "    (P): Conv2d(1, 2048, kernel_size=(64, 64), stride=(1, 1))\n",
       "  )\n",
       "  (max): MaxPool2d(kernel_size=64, stride=64, padding=0, dilation=1, ceil_mode=False)\n",
       ")"
      ]
     },
     "execution_count": 57,
     "metadata": {},
     "output_type": "execute_result"
    }
   ],
   "source": [
    "# model_6 = model_4\n",
    "net_arch = 0;\n",
    "model_root = '../../models/TCI_imagenet/EM_net/'\n",
    "title_6 = model_root+\"EM_net_shared_c0mp_N0_10_sig_0_Denoi_Iteratif_sc_4_N_64_M_1024_epo_11_lr_0.001_sss_4_sdr_0.5_bs_64_reg_1e-07\"\n",
    "denoi_6 = DConvNet();\n",
    "denoi_6 = EM_net(CR, img_size, Cov_had,H, denoi_6, n_iter = n_iter)\n",
    "denoi_6.N0 = N0;\n",
    "model_6 = DenoiCompNet(img_size, CR, Mean_had, Cov_had, net_arch, N0, sig, H, denoi=denoi_6);\n",
    "model_6.Pinv.weight.requires_grad = False; # Pinv isn't used for training or testing, so it has no impact anyway.\n",
    "model_6 = model_6.to(device);\n",
    "load_net(title_6, model_6);\n",
    "model_6.eval()"
   ]
  },
  {
   "cell_type": "markdown",
   "metadata": {},
   "source": [
    "### Compute Metrics Over the Test-set $N_0 = [2,5,10,50]$"
   ]
  },
  {
   "cell_type": "code",
   "execution_count": 58,
   "metadata": {
    "tags": []
   },
   "outputs": [
    {
     "name": "stdout",
     "output_type": "stream",
     "text": [
      "N0 = 2\n",
      "No = 2, batch = 0 /3125 \n",
      "alpha in [2.00--2.00] photons\n",
      "No = 2, batch = 1 /3125 \n",
      "alpha in [2.00--2.00] photons\n",
      "No = 2, batch = 2 /3125 \n",
      "alpha in [2.00--2.00] photons\n",
      "No = 2, batch = 3 /3125 \n",
      "alpha in [2.00--2.00] photons\n",
      "No = 2, batch = 4 /3125 \n",
      "alpha in [2.00--2.00] photons\n",
      "No = 2, batch = 5 /3125 \n",
      "alpha in [2.00--2.00] photons\n",
      "No = 2, batch = 6 /3125 \n",
      "alpha in [2.00--2.00] photons\n",
      "No = 2, batch = 7 /3125 \n",
      "alpha in [2.00--2.00] photons\n",
      "No = 2, batch = 8 /3125 \n",
      "alpha in [2.00--2.00] photons\n",
      "No = 2, batch = 9 /3125 \n",
      "alpha in [2.00--2.00] photons\n",
      "No = 2, batch = 10 /3125 \n",
      "alpha in [2.00--2.00] photons\n",
      "No = 2, batch = 11 /3125 \n",
      "alpha in [2.00--2.00] photons\n",
      "No = 2, batch = 12 /3125 \n",
      "alpha in [2.00--2.00] photons\n",
      "N0 = 3\n",
      "No = 3, batch = 0 /3125 \n",
      "alpha in [3.00--3.00] photons\n",
      "No = 3, batch = 1 /3125 \n",
      "alpha in [3.00--3.00] photons\n",
      "No = 3, batch = 2 /3125 \n",
      "alpha in [3.00--3.00] photons\n",
      "No = 3, batch = 3 /3125 \n",
      "alpha in [3.00--3.00] photons\n",
      "No = 3, batch = 4 /3125 \n",
      "alpha in [3.00--3.00] photons\n",
      "No = 3, batch = 5 /3125 \n",
      "alpha in [3.00--3.00] photons\n",
      "No = 3, batch = 6 /3125 \n",
      "alpha in [3.00--3.00] photons\n",
      "No = 3, batch = 7 /3125 \n",
      "alpha in [3.00--3.00] photons\n",
      "No = 3, batch = 8 /3125 \n",
      "alpha in [3.00--3.00] photons\n",
      "No = 3, batch = 9 /3125 \n",
      "alpha in [3.00--3.00] photons\n",
      "No = 3, batch = 10 /3125 \n",
      "alpha in [3.00--3.00] photons\n",
      "No = 3, batch = 11 /3125 \n",
      "alpha in [3.00--3.00] photons\n",
      "No = 3, batch = 12 /3125 \n",
      "alpha in [3.00--3.00] photons\n",
      "N0 = 5\n",
      "No = 5, batch = 0 /3125 \n",
      "alpha in [5.00--5.00] photons\n",
      "No = 5, batch = 1 /3125 \n",
      "alpha in [5.00--5.00] photons\n",
      "No = 5, batch = 2 /3125 \n",
      "alpha in [5.00--5.00] photons\n",
      "No = 5, batch = 3 /3125 \n",
      "alpha in [5.00--5.00] photons\n",
      "No = 5, batch = 4 /3125 \n",
      "alpha in [5.00--5.00] photons\n",
      "No = 5, batch = 5 /3125 \n",
      "alpha in [5.00--5.00] photons\n",
      "No = 5, batch = 6 /3125 \n",
      "alpha in [5.00--5.00] photons\n",
      "No = 5, batch = 7 /3125 \n",
      "alpha in [5.00--5.00] photons\n",
      "No = 5, batch = 8 /3125 \n",
      "alpha in [5.00--5.00] photons\n",
      "No = 5, batch = 9 /3125 \n",
      "alpha in [5.00--5.00] photons\n",
      "No = 5, batch = 10 /3125 \n",
      "alpha in [5.00--5.00] photons\n",
      "No = 5, batch = 11 /3125 \n",
      "alpha in [5.00--5.00] photons\n",
      "No = 5, batch = 12 /3125 \n",
      "alpha in [5.00--5.00] photons\n",
      "N0 = 10\n",
      "No = 10, batch = 0 /3125 \n",
      "alpha in [10.00--10.00] photons\n",
      "No = 10, batch = 1 /3125 \n",
      "alpha in [10.00--10.00] photons\n",
      "No = 10, batch = 2 /3125 \n",
      "alpha in [10.00--10.00] photons\n",
      "No = 10, batch = 3 /3125 \n",
      "alpha in [10.00--10.00] photons\n",
      "No = 10, batch = 4 /3125 \n",
      "alpha in [10.00--10.00] photons\n",
      "No = 10, batch = 5 /3125 \n",
      "alpha in [10.00--10.00] photons\n",
      "No = 10, batch = 6 /3125 \n",
      "alpha in [10.00--10.00] photons\n",
      "No = 10, batch = 7 /3125 \n",
      "alpha in [10.00--10.00] photons\n",
      "No = 10, batch = 8 /3125 \n",
      "alpha in [10.00--10.00] photons\n",
      "No = 10, batch = 9 /3125 \n",
      "alpha in [10.00--10.00] photons\n",
      "No = 10, batch = 10 /3125 \n",
      "alpha in [10.00--10.00] photons\n",
      "No = 10, batch = 11 /3125 \n",
      "alpha in [10.00--10.00] photons\n",
      "No = 10, batch = 12 /3125 \n",
      "alpha in [10.00--10.00] photons\n",
      "N0 = 50\n",
      "No = 50, batch = 0 /3125 \n",
      "alpha in [50.00--50.00] photons\n",
      "No = 50, batch = 1 /3125 \n",
      "alpha in [50.00--50.00] photons\n",
      "No = 50, batch = 2 /3125 \n",
      "alpha in [50.00--50.00] photons\n",
      "No = 50, batch = 3 /3125 \n",
      "alpha in [50.00--50.00] photons\n",
      "No = 50, batch = 4 /3125 \n",
      "alpha in [50.00--50.00] photons\n",
      "No = 50, batch = 5 /3125 \n",
      "alpha in [50.00--50.00] photons\n",
      "No = 50, batch = 6 /3125 \n",
      "alpha in [50.00--50.00] photons\n",
      "No = 50, batch = 7 /3125 \n",
      "alpha in [50.00--50.00] photons\n",
      "No = 50, batch = 8 /3125 \n",
      "alpha in [50.00--50.00] photons\n",
      "No = 50, batch = 9 /3125 \n",
      "alpha in [50.00--50.00] photons\n",
      "No = 50, batch = 10 /3125 \n",
      "alpha in [50.00--50.00] photons\n",
      "No = 50, batch = 11 /3125 \n",
      "alpha in [50.00--50.00] photons\n",
      "No = 50, batch = 12 /3125 \n",
      "alpha in [50.00--50.00] photons\n"
     ]
    }
   ],
   "source": [
    "# N0_list = [5, 10, 50, 2500];\n",
    "N0_list = [2, 3, 5, 10, 50];\n",
    "# N0_list = [2500];\n",
    "title_list = [\"GT\", \"EM Shared\", \"EM Unshared\"]\n",
    "torch.manual_seed(1)\n",
    "Dico = {}\n",
    "\n",
    "for N_0 in N0_list :\n",
    "    print(\"N0 = {}\".format(N_0))\n",
    "    model_4.recon.N0 = N_0\n",
    "    model_6.recon.N0 = N_0\n",
    "    model_4.N0 = N_0;\n",
    "    model_6.N0 = N_0;\n",
    "\n",
    "    n_methods = 2;\n",
    "    out_psnr = \"data_review/psnr_{}_{}_imagenet_global.pkl\".format(N_0, CR);\n",
    "    out_ssim = \"data_review/ssim_{}_{}_imagenet_global.pkl\".format(N_0, CR);\n",
    "    if os.path.isfile(out_psnr) and os.path.isfile(out_ssim):\n",
    "        a_file = open(out_psnr, \"rb\")\n",
    "        Dico_psnr = pickle.load(a_file)\n",
    "        a_file.close()\n",
    "        \n",
    "        a_file = open(out_ssim, \"rb\")\n",
    "        Dico_ssim = pickle.load(a_file)\n",
    "        a_file.close()\n",
    "        \n",
    "    else :\n",
    "        psnr_list = [[] for i in range(n_methods)];\n",
    "        ssim_list = [[] for i in range(n_methods)];\n",
    "        Dico_psnr = {};\n",
    "        Dico_ssim = {};\n",
    "        for batch, (inputs, labels) in enumerate(testloader):\n",
    "            [batch_size, c, h, w] = inputs.shape;\n",
    "            inputs = inputs.to(device);\n",
    "            if batch*batch_size < 200:\n",
    "                print(\"No = {}, batch = {} /{} \".format(N_0, batch, len(testloader)))\n",
    "                with torch.no_grad():\n",
    "                    m = model_4.forward_acquire(inputs ,batch_size, 1, img_size, img_size);\n",
    "\n",
    "                    outputs = model_6.forward_reconstruct(m, batch_size, 1, img_size, img_size);\n",
    "                    psnr_list[0]+= batch_psnr(inputs, outputs );\n",
    "                    ssim_list[0]+= batch_ssim(inputs, outputs );\n",
    "    \n",
    "                    outputs = model_4.forward_reconstruct(m, batch_size, 1, img_size, img_size);\n",
    "                    psnr_list[1]+= batch_psnr(inputs, outputs );\n",
    "                    ssim_list[1]+= batch_ssim(inputs, outputs );\n",
    "    \n",
    "\n",
    "        psnr_list = [np.array(psnr_list[i]) for i in range(len(psnr_list))];\n",
    "        ssim_list = [np.array(ssim_list[i]) for i in range(len(ssim_list))];\n",
    "        \n",
    "\n",
    "        Dico_psnr[\"EM Shared\"] = psnr_list[0];\n",
    "        Dico_psnr[\"EM Unshared\"] = psnr_list[1];\n",
    "\n",
    "        Dico_ssim[\"EM Shared\"] = ssim_list[0];\n",
    "        Dico_ssim[\"EM Unshared\"] = ssim_list[1];\n",
    "        \n",
    "        \n",
    "        a_file = open(out_psnr, \"wb\")\n",
    "        pickle.dump(Dico_psnr, a_file)\n",
    "        a_file.close()\n",
    "        \n",
    "        a_file = open(out_ssim, \"wb\")\n",
    "        pickle.dump(Dico_ssim, a_file)\n",
    "        a_file.close()\n",
    "        \n",
    "    Dico[N_0] = [Dico_psnr, Dico_ssim];\n"
   ]
  },
  {
   "cell_type": "code",
   "execution_count": 59,
   "metadata": {},
   "outputs": [],
   "source": [
    "Table = [[r\"$\\alpha$\", \" \"]+title_list[1:]];\n",
    "for N_0 in N0_list :\n",
    "    \n",
    "    psnr_list = [Dico[N_0][0][title_list[i]] for i in range(1,len(title_list))]\n",
    "    ssim_list = [Dico[N_0][1][title_list[i]] for i in range(1,len(title_list))]\n",
    "    \n",
    "    psnr_mean = np.round([np.mean(psnr_list[i]) for i in range(len(psnr_list))],2);\n",
    "    ssim_mean = np.round([np.mean(ssim_list[i]) for i in range(len(ssim_list))],2);\n",
    "    \n",
    "    psnr_std = np.round([np.std(psnr_list[i]) for i in range(len(psnr_list))],2);\n",
    "    ssim_std = np.round([np.std(ssim_list[i]) for i in range(len(ssim_list))],2);\n",
    "    \n",
    "    Table.append([\"{}\".format(N_0), \"PSNR\"] + [r\"${} \\pm {}$\".format(psnr_mean[i], psnr_std[i]) for i in range(len(psnr_mean))])\n",
    "    Table.append([\"{}\".format(N_0), \"SSIM\"] + [r\"${} \\pm {}$\".format(ssim_mean[i], ssim_std[i]) for i in range(len(ssim_mean))])\n"
   ]
  },
  {
   "cell_type": "code",
   "execution_count": 60,
   "metadata": {},
   "outputs": [
    {
     "data": {
      "text/html": [
       "\n",
       "<style>\n",
       "    div#notebook-container    {width: 100%;}\n",
       "    div#menubar-container     {width: 100%;}\n",
       "    div#maintoolbar-container {width: 100%;}\n",
       "</style>\n"
      ],
      "text/plain": [
       "<IPython.core.display.HTML object>"
      ]
     },
     "metadata": {},
     "output_type": "display_data"
    },
    {
     "data": {
      "text/html": [
       "<table>\n",
       "<tbody>\n",
       "<tr><td>$\\alpha$</td><td>    </td><td>EM Shared       </td><td>EM Unshared     </td></tr>\n",
       "<tr><td>2       </td><td>PSNR</td><td>$14.04 \\pm 1.78$</td><td>$13.97 \\pm 1.7$ </td></tr>\n",
       "<tr><td>2       </td><td>SSIM</td><td>$0.69 \\pm 0.17$ </td><td>$0.69 \\pm 0.17$ </td></tr>\n",
       "<tr><td>3       </td><td>PSNR</td><td>$15.58 \\pm 2.49$</td><td>$15.27 \\pm 2.28$</td></tr>\n",
       "<tr><td>3       </td><td>SSIM</td><td>$0.79 \\pm 0.14$ </td><td>$0.77 \\pm 0.15$ </td></tr>\n",
       "<tr><td>5       </td><td>PSNR</td><td>$17.03 \\pm 3.39$</td><td>$16.72 \\pm 3.12$</td></tr>\n",
       "<tr><td>5       </td><td>SSIM</td><td>$0.87 \\pm 0.1$  </td><td>$0.85 \\pm 0.11$ </td></tr>\n",
       "<tr><td>10      </td><td>PSNR</td><td>$17.95 \\pm 4.04$</td><td>$17.87 \\pm 3.97$</td></tr>\n",
       "<tr><td>10      </td><td>SSIM</td><td>$0.91 \\pm 0.07$ </td><td>$0.91 \\pm 0.07$ </td></tr>\n",
       "<tr><td>50      </td><td>PSNR</td><td>$18.45 \\pm 4.35$</td><td>$18.42 \\pm 4.41$</td></tr>\n",
       "<tr><td>50      </td><td>SSIM</td><td>$0.93 \\pm 0.06$ </td><td>$0.93 \\pm 0.07$ </td></tr>\n",
       "</tbody>\n",
       "</table>"
      ],
      "text/plain": [
       "<IPython.core.display.HTML object>"
      ]
     },
     "metadata": {},
     "output_type": "display_data"
    }
   ],
   "source": [
    "display(HTML(data=\"\"\"\n",
    "<style>\n",
    "    div#notebook-container    {width: 100%;}\n",
    "    div#menubar-container     {width: 100%;}\n",
    "    div#maintoolbar-container {width: 100%;}\n",
    "</style>\n",
    "\"\"\"))\n",
    "display(HTML(tabulate.tabulate(Table, tablefmt='html')))\n"
   ]
  },
  {
   "cell_type": "code",
   "execution_count": 61,
   "metadata": {},
   "outputs": [
    {
     "name": "stdout",
     "output_type": "stream",
     "text": [
      "N0 = 2\n",
      "N0 = 3\n",
      "N0 = 5\n",
      "N0 = 10\n",
      "N0 = 50\n"
     ]
    },
    {
     "data": {
      "image/png": "[encoded data removed]",
      "text/plain": [
       "<Figure size 432x288 with 1 Axes>"
      ]
     },
     "metadata": {
      "needs_background": "light"
     },
     "output_type": "display_data"
    },
    {
     "data": {
      "image/png": "[encoded data removed]",
      "text/plain": [
       "<Figure size 432x288 with 1 Axes>"
      ]
     },
     "metadata": {
      "needs_background": "light"
     },
     "output_type": "display_data"
    },
    {
     "data": {
      "image/png": "[encoded data removed]",
      "text/plain": [
       "<Figure size 432x288 with 1 Axes>"
      ]
     },
     "metadata": {
      "needs_background": "light"
     },
     "output_type": "display_data"
    },
    {
     "data": {
      "image/png": "[encoded data removed]",
      "text/plain": [
       "<Figure size 432x288 with 1 Axes>"
      ]
     },
     "metadata": {
      "needs_background": "light"
     },
     "output_type": "display_data"
    },
    {
     "data": {
      "image/png": "[encoded data removed]",
      "text/plain": [
       "<Figure size 432x288 with 1 Axes>"
      ]
     },
     "metadata": {
      "needs_background": "light"
     },
     "output_type": "display_data"
    }
   ],
   "source": [
    "%matplotlib inline\n",
    "pal = sns.color_palette(\"hls\", 8)\n",
    "color = ['#525252']+pal.as_hex()\n",
    "\n",
    "for N_0 in N0_list :\n",
    "    print(\"N0 = {}\".format(N_0))\n",
    "    psnr_list = [Dico[N_0][0][title_list[i]] for i in range(1,len(title_list))]\n",
    "    ssim_list = [Dico[N_0][1][title_list[i]] for i in range(1,len(title_list))]\n",
    "#     pmdr_list = [Dico[N_0][1][title_list[i]] for i in range(1,len(title_list))]\n",
    "    Dico_1 = {}\n",
    "\n",
    "    for j in range(n_methods):\n",
    "        Dico_1[title_list[j+1]] = psnr_list[j];\n",
    "    dico2violinplot(Dico_1, color)\n"
   ]
  },
  {
   "cell_type": "code",
   "execution_count": 62,
   "metadata": {},
   "outputs": [
    {
     "name": "stdout",
     "output_type": "stream",
     "text": [
      "N0 = 2\n",
      "N0 = 3\n",
      "N0 = 5\n",
      "N0 = 10\n",
      "N0 = 50\n"
     ]
    },
    {
     "data": {
      "image/png": "[encoded data removed]",
      "text/plain": [
       "<Figure size 432x288 with 1 Axes>"
      ]
     },
     "metadata": {
      "needs_background": "light"
     },
     "output_type": "display_data"
    },
    {
     "data": {
      "image/png": "[encoded data removed]",
      "text/plain": [
       "<Figure size 432x288 with 1 Axes>"
      ]
     },
     "metadata": {
      "needs_background": "light"
     },
     "output_type": "display_data"
    },
    {
     "data": {
      "image/png": "[encoded data removed]",
      "text/plain": [
       "<Figure size 432x288 with 1 Axes>"
      ]
     },
     "metadata": {
      "needs_background": "light"
     },
     "output_type": "display_data"
    },
    {
     "data": {
      "image/png": "[encoded data removed]",
      "text/plain": [
       "<Figure size 432x288 with 1 Axes>"
      ]
     },
     "metadata": {
      "needs_background": "light"
     },
     "output_type": "display_data"
    },
    {
     "data": {
      "image/png": "[encoded data removed]",
      "text/plain": [
       "<Figure size 432x288 with 1 Axes>"
      ]
     },
     "metadata": {
      "needs_background": "light"
     },
     "output_type": "display_data"
    }
   ],
   "source": [
    "%matplotlib inline\n",
    "pal = sns.color_palette(\"hls\", 8)\n",
    "color = ['#525252']+pal.as_hex()\n",
    "\n",
    "for N_0 in N0_list :\n",
    "    print(\"N0 = {}\".format(N_0))\n",
    "    psnr_list = [Dico[N_0][0][title_list[i]] for i in range(1,len(title_list))]\n",
    "    ssim_list = [Dico[N_0][1][title_list[i]] for i in range(1,len(title_list))]\n",
    "    Dico_1 = {}\n",
    "\n",
    "    for j in range(n_methods):\n",
    "        Dico_1[title_list[j+1]] = ssim_list[j];\n",
    "    dico2violinplot(Dico_1, color)"
   ]
  },
  {
   "cell_type": "code",
   "execution_count": null,
   "metadata": {},
   "outputs": [],
   "source": []
  },
  {
   "cell_type": "code",
   "execution_count": null,
   "metadata": {},
   "outputs": [],
   "source": []
  },
  {
   "cell_type": "code",
   "execution_count": null,
   "metadata": {},
   "outputs": [],
   "source": []
  }
 ],
 "metadata": {
  "kernelspec": {
   "display_name": "spyrit-env",
   "language": "python",
   "name": "spyrit-env"
  },
  "language_info": {
   "codemirror_mode": {
    "name": "ipython",
    "version": 3
   },
   "file_extension": ".py",
   "mimetype": "text/x-python",
   "name": "python",
   "nbconvert_exporter": "python",
   "pygments_lexer": "ipython3",
   "version": "3.8.12"
  }
 },
 "nbformat": 4,
 "nbformat_minor": 4
}

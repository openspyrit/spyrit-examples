{
 "cells": [
  {
   "cell_type": "code",
   "execution_count": 1,
   "metadata": {},
   "outputs": [],
   "source": [
    "import numpy as np\n",
    "import pywt\n",
    "import cv2\n",
    "from pathlib import Path\n",
    "import scipy.io as sio\n",
    "\n",
    "from spyrit.misc.disp import *\n",
    "from spyrit.learning.model_Had_DCAN import *\n"
   ]
  },
  {
   "cell_type": "code",
   "execution_count": 2,
   "metadata": {},
   "outputs": [],
   "source": [
    "def simulated_noisy_images(gt_list, max_list, K, H):\n",
    "    gt_index = max_list.index(max(max_list));\n",
    "    GT = gt_list[gt_index];\n",
    "    N = GT.shape[0];\n",
    "    H_pos = np.zeros(H.shape);\n",
    "    H_neg = np.zeros(H.shape);\n",
    "    H_pos[H>0] = N*H[H>0];\n",
    "    H_neg[H<0] = -N*H[H<0];\n",
    "    simu_list = [];\n",
    "    for i in range(len(gt_list)):\n",
    "        if i!=gt_index:\n",
    "            f_noi = simulated_measurement(GT, max_list[i]/K, H_pos, H_neg, N, H)\n",
    "        else:\n",
    "            f_noi = GT;\n",
    "        simu_list.append(f_noi)\n",
    "    return simu_list\n",
    "\n",
    "\n",
    "def simulated_measurement(GT, N0, H_pos, H_neg, N, H):\n",
    "    f = N0*np.reshape(((GT-np.amin(GT))/(np.amax(GT)-np.amin(GT))), (N**2,1));\n",
    "    m_pos = np.dot(H_pos,f);\n",
    "    m_neg = np.dot(H_neg,f);\n",
    "    m_pos += np.multiply(np.sqrt(m_pos),np.random.normal(0,1,size = m_pos.shape));\n",
    "    m_neg += np.multiply(np.sqrt(m_neg),np.random.normal(0,1,size = m_neg.shape));\n",
    "    m_noi = m_pos-m_neg;\n",
    "    f_noi = np.reshape((1/N)*np.dot(H, m_pos-m_neg), (N, N));\n",
    "    f_noi = 2*(f_noi-np.amin(f_noi))/(np.amax(f_noi)-np.amin(f_noi))-1;\n",
    "    return f_noi;\n",
    "\n",
    "\n",
    "\n",
    "def simu_raw_meas(GT, N0, N, H, mu, sigma, K):\n",
    "    f = N0*np.reshape(((GT-np.amin(GT))/(np.amax(GT)-np.amin(GT))), (N**2,1));\n",
    "    m = np.dot(H,f);\n",
    "    m = K*np.random.poisson(m)+np.random.normal(mu,sigma,size = m.shape);\n",
    "    return m;"
   ]
  },
  {
   "cell_type": "code",
   "execution_count": 3,
   "metadata": {},
   "outputs": [],
   "source": [
    "img_size = 64\n",
    "CR = 512\n",
    "img = pywt.data.camera()\n",
    "img = cv2.resize(img, (img_size,img_size), interpolation = cv2.INTER_AREA)\n",
    "img = (img-np.amin(img))/(np.amax(img)-np.amin(img))"
   ]
  },
  {
   "cell_type": "code",
   "execution_count": 4,
   "metadata": {},
   "outputs": [
    {
     "data": {
      "image/png": "[encoded data removed]",
      "text/plain": [
       "<Figure size 432x288 with 2 Axes>"
      ]
     },
     "metadata": {
      "needs_background": "light"
     },
     "output_type": "display_data"
    }
   ],
   "source": [
    "imagesc(img)"
   ]
  },
  {
   "cell_type": "code",
   "execution_count": 5,
   "metadata": {},
   "outputs": [
    {
     "name": "stdout",
     "output_type": "stream",
     "text": [
      "Loading covariance and mean\n"
     ]
    }
   ],
   "source": [
    "expe_root = \"../../data/expe_2/\" # Path to precomputed data\n",
    "precompute_root =\"../../models/SDCAN/\"# Path to precomputed data\n",
    "precompute=False\n",
    "my_average_file = Path(precompute_root) / ('Average_{}x{}'.format(img_size, img_size)+'.npy')\n",
    "my_cov_file = Path(precompute_root) / ('Cov_{}x{}'.format(img_size, img_size)+'.npy')\n",
    "\n",
    "Path(precompute_root).mkdir(parents=True, exist_ok=True)\n",
    "if not(my_average_file.is_file()) or not(my_cov_file.is_file()) or precompute:\n",
    "    print('Computing covariance and mean (overwrite previous files)')\n",
    "    Mean_had, Cov_had = Stat_had(trainloader, precompute_root)\n",
    "else:\n",
    "    print('Loading covariance and mean')\n",
    "    Mean_had = np.load(my_average_file)\n",
    "    Cov_had  = np.load(my_cov_file)\n",
    "\n",
    "if expe_root:\n",
    "    my_transform_file = Path(expe_root) / ('transform_{}x{}'.format(img_size, img_size)+'.mat')\n",
    "    H = sio.loadmat(my_transform_file);\n",
    "    H = (1/img_size)*H[\"H\"]\n",
    "\n",
    "    my_average_file = Path(expe_root) / ('Average_{}x{}'.format(img_size, img_size)+'.mat')\n",
    "    my_cov_file = Path(expe_root) / ('Cov_{}x{}'.format(img_size, img_size)+'.mat')\n",
    "    Mean_had_1 = sio.loadmat(my_average_file)\n",
    "    Cov_had_1  = sio.loadmat(my_cov_file)\n",
    "\n",
    "    Mean_had_1 = Mean_had_1[\"mu\"]-np.dot(H, np.ones((img_size**2,1)));\n",
    "    Mean_had_1 = np.reshape(Mean_had_1,(img_size, img_size));\n",
    "    Mean_had_1 = np.amax(Mean_had)/np.amax(Mean_had_1)*Mean_had_1;\n",
    "    Cov_had_1 = Cov_had_1[\"C\"];\n",
    "    Cov_had_1 = np.amax(Cov_had)/np.amax(Cov_had_1)*Cov_had_1;\n",
    "    Cov_had = Cov_had_1;\n",
    "    Mean_had = Mean_had_1;\n",
    "\n",
    "else :\n",
    "    H = None;\n",
    "    \n",
    "Var = Cov2Var(Cov_had_1)\n",
    "Perm = Permutation_Matrix(Var)\n"
   ]
  },
  {
   "cell_type": "code",
   "execution_count": 6,
   "metadata": {},
   "outputs": [],
   "source": [
    "Pmat = np.dot(Perm,H);\n",
    "Pmat = img_size*Pmat[:CR,:];"
   ]
  },
  {
   "cell_type": "code",
   "execution_count": 7,
   "metadata": {},
   "outputs": [
    {
     "data": {
      "text/plain": [
       "(512, 4096)"
      ]
     },
     "execution_count": 7,
     "metadata": {},
     "output_type": "execute_result"
    }
   ],
   "source": [
    "Pmat.shape"
   ]
  },
  {
   "cell_type": "code",
   "execution_count": 8,
   "metadata": {},
   "outputs": [],
   "source": [
    "H_pos = np.zeros((CR, img_size**2));\n",
    "H_neg = np.zeros((CR, img_size**2));\n",
    "H_pos[Pmat>0] = Pmat[Pmat>0];\n",
    "H_neg[Pmat<0] = -Pmat[Pmat<0];"
   ]
  },
  {
   "cell_type": "code",
   "execution_count": 9,
   "metadata": {},
   "outputs": [],
   "source": [
    "N0=10;\n",
    "K =1.6;\n",
    "C = 1070;\n",
    "s = 55;\n"
   ]
  },
  {
   "cell_type": "code",
   "execution_count": 10,
   "metadata": {},
   "outputs": [],
   "source": [
    "m_pos = simu_raw_meas(img, N0, img_size, H_pos, C, s, K);\n",
    "m_neg = simu_raw_meas(img, N0, img_size, H_neg, C, s, K);"
   ]
  },
  {
   "cell_type": "code",
   "execution_count": 11,
   "metadata": {},
   "outputs": [],
   "source": [
    "y = m_pos+m_neg-2*C"
   ]
  },
  {
   "cell_type": "code",
   "execution_count": 12,
   "metadata": {},
   "outputs": [
    {
     "data": {
      "text/plain": [
       "9.549660068794278"
      ]
     },
     "execution_count": 12,
     "metadata": {},
     "output_type": "execute_result"
    }
   ],
   "source": [
    "(2*np.mean(y))/(K*img_size**2)"
   ]
  },
  {
   "cell_type": "code",
   "execution_count": 17,
   "metadata": {},
   "outputs": [
    {
     "data": {
      "text/plain": [
       "16.63247186063322"
      ]
     },
     "execution_count": 17,
     "metadata": {},
     "output_type": "execute_result"
    }
   ],
   "source": [
    "2*(np.std(y)**2-2*s**2)/(K*img_size**2)"
   ]
  },
  {
   "cell_type": "code",
   "execution_count": null,
   "metadata": {},
   "outputs": [],
   "source": []
  }
 ],
 "metadata": {
  "kernelspec": {
   "display_name": "spyrit-env",
   "language": "python",
   "name": "spyrit-env"
  },
  "language_info": {
   "codemirror_mode": {
    "name": "ipython",
    "version": 3
   },
   "file_extension": ".py",
   "mimetype": "text/x-python",
   "name": "python",
   "nbconvert_exporter": "python",
   "pygments_lexer": "ipython3",
   "version": "3.9.7"
  }
 },
 "nbformat": 4,
 "nbformat_minor": 4
}

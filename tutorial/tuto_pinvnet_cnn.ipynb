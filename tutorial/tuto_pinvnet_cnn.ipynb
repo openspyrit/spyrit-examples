{
  "cells": [
    {
      "attachments": {},
      "cell_type": "markdown",
      "metadata": {},
      "source": [
        "[![Open In Colab](https://colab.research.google.com/assets/colab-badge.svg)](https://colab.research.google.com/github/openspyrit/spyrit-examples/blob/master/tutorial/tuto_pinvnet_cnn.ipynb)"
      ]
    },
    {
      "attachments": {},
      "cell_type": "markdown",
      "metadata": {
        "id": "mbA6mRJNlX3Q"
      },
      "source": [
        "# PinvNet (pseudo-inverse) + CNN"
      ]
    },
    {
      "attachments": {},
      "cell_type": "markdown",
      "metadata": {},
      "source": [
        "This tutorial shows how to simulate measurements and perform image reconstruction using PinvNet (pseudoinverse linear network) with CNN denoising as a last layer. This tutorial is a simplified version of the documentation tutorial [Pseudoinverse solution + CNN denoising](https://spyrit.readthedocs.io/en/master/gallery/tuto_pseudoinverse_cnn_linear.html#sphx-glr-gallery-tuto-pseudoinverse-cnn-linear-py) to run on colab. "
      ]
    },
    {
      "attachments": {},
      "cell_type": "markdown",
      "metadata": {},
      "source": [
        "The measurement operator is chosen as a Hadamard matrix with positive coefficients, which can be replaced by any matrix."
      ]
    },
    {
      "attachments": {},
      "cell_type": "markdown",
      "metadata": {},
      "source": [
        "### Set google colab"
      ]
    },
    {
      "cell_type": "markdown",
      "metadata": {},
      "source": [
        "On colab, to run on GPU, select *GPU* from the navigation menu *Runtime/Change runtime type*."
      ]
    },
    {
      "cell_type": "code",
      "execution_count": null,
      "metadata": {},
      "outputs": [],
      "source": [
        "!nvidia-smi"
      ]
    },
    {
      "attachments": {},
      "cell_type": "markdown",
      "metadata": {
        "id": "BWsO227W3jZ_"
      },
      "source": [
        "Set *mode_colab=True* to run in colab. Mount google drive, needed to import spyrit modules."
      ]
    },
    {
      "cell_type": "code",
      "execution_count": null,
      "metadata": {
        "id": "LNKXfDpdlX3U"
      },
      "outputs": [],
      "source": [
        "mode_colab = True\n",
        "if (mode_colab is True):\n",
        "    # Connect to googledrive\n",
        "    #if 'google.colab' in str(get_ipython()):\n",
        "    # Mount google drive to access files via colab\n",
        "    from google.colab import drive\n",
        "    drive.mount(\"/content/gdrive\")  \n",
        "    %cd /content/gdrive/MyDrive/    "
      ]
    },
    {
      "attachments": {},
      "cell_type": "markdown",
      "metadata": {},
      "source": [
        "### Clone Spyrit package"
      ]
    },
    {
      "attachments": {},
      "cell_type": "markdown",
      "metadata": {
        "id": "JYhnDHEs3tse"
      },
      "source": [
        "Clone and install spyrit package if not installed or move to spyrit folder. "
      ]
    },
    {
      "cell_type": "code",
      "execution_count": null,
      "metadata": {
        "id": "WTSdFQCvlX3W"
      },
      "outputs": [],
      "source": [
        "# #%%capture\n",
        "install_spyrit = True\n",
        "if (mode_colab is True):\n",
        "    if install_spyrit is True:\n",
        "        # Clone and install\n",
        "        !git clone https://github.com/openspyrit/spyrit.git\n",
        "        %cd spyrit\n",
        "        !pip install -e .\n",
        "\n",
        "        # Install extra dependencies\n",
        "        !pip install gdown\n",
        "        !pip install girder_client\n",
        "    else:\n",
        "        # cd to spyrit folder is already cloned in your drive\n",
        "        %cd /content/gdrive/MyDrive/Colab_Notebooks/openspyrit/spyrit\n",
        "\n",
        "    # Add paths for modules\n",
        "    import sys\n",
        "    sys.path.append('./spyrit/core')\n",
        "    sys.path.append('./spyrit/misc')\n",
        "    sys.path.append('./spyrit/tutorial')\n",
        "else:\n",
        "    # Change path to spyrit/\n",
        "    # Assumes are in /spyrit-examples/tutorial\n",
        "    import os\n",
        "    os.chdir('../../spyrit')\n",
        "    !pwd"
      ]
    },
    {
      "attachments": {},
      "cell_type": "markdown",
      "metadata": {},
      "source": [
        "## Settings and requirements"
      ]
    },
    {
      "cell_type": "markdown",
      "metadata": {},
      "source": [
        "### Set Parameters"
      ]
    },
    {
      "cell_type": "code",
      "execution_count": null,
      "metadata": {
        "id": "FF4uhDERlX3Y"
      },
      "outputs": [],
      "source": [
        "# Parameters\n",
        "H = 64                          # Image height (assumed squared image)\n",
        "M = H**2 // 4                   # Num measurements = subsampled by factor 4\n",
        "\n",
        "B = 10                          # Batch size\n",
        "imgs_path = './spyrit/images'   # Path to image examples"
      ]
    },
    {
      "attachments": {},
      "cell_type": "markdown",
      "metadata": {
        "id": "8WMsSp9clX3Z"
      },
      "source": [
        "## Load data"
      ]
    },
    {
      "attachments": {},
      "cell_type": "markdown",
      "metadata": {},
      "source": [
        "Load a batch of images from the folder *spyrit/images*. Images are transformed to grayscale and normalized to $[-1,1]$ for training by `transform_gray_norm`. "
      ]
    },
    {
      "cell_type": "code",
      "execution_count": null,
      "metadata": {
        "id": "ID3xMtw4lX3Z"
      },
      "outputs": [],
      "source": [
        "import os\n",
        "from spyrit.misc.statistics import transform_gray_norm\n",
        "import torchvision\n",
        "import torch\n",
        "from spyrit.misc.disp import imagesc\n",
        "\n",
        "h = 64            # image size hxh\n",
        "i = 1             # Image index (modify to change the image)\n",
        "\n",
        "# Create a transform for natural images to normalized grayscale image tensors\n",
        "transform = transform_gray_norm(img_size=h)\n",
        "\n",
        "# Create dataset and loader (expects class folder 'images/test/')\n",
        "dataset = torchvision.datasets.ImageFolder(root=imgs_path, transform=transform)\n",
        "dataloader = torch.utils.data.DataLoader(dataset, batch_size = 7)\n",
        "\n",
        "x, _ = next(iter(dataloader))\n",
        "print(f'Shape of input images: {x.shape}')\n",
        "\n",
        "# Select image\n",
        "x = x[i:i+1,:,:,:]\n",
        "x = x.detach().clone()\n",
        "b,c,h,w = x.shape\n",
        "\n",
        "# plot\n",
        "x_plot = x.view(-1,h,h).cpu().numpy()\n",
        "imagesc(x_plot[0,:,:], r'$x$ in [-1, 1]')"
      ]
    },
    {
      "cell_type": "markdown",
      "metadata": {},
      "source": [
        "## Data simulation"
      ]
    },
    {
      "cell_type": "markdown",
      "metadata": {},
      "source": [
        "Data simulation in spyrit is done by using three operators from `spyrit.core.meas` that correspond to image normalization, forward operator and noise perturbation. In the example below, this corresponds to the following steps:\n",
        "\n",
        "$$\n",
        "x \\xrightarrow[\\text{Step 1}]{\\text{NoNoise}} \\tilde{x}=\\frac{x+1}{2} \\xrightarrow[\\text{Step 2}]{\\text{Linear}} y=P\\tilde{x} \\xrightarrow[\\text{Step 3}]{\\text{Poisson}} \\mathcal{P}(\\alpha y)\n",
        "$$\n",
        "\n",
        "- **Normalization operator**: Given an image $x$ between $[-1, 1]$ (for training), the image is first normalized such that $\\tilde{x}$ ranges between $[0, 1]$ as\n",
        "\n",
        "$$\n",
        "\\tilde{x}=\\frac{x+1}{2}\n",
        "$$\n",
        "using `spyrit.core.noise.NoNoise` operator. This normalization is required in order to apply the forward operator on positive images (see tutorial on [acquisition operators](https://spyrit.readthedocs.io/en/pinv_cnn/gallery/tuto_acquisition_operators.html)).\n",
        "\n",
        "- **Forward operator**: Measurements $y$ are obtained via the linear operator $H$ : \n",
        "\n",
        "$$\n",
        "y = H\\tilde{x}.\n",
        "$$\n",
        "\n",
        "- **Noise operator**: Data is finally perturbed by Poisson noise as\n",
        "\n",
        "$$\n",
        "m = \\mathcal{P}(\\alpha y)\n",
        "$$\n",
        "\n",
        "where $\\alpha$ accounts for the mean photon counts, using spirit's **spyrit.core.noise.Poisson**. \n"
      ]
    },
    {
      "attachments": {},
      "cell_type": "markdown",
      "metadata": {
        "id": "qOSh1COplX3a"
      },
      "source": [
        "### Define a measurement operator"
      ]
    },
    {
      "cell_type": "markdown",
      "metadata": {},
      "source": [
        "We consider the case where the measurement matrix is the positive component of a Hadamard matrix and the sampling operator preserves only the first $M$ low-frequency coefficients. In the code below `M` is the number of meas, `h` the height, and `Ord` the Ordering matrix for undersampling. "
      ]
    },
    {
      "cell_type": "code",
      "execution_count": null,
      "metadata": {},
      "outputs": [],
      "source": [
        "# Sampling parameters\n",
        "und = 4                # undersampling factor\n",
        "M = h**2 // und        # number of measurements (undersampling factor = 4)"
      ]
    },
    {
      "cell_type": "code",
      "execution_count": null,
      "metadata": {},
      "outputs": [],
      "source": [
        "import numpy as np\n",
        "import math\n",
        "from spyrit.misc.sampling import Permutation_Matrix\n",
        "from spyrit.misc.walsh_hadamard import walsh2_matrix\n",
        "\n",
        "F = walsh2_matrix(h)\n",
        "F = np.where(F>0, F, 0)\n",
        "\n",
        "Sampling_map = np.ones((h,h))\n",
        "M_xy = math.ceil(M**0.5)\n",
        "Sampling_map[:,M_xy:] = 0\n",
        "Sampling_map[M_xy:,:] = 0\n",
        "\n",
        "Perm = Permutation_Matrix(Sampling_map)\n",
        "F = Perm@F\n",
        "H = F[:M,:]\n",
        "print(f\"Shape of the measurement matrix: {H.shape}\")\n",
        "\n",
        "imagesc(Sampling_map, 'low-frequency sampling map')"
      ]
    },
    {
      "cell_type": "markdown",
      "metadata": {},
      "source": [
        "Then, we instantiate a `spyrit.core.meas.Linear` measurement operator"
      ]
    },
    {
      "cell_type": "code",
      "execution_count": null,
      "metadata": {},
      "outputs": [],
      "source": [
        "from spyrit.core.meas import Linear\n",
        "meas_op = Linear(H, pinv=True)"
      ]
    },
    {
      "cell_type": "markdown",
      "metadata": {},
      "source": [
        "### Noise operator"
      ]
    },
    {
      "cell_type": "markdown",
      "metadata": {},
      "source": [
        "In the noiseless case, we consider the `spyrit.core.noise.NoNoise` operator. If we wanted to use Poisson noise, we would use instead `spyrit.core.noise.Poisson` and set `N0` (mean number of photons) to the desired noise level. "
      ]
    },
    {
      "cell_type": "code",
      "execution_count": null,
      "metadata": {},
      "outputs": [],
      "source": [
        "from spyrit.core.noise import NoNoise\n",
        "# from spyrit.core.noise import Poisson\n",
        "\n",
        "N0 = 1.0         # Noise level (noiseless)\n",
        "noise = NoNoise(meas_op)\n",
        "# noise = Poisson(meas_op)\n",
        "\n",
        "# Simulate measurements\n",
        "y = noise(x.view(b*c,h*w))\n",
        "print(f'Shape of raw measurements: {y.shape}')"
      ]
    },
    {
      "cell_type": "markdown",
      "metadata": {},
      "source": [
        "### Preprocessing operator"
      ]
    },
    {
      "cell_type": "markdown",
      "metadata": {},
      "source": [
        "Note that previous steps allow to simulate measurements. A fourth step is done to preprocess the data corresponding to $\\tilde{x}$ in order to compute it for the original $x$  \n",
        "\n",
        "$$\n",
        "y \\xrightarrow[\\text{Step 4}]{\\text{Prep}} m=\\frac{2y}{\\alpha}-P\\mathbb{I},\n",
        "$$\n",
        "\n",
        "which in spyrit is done with `spyrit.core.prep.DirectPoisson`."
      ]
    },
    {
      "cell_type": "markdown",
      "metadata": {},
      "source": [
        "We now compute and plot the preprocessed measurements corresponding to an image in $[-1,1]$"
      ]
    },
    {
      "cell_type": "code",
      "execution_count": null,
      "metadata": {
        "id": "BpV1mA6UlX3d"
      },
      "outputs": [],
      "source": [
        "from spyrit.core.prep import DirectPoisson\n",
        "prep = DirectPoisson(N0, meas_op) # \"Undo\" the NoNoise operator\n",
        "\n",
        "m = prep(y)\n",
        "print(f'Shape of the preprocessed measurements: {m.shape}')"
      ]
    },
    {
      "attachments": {},
      "cell_type": "markdown",
      "metadata": {
        "id": "SslsO1b_DTnR"
      },
      "source": [
        "To display the subsampled measurement vector as an image in the transformed domain, we use the `spyrit.misc.sampling.meas2img` function\n"
      ]
    },
    {
      "cell_type": "code",
      "execution_count": null,
      "metadata": {},
      "outputs": [],
      "source": [
        "# plot\n",
        "from spyrit.misc.sampling import meas2img\n",
        "\n",
        "m_plot = m.detach().numpy().squeeze()\n",
        "m_plot = meas2img(m_plot, Sampling_map)\n",
        "print(f'Shape of the preprocessed measurement image: {m_plot.shape}')\n",
        "\n",
        "imagesc(m_plot, 'Preprocessed measurements (no noise)')"
      ]
    },
    {
      "attachments": {},
      "cell_type": "markdown",
      "metadata": {
        "id": "GcPslBpQlX3f"
      },
      "source": [
        "## PinvNet Network"
      ]
    },
    {
      "attachments": {},
      "cell_type": "markdown",
      "metadata": {},
      "source": [
        "We consider the `spyrit.core.recon.PinvNet` class that reconstructs an image by computing the pseudoinverse solution, which is fed to a neural network denoiser. To compute the pseudoinverse solution only, the denoiser can be set to the identity operator"
      ]
    },
    {
      "cell_type": "markdown",
      "metadata": {},
      "source": [
        "<img src=\"https://spyrit.readthedocs.io/en/master/_images/pinvnet.png\" alt=\"drawing\" width=\"400\" class=\"center\" />"
      ]
    },
    {
      "cell_type": "markdown",
      "metadata": {},
      "source": [
        "Note that the forward operator, the pseudo-inverse reconstruction and the denoiser are layers of PinvNet, where only the last layer has learnable parameters. Thus, we pass `noise`, `prep` and `denoi` to `PinvNet`."
      ]
    },
    {
      "cell_type": "code",
      "execution_count": null,
      "metadata": {},
      "outputs": [],
      "source": [
        "from spyrit.core.recon import PinvNet\n",
        "\n",
        "# Create PinvNet\n",
        "pinv_net = PinvNet(noise, prep, denoi=torch.nn.Identity())"
      ]
    },
    {
      "cell_type": "markdown",
      "metadata": {},
      "source": [
        "Then, we reconstruct the image from the measurement vector `y` using the `reconstruct` method"
      ]
    },
    {
      "cell_type": "code",
      "execution_count": null,
      "metadata": {},
      "outputs": [],
      "source": [
        "# Reconstruct\n",
        "x_rec = pinv_net.reconstruct(y)"
      ]
    },
    {
      "cell_type": "markdown",
      "metadata": {},
      "source": [
        "We plot the results"
      ]
    },
    {
      "cell_type": "code",
      "execution_count": null,
      "metadata": {},
      "outputs": [],
      "source": [
        "# plot\n",
        "x_plot = x.squeeze().cpu().numpy()\n",
        "x_plot2 = x_rec.squeeze().cpu().numpy()\n",
        "\n",
        "import matplotlib.pyplot as plt\n",
        "from spyrit.misc.disp import add_colorbar, noaxis\n",
        "\n",
        "f, (ax1, ax2) = plt.subplots(1, 2, figsize=(10,5))\n",
        "im1=ax1.imshow(x_plot, cmap='gray')\n",
        "ax1.set_title('Ground-truth image', fontsize=20)\n",
        "noaxis(ax1)\n",
        "add_colorbar(im1, 'bottom', size='20%')\n",
        "\n",
        "im2=ax2.imshow(x_plot2, cmap='gray')\n",
        "ax2.set_title('Pinv reconstruction', fontsize=20)\n",
        "noaxis(ax2)\n",
        "add_colorbar(im2, 'bottom', size='20%')\n"
      ]
    },
    {
      "cell_type": "markdown",
      "metadata": {},
      "source": [
        "## PinvNet Network + CNN"
      ]
    },
    {
      "cell_type": "markdown",
      "metadata": {},
      "source": [
        "Artefacts can be removed by selecting a neural network denoiser (last layer of PinvNet). We select a simple CNN using the `spyrit.core.nnet.ConvNet` class, but this can be replaced by any neural network (eg. UNet from `spyrit.core.nnet.Unet`)."
      ]
    },
    {
      "cell_type": "markdown",
      "metadata": {},
      "source": [
        "<img src=\"https://spyrit.readthedocs.io/en/master/_images/pinvnet_cnn.png\" alt=\"drawing\" width=\"400\" class=\"center\" />"
      ]
    },
    {
      "cell_type": "code",
      "execution_count": null,
      "metadata": {},
      "outputs": [],
      "source": [
        "from spyrit.core.nnet import ConvNet\n",
        "from spyrit.core.train import load_net\n",
        "\n",
        "# Define PInvNet with ConvNet denoising layer\n",
        "denoi = ConvNet()\n",
        "pinv_net_cnn = PinvNet(noise, prep, denoi)\n",
        "\n",
        "# Send to GPU if available\n",
        "device = torch.device(\"cuda:0\" if torch.cuda.is_available() else \"cpu\")\n",
        "pinv_net_cnn = pinv_net_cnn.to(device)"
      ]
    },
    {
      "cell_type": "markdown",
      "metadata": {},
      "source": [
        "As an example, we use a simple ConvNet that has been pretrained using STL-10 dataset. We download the pretrained weights and load them into the network."
      ]
    },
    {
      "cell_type": "code",
      "execution_count": null,
      "metadata": {},
      "outputs": [],
      "source": [
        "# Load pretrained model\n",
        "try:\n",
        "    import gdown\n",
        "    # 30 epochs\n",
        "    url_cnn = 'https://drive.google.com/file/d/1IZYff1xQxJ3ckAnObqAWyOure6Bjkj4k/view?usp=drive_link'\n",
        "    name_cnn = 'pinv-net_cnn_stl10_N0_1_N_64_M_1024_epo_30_lr_0.001_sss_10_sdr_0.5_bs_512_reg_1e-07'\n",
        "    \n",
        "    # Create model folder\n",
        "    model_path = \"./model\"\n",
        "    if os.path.exists(model_path) is False:\n",
        "        os.mkdir(model_path)\n",
        "        print(f'Created {model_path}')\n",
        "\n",
        "    # Download model weights\n",
        "    model_cnn_path = os.path.join(model_path, name_cnn)\n",
        "    gdown.download(url_cnn, f'{model_cnn_path}.pth', quiet=False,fuzzy=True)\n",
        "\n",
        "    # Load model weights\n",
        "    load_net(model_cnn_path, pinv_net_cnn, device, False)\n",
        "    print(f'Model {model_path} loaded.')\n",
        "except:\n",
        "    print(f'Model {model_path} not found!')"
      ]
    },
    {
      "cell_type": "markdown",
      "metadata": {},
      "source": [
        "We now reconstruct the image using PinvNet with pretrained CNN denoising and plot results side by side with the PinvNet without denoising"
      ]
    },
    {
      "cell_type": "code",
      "execution_count": null,
      "metadata": {},
      "outputs": [],
      "source": [
        "# Reconstruct\n",
        "with torch.no_grad():\n",
        "    x_rec_cnn = pinv_net_cnn.reconstruct(y.to(device))"
      ]
    },
    {
      "cell_type": "code",
      "execution_count": null,
      "metadata": {},
      "outputs": [],
      "source": [
        "# plot\n",
        "x_plot = x.squeeze().cpu().numpy()\n",
        "x_plot2 = x_rec.squeeze().cpu().numpy()\n",
        "x_plot3 = x_rec_cnn.squeeze().cpu().numpy()\n",
        "\n",
        "import matplotlib.pyplot as plt\n",
        "from spyrit.misc.disp import add_colorbar, noaxis\n",
        "\n",
        "f, (ax1, ax2, ax3) = plt.subplots(1, 3, figsize=(15,5))\n",
        "im1=ax1.imshow(x_plot, cmap='gray')\n",
        "ax1.set_title('Ground-truth image', fontsize=20)\n",
        "noaxis(ax1)\n",
        "add_colorbar(im1, 'bottom', size='20%')\n",
        "\n",
        "im2=ax2.imshow(x_plot2, cmap='gray')\n",
        "ax2.set_title('PinvNet reconstruction', fontsize=20)\n",
        "noaxis(ax2)\n",
        "add_colorbar(im2, 'bottom', size='20%')\n",
        "\n",
        "im3=ax3.imshow(x_plot3, cmap='gray')\n",
        "ax3.set_title(f'PinvNet with CNN', fontsize=20)\n",
        "noaxis(ax3)\n",
        "add_colorbar(im3, 'bottom', size='20%')"
      ]
    }
  ],
  "metadata": {
    "colab": {
      "provenance": []
    },
    "kernelspec": {
      "display_name": "spy",
      "language": "python",
      "name": "python3"
    },
    "language_info": {
      "codemirror_mode": {
        "name": "ipython",
        "version": 3
      },
      "file_extension": ".py",
      "mimetype": "text/x-python",
      "name": "python",
      "nbconvert_exporter": "python",
      "pygments_lexer": "ipython3",
      "version": "3.11.3"
    },
    "orig_nbformat": 4
  },
  "nbformat": 4,
  "nbformat_minor": 0
}

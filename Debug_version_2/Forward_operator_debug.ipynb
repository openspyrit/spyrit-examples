{
 "cells": [
  {
   "cell_type": "code",
   "execution_count": 1,
   "id": "d76177d5-8be7-4c30-9c67-73db868ec9da",
   "metadata": {},
   "outputs": [],
   "source": [
    "import torch\n",
    "import numpy as np\n",
    "from torchvision import datasets, transforms\n",
    "from pathlib import Path\n",
    "import spyrit.misc.walsh_hadamard as wh\n",
    "\n",
    "from spyrit.misc.statistics import stat_walsh_stl10\n",
    "from spyrit.misc.statistics import *\n",
    "from spyrit.misc.disp import *"
   ]
  },
  {
   "cell_type": "code",
   "execution_count": 2,
   "id": "da911fa8-10f7-483d-9ddd-a657d7f6ebe3",
   "metadata": {},
   "outputs": [],
   "source": [
    "img_size = 64 # image size\n",
    "M = 1024    # number of measurements\n",
    "N0 = 10     # Image intensity (in photons)\n",
    "\n",
    "#- Model and data paths\n",
    "data_root = Path('../../data/')\n",
    "stats_root = Path('../../data/stats_walsh')"
   ]
  },
  {
   "cell_type": "code",
   "execution_count": 3,
   "id": "678fcd15-2316-4694-84c2-9b92ce0c40aa",
   "metadata": {},
   "outputs": [],
   "source": [
    "#%% A batch of STL-10 test images\n",
    "device = torch.device(\"cuda:0\" if torch.cuda.is_available() else \"cpu\")\n",
    "torch.manual_seed(7)\n",
    "\n",
    "transform = transforms.Compose(\n",
    "    [transforms.functional.to_grayscale,\n",
    "     transforms.Resize((img_size, img_size)),\n",
    "     transforms.ToTensor(),\n",
    "     transforms.Normalize([0.5], [0.5])])\n",
    "\n",
    "testset = \\\n",
    "    torchvision.datasets.STL10(root=data_root, split='test',download=False, transform=transform)\n",
    "testloader =  torch.utils.data.DataLoader(testset, batch_size=128, shuffle=False)"
   ]
  },
  {
   "cell_type": "code",
   "execution_count": 4,
   "id": "0d8acc5b-b605-4a17-b307-aec3cb8286a8",
   "metadata": {},
   "outputs": [],
   "source": [
    "inputs, _ = next(iter(testloader))\n",
    "b,c,h,w = inputs.shape"
   ]
  },
  {
   "cell_type": "code",
   "execution_count": 5,
   "id": "950de3b3-a438-439e-af79-d0408288a76d",
   "metadata": {},
   "outputs": [],
   "source": [
    "# stat_walsh_stl10()\n",
    "Cov = np.load(stats_root / Path(\"Cov_{}x{}.npy\".format(img_size, img_size)))\n",
    "Mean = np.load(stats_root / Path(\"Average_{}x{}.npy\".format(img_size, img_size)))\n",
    "H =  wh.walsh2_matrix(img_size)\n",
    "# H =  wh.walsh2_matrix(img_size)/img_size\n",
    "# Cov /= img_size*img_size # THIS NEEDS TO BE NORMALIAZED FOR CONSISTENCY!\n",
    "\n",
    "\n",
    "Ord = Cov2Var(Cov)\n",
    "Perm = Permutation_Matrix(Ord)\n",
    "Pmat = np.dot(Perm,H);\n",
    "Pmat = Pmat[:M,:];\n"
   ]
  },
  {
   "cell_type": "code",
   "execution_count": 6,
   "id": "e72c1aae-5862-4e68-8ce1-8fd29bb5e725",
   "metadata": {},
   "outputs": [],
   "source": [
    "x = inputs.view(b*c,w*h)"
   ]
  },
  {
   "cell_type": "code",
   "execution_count": 7,
   "id": "423c62a0-067d-487e-b100-6415459ad70c",
   "metadata": {},
   "outputs": [
    {
     "data": {
      "image/png": "[encoded data removed]",
      "text/plain": [
       "<Figure size 432x288 with 2 Axes>"
      ]
     },
     "metadata": {
      "needs_background": "light"
     },
     "output_type": "display_data"
    }
   ],
   "source": [
    "img = x[1,:]\n",
    "img = img.numpy();\n",
    "imagesc(np.reshape(img,(h,w)))"
   ]
  },
  {
   "cell_type": "code",
   "execution_count": 8,
   "id": "9190030b-d3d0-46b9-878c-302ccec5168b",
   "metadata": {},
   "outputs": [],
   "source": [
    "from spyrit.restructured.Updated_Had_Dcan import * "
   ]
  },
  {
   "cell_type": "markdown",
   "id": "355e8f47-251f-427d-9bf8-4841ab7dcac1",
   "metadata": {
    "tags": []
   },
   "source": [
    "# Forward Operator\n",
    "## Instancier"
   ]
  },
  {
   "cell_type": "code",
   "execution_count": 9,
   "id": "6ad2c92e-1eca-4535-babb-b902eb2b6682",
   "metadata": {},
   "outputs": [],
   "source": [
    "FO = Forward_operator(Pmat)"
   ]
  },
  {
   "cell_type": "code",
   "execution_count": 10,
   "id": "c66db587-60c3-4e9e-9cca-134fe2f1efaa",
   "metadata": {},
   "outputs": [
    {
     "name": "stdout",
     "output_type": "stream",
     "text": [
      "4096\n",
      "1024\n",
      "Linear(in_features=4096, out_features=1024, bias=False)\n",
      "Linear(in_features=1024, out_features=4096, bias=False)\n"
     ]
    }
   ],
   "source": [
    "print(FO.N)\n",
    "print(FO.M)\n",
    "print(FO.Hsub)\n",
    "print(FO.Hsub_adjoint)"
   ]
  },
  {
   "cell_type": "code",
   "execution_count": 11,
   "id": "49f05fad-3301-491c-bfb1-2131f43edf42",
   "metadata": {},
   "outputs": [
    {
     "name": "stdout",
     "output_type": "stream",
     "text": [
      "tensor([[ 1.,  1.,  1.,  ...,  1.,  1.,  1.],\n",
      "        [ 1.,  1.,  1.,  ..., -1., -1., -1.],\n",
      "        [ 1.,  1.,  1.,  ...,  1.,  1.,  1.],\n",
      "        ...,\n",
      "        [ 1.,  1.,  1.,  ..., -1., -1., -1.],\n",
      "        [ 1.,  1., -1.,  ..., -1.,  1.,  1.],\n",
      "        [ 1.,  1.,  1.,  ...,  1.,  1.,  1.]])\n"
     ]
    }
   ],
   "source": [
    "print(FO.Hsub.weight.data)"
   ]
  },
  {
   "cell_type": "code",
   "execution_count": 12,
   "id": "5ffc446b-c21d-4982-95dc-3119c1fa4744",
   "metadata": {},
   "outputs": [
    {
     "name": "stdout",
     "output_type": "stream",
     "text": [
      "tensor([[ 1.,  1.,  1.,  ...,  1.,  1.,  1.],\n",
      "        [ 1.,  1.,  1.,  ...,  1.,  1.,  1.],\n",
      "        [ 1.,  1.,  1.,  ...,  1., -1.,  1.],\n",
      "        ...,\n",
      "        [ 1., -1.,  1.,  ..., -1., -1.,  1.],\n",
      "        [ 1., -1.,  1.,  ..., -1.,  1.,  1.],\n",
      "        [ 1., -1.,  1.,  ..., -1.,  1.,  1.]])\n"
     ]
    }
   ],
   "source": [
    "print(FO.Hsub_adjoint.weight.data)"
   ]
  },
  {
   "cell_type": "markdown",
   "id": "9ed91aaa-433b-4f47-b022-38c55e11dda3",
   "metadata": {},
   "source": [
    "Pour fadoua - check that same weigths as Pmat and Pmat.T\n",
    "And compare two lines"
   ]
  },
  {
   "cell_type": "markdown",
   "id": "41a2146f-9225-40ff-ad6d-f36fa5dc69b8",
   "metadata": {
    "tags": []
   },
   "source": [
    "# forward method"
   ]
  },
  {
   "cell_type": "code",
   "execution_count": 13,
   "id": "d29e692b-7ed9-4999-9877-5a9df0f7cf38",
   "metadata": {},
   "outputs": [],
   "source": [
    "y = FO(x)"
   ]
  },
  {
   "cell_type": "code",
   "execution_count": 14,
   "id": "c2f03c9e-c423-449d-8741-0ec617a7744a",
   "metadata": {},
   "outputs": [
    {
     "data": {
      "text/plain": [
       "torch.Size([128, 1024])"
      ]
     },
     "execution_count": 14,
     "metadata": {},
     "output_type": "execute_result"
    }
   ],
   "source": [
    "y.shape"
   ]
  },
  {
   "cell_type": "markdown",
   "id": "302b1539-4ba0-4c5a-ab6b-e6acc340356e",
   "metadata": {
    "tags": []
   },
   "source": [
    "Needs to be of shape (b*c, M)\n",
    "\n",
    "## adjoint method"
   ]
  },
  {
   "cell_type": "code",
   "execution_count": 15,
   "id": "28a9a82e-7970-402b-8c39-c1f825694d9c",
   "metadata": {},
   "outputs": [],
   "source": [
    "x_est = FO.adjoint(y)"
   ]
  },
  {
   "cell_type": "code",
   "execution_count": 16,
   "id": "be741357-8b72-46dd-b599-240255950cc7",
   "metadata": {},
   "outputs": [
    {
     "data": {
      "text/plain": [
       "torch.Size([128, 4096])"
      ]
     },
     "execution_count": 16,
     "metadata": {},
     "output_type": "execute_result"
    }
   ],
   "source": [
    "x_est.shape"
   ]
  },
  {
   "cell_type": "markdown",
   "id": "1e35fc76-af57-4a44-b2bc-07ecd0447e74",
   "metadata": {},
   "source": [
    "Needs to be of shape (b*c, N)"
   ]
  },
  {
   "cell_type": "code",
   "execution_count": 17,
   "id": "ab05a86e-4cde-4ec9-a745-c85e0620aad6",
   "metadata": {},
   "outputs": [
    {
     "data": {
      "image/png": "[encoded data removed]",
      "text/plain": [
       "<Figure size 432x288 with 2 Axes>"
      ]
     },
     "metadata": {
      "needs_background": "light"
     },
     "output_type": "display_data"
    }
   ],
   "source": [
    "img = 1/(w*h)*x_est[1,:]\n",
    "img = img.numpy();\n",
    "imagesc(np.reshape(img,(h,w)))"
   ]
  },
  {
   "cell_type": "markdown",
   "id": "de076708-0279-457f-ba12-7da5c839cafb",
   "metadata": {},
   "source": [
    "Close to initial image with downsample artifacts - OK"
   ]
  },
  {
   "cell_type": "markdown",
   "id": "413045db-0285-4905-8c6b-40a2b0f486d2",
   "metadata": {},
   "source": [
    "## Mat method"
   ]
  },
  {
   "cell_type": "code",
   "execution_count": 18,
   "id": "4124b4a0-1384-4635-a44f-6ae0ea7ad5a7",
   "metadata": {},
   "outputs": [
    {
     "name": "stdout",
     "output_type": "stream",
     "text": [
      "tensor([[ 1.,  1.,  1.,  ...,  1.,  1.,  1.],\n",
      "        [ 1.,  1.,  1.,  ..., -1., -1., -1.],\n",
      "        [ 1.,  1.,  1.,  ...,  1.,  1.,  1.],\n",
      "        ...,\n",
      "        [ 1.,  1.,  1.,  ..., -1., -1., -1.],\n",
      "        [ 1.,  1., -1.,  ..., -1.,  1.,  1.],\n",
      "        [ 1.,  1.,  1.,  ...,  1.,  1.,  1.]])\n",
      "torch.Size([1024, 4096])\n"
     ]
    }
   ],
   "source": [
    "print(FO.Mat())\n",
    "print(FO.Mat().shape)"
   ]
  },
  {
   "cell_type": "markdown",
   "id": "6eb557a1-0a50-41cf-aed6-d4ee50291bc8",
   "metadata": {
    "tags": []
   },
   "source": [
    "# Pos-neg split forward operator\n",
    "## Instancier"
   ]
  },
  {
   "cell_type": "code",
   "execution_count": 19,
   "id": "03f3a38d-b72b-4fa2-8164-91b7468972e7",
   "metadata": {},
   "outputs": [],
   "source": [
    "FO_split = Split_Forward_operator(Pmat)"
   ]
  },
  {
   "cell_type": "code",
   "execution_count": 20,
   "id": "02a3ce03-2010-46cc-967d-5b6e79dcb685",
   "metadata": {},
   "outputs": [
    {
     "name": "stdout",
     "output_type": "stream",
     "text": [
      "4096\n",
      "1024\n",
      "Linear(in_features=4096, out_features=1024, bias=False)\n",
      "Linear(in_features=1024, out_features=4096, bias=False)\n",
      "Linear(in_features=4096, out_features=2048, bias=False)\n"
     ]
    }
   ],
   "source": [
    "print(FO_split.N)\n",
    "print(FO_split.M)\n",
    "print(FO_split.Hsub)\n",
    "print(FO_split.Hsub_adjoint)\n",
    "print(FO_split.Hpos_neg)"
   ]
  },
  {
   "cell_type": "code",
   "execution_count": 21,
   "id": "1ff983fd-c2be-4944-b134-ea8e2b20dce4",
   "metadata": {},
   "outputs": [
    {
     "name": "stdout",
     "output_type": "stream",
     "text": [
      "tensor([[1., 1., 1.,  ..., 1., 1., 1.],\n",
      "        [0., 0., 0.,  ..., 0., 0., 0.],\n",
      "        [1., 1., 1.,  ..., 0., 0., 0.],\n",
      "        ...,\n",
      "        [0., 0., 1.,  ..., 1., 0., 0.],\n",
      "        [1., 1., 1.,  ..., 1., 1., 1.],\n",
      "        [0., 0., 0.,  ..., 0., 0., 0.]])\n"
     ]
    }
   ],
   "source": [
    "print(FO_split.Hpos_neg.weight.data)"
   ]
  },
  {
   "cell_type": "markdown",
   "id": "99e02c76-77cb-4cea-a902-a57d7d5b2c6a",
   "metadata": {},
   "source": [
    "Display a few lines as images"
   ]
  },
  {
   "cell_type": "code",
   "execution_count": 22,
   "id": "2033a755-2f54-40ca-959d-056e6f02f1d2",
   "metadata": {},
   "outputs": [],
   "source": [
    "m = FO_split((x+1)/2)"
   ]
  },
  {
   "cell_type": "code",
   "execution_count": 23,
   "id": "dfe91a5e-b3e4-451a-bba9-3ecf7e8bbb7b",
   "metadata": {},
   "outputs": [
    {
     "data": {
      "text/plain": [
       "torch.Size([128, 2048])"
      ]
     },
     "execution_count": 23,
     "metadata": {},
     "output_type": "execute_result"
    }
   ],
   "source": [
    "m.shape"
   ]
  },
  {
   "cell_type": "markdown",
   "id": "d8e80da0-dd70-49fd-9d3c-030708b92b18",
   "metadata": {},
   "source": [
    "Should be of shape (bc, 2M)"
   ]
  },
  {
   "cell_type": "code",
   "execution_count": 24,
   "id": "80752974-60ba-45de-84b5-43b50a029213",
   "metadata": {},
   "outputs": [
    {
     "name": "stdout",
     "output_type": "stream",
     "text": [
      "tensor([[ 6.9763e-08, -7.7812e-08, -1.6099e-08,  ...,  2.6832e-09,\n",
      "         -2.8509e-09, -4.5279e-09],\n",
      "        [-3.4881e-08, -1.6770e-09,  1.3416e-08,  ...,  1.6770e-10,\n",
      "         -3.2492e-09, -9.6427e-10],\n",
      "        [ 3.7565e-07, -1.7105e-08,  5.2322e-08,  ...,  7.0014e-09,\n",
      "          9.6165e-09,  2.8509e-09],\n",
      "        ...,\n",
      "        [ 1.1269e-07,  1.2074e-08, -3.0521e-08,  ..., -3.7732e-09,\n",
      "         -4.8633e-09,  6.1996e-09],\n",
      "        [-1.5428e-07, -1.1806e-07, -4.5614e-08,  ..., -4.4021e-09,\n",
      "         -8.0915e-09, -1.2923e-08],\n",
      "        [-4.2931e-08,  1.3416e-08, -2.2807e-08,  ..., -1.1351e-08,\n",
      "         -4.1086e-09,  3.0186e-09]])\n"
     ]
    }
   ],
   "source": [
    "even_index = range(0,2*M,2);\n",
    "odd_index = range(1,2*M,2);\n",
    "mplus = m[:, even_index];\n",
    "mminus = m[:, odd_index];\n",
    "y_est = 2*(mplus-mminus) - FO(torch.ones_like(x))\n",
    "print((y-y_est)/torch.norm(y))"
   ]
  },
  {
   "cell_type": "markdown",
   "id": "ef5b4651-7651-4681-9305-34217bc2d662",
   "metadata": {},
   "source": [
    "Relative error in the $10^{-8}$s\n",
    "\n",
    "# Split_Forward_operator_pylops \n",
    "## Instancier"
   ]
  },
  {
   "cell_type": "code",
   "execution_count": 25,
   "id": "53947af6-37ef-4aca-a5eb-78d86844bd4e",
   "metadata": {},
   "outputs": [],
   "source": [
    "# FO_Pyl = Split_Forward_operator_pylops(Pmat)"
   ]
  },
  {
   "cell_type": "markdown",
   "id": "5d1d42df-bae8-47ab-95b0-64c200f0363c",
   "metadata": {},
   "source": [
    "Tests will happen with tikhonov regularisation"
   ]
  },
  {
   "cell_type": "markdown",
   "id": "facc964d-90d1-4aca-872c-ebc9b5366c13",
   "metadata": {},
   "source": [
    "# Split_Forward_operator_ft_had\n",
    "## Instancier"
   ]
  },
  {
   "cell_type": "code",
   "execution_count": 26,
   "id": "9e42dea0-253e-4119-8d96-14204c080af5",
   "metadata": {},
   "outputs": [],
   "source": [
    "FO_Had = Split_Forward_operator_ft_had(Pmat, Perm)"
   ]
  },
  {
   "cell_type": "code",
   "execution_count": 27,
   "id": "81727d36-af76-4e92-8876-67e6db3785d2",
   "metadata": {},
   "outputs": [
    {
     "data": {
      "text/plain": [
       "array([[1., 0., 0., ..., 0., 0., 0.],\n",
       "       [0., 1., 0., ..., 0., 0., 0.],\n",
       "       [0., 0., 1., ..., 0., 0., 0.],\n",
       "       ...,\n",
       "       [0., 0., 0., ..., 1., 0., 0.],\n",
       "       [0., 0., 0., ..., 0., 1., 0.],\n",
       "       [0., 0., 0., ..., 0., 0., 1.]])"
      ]
     },
     "execution_count": 27,
     "metadata": {},
     "output_type": "execute_result"
    }
   ],
   "source": [
    "Perm@Perm.T"
   ]
  },
  {
   "cell_type": "code",
   "execution_count": 28,
   "id": "c6ed0e2a-4f2d-449d-bfaf-7629bbba9891",
   "metadata": {},
   "outputs": [
    {
     "name": "stdout",
     "output_type": "stream",
     "text": [
      "Linear(in_features=4096, out_features=4096, bias=False)\n",
      "tensor([[1., 0., 0.,  ..., 0., 0., 0.],\n",
      "        [0., 0., 0.,  ..., 0., 0., 0.],\n",
      "        [0., 0., 0.,  ..., 0., 0., 0.],\n",
      "        ...,\n",
      "        [0., 0., 0.,  ..., 0., 0., 0.],\n",
      "        [0., 0., 0.,  ..., 0., 1., 0.],\n",
      "        [0., 0., 0.,  ..., 0., 0., 1.]])\n"
     ]
    }
   ],
   "source": [
    "print(FO_Had.Perm)\n",
    "print(FO_Had.Perm.weight.data)"
   ]
  },
  {
   "cell_type": "code",
   "execution_count": 29,
   "id": "c09e9afd-3afa-4ea4-91b0-eddfa83f786b",
   "metadata": {},
   "outputs": [],
   "source": [
    "x_inv_tran = torch.zeros_like(x)\n",
    "x_inv_tran[:,:M] = y\n",
    "x_inv = FO_Had.inverse(x_inv_tran);"
   ]
  },
  {
   "cell_type": "code",
   "execution_count": 30,
   "id": "1c4f7f17-ccdb-4563-87a0-40656b3cfc28",
   "metadata": {},
   "outputs": [
    {
     "data": {
      "image/png": "[encoded data removed]",
      "text/plain": [
       "<Figure size 432x288 with 2 Axes>"
      ]
     },
     "metadata": {
      "needs_background": "light"
     },
     "output_type": "display_data"
    }
   ],
   "source": [
    "img = x_inv[1,:]\n",
    "img = img.numpy();\n",
    "imagesc(np.reshape(img,(h,w)))"
   ]
  },
  {
   "cell_type": "code",
   "execution_count": 31,
   "id": "9126ac66-9b65-43b0-b176-50f409e5e49e",
   "metadata": {},
   "outputs": [],
   "source": [
    "# B = Bruit_Poisson_approx_Gauss(N0,F)"
   ]
  },
  {
   "cell_type": "code",
   "execution_count": 32,
   "id": "efd99a9b-1894-458a-bfc7-3e1437382031",
   "metadata": {},
   "outputs": [],
   "source": [
    "# m_alpha = B(x)"
   ]
  },
  {
   "cell_type": "code",
   "execution_count": 33,
   "id": "10db119a-d758-4668-b1d9-8f3dec445220",
   "metadata": {},
   "outputs": [],
   "source": [
    "# m_alpha.shape"
   ]
  },
  {
   "cell_type": "code",
   "execution_count": 34,
   "id": "5f0e88ef-b2f6-4b0e-b369-629012cc8ef1",
   "metadata": {},
   "outputs": [],
   "source": [
    "# print(N0*m-m_alpha)"
   ]
  },
  {
   "cell_type": "code",
   "execution_count": 35,
   "id": "a9c21868-4377-455f-8b1d-9381503d17d0",
   "metadata": {},
   "outputs": [],
   "source": [
    "# m"
   ]
  },
  {
   "cell_type": "code",
   "execution_count": 36,
   "id": "99655e89-624a-4423-9d31-ddf78115f982",
   "metadata": {},
   "outputs": [],
   "source": [
    "# m_alpha"
   ]
  },
  {
   "cell_type": "markdown",
   "id": "7604c816-684d-4188-a56d-46c53b7983f4",
   "metadata": {},
   "source": [
    "Ok, seems like Bruit_Poisson_approx_Gauss works as intended"
   ]
  },
  {
   "cell_type": "code",
   "execution_count": null,
   "id": "ee50f809-fb98-44ad-b4c5-b7ee304e232c",
   "metadata": {},
   "outputs": [],
   "source": []
  }
 ],
 "metadata": {
  "kernelspec": {
   "display_name": "spyrit-env",
   "language": "python",
   "name": "spyrit-env"
  },
  "language_info": {
   "codemirror_mode": {
    "name": "ipython",
    "version": 3
   },
   "file_extension": ".py",
   "mimetype": "text/x-python",
   "name": "python",
   "nbconvert_exporter": "python",
   "pygments_lexer": "ipython3",
   "version": "3.8.13"
  }
 },
 "nbformat": 4,
 "nbformat_minor": 5
}

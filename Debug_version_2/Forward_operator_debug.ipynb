{
 "cells": [
  {
   "cell_type": "code",
   "execution_count": 1,
   "id": "d76177d5-8be7-4c30-9c67-73db868ec9da",
   "metadata": {},
   "outputs": [],
   "source": [
    "import torch\n",
    "import numpy as np\n",
    "from torchvision import datasets, transforms\n",
    "from pathlib import Path\n",
    "import spyrit.misc.walsh_hadamard as wh\n",
    "\n",
    "from spyrit.misc.statistics import stat_walsh_stl10\n",
    "from spyrit.misc.statistics import *\n",
    "from spyrit.misc.disp import *"
   ]
  },
  {
   "cell_type": "code",
   "execution_count": 2,
   "id": "da911fa8-10f7-483d-9ddd-a657d7f6ebe3",
   "metadata": {},
   "outputs": [],
   "source": [
    "img_size = 64 # image size\n",
    "M = 1024    # number of measurements\n",
    "N0 = 10     # Image intensity (in photons)\n",
    "\n",
    "#- Model and data paths\n",
    "data_root = Path('../../data/')\n",
    "stats_root = Path('../../data/stats_walsh')"
   ]
  },
  {
   "cell_type": "code",
   "execution_count": 3,
   "id": "678fcd15-2316-4694-84c2-9b92ce0c40aa",
   "metadata": {},
   "outputs": [],
   "source": [
    "#%% A batch of STL-10 test images\n",
    "device = torch.device(\"cuda:0\" if torch.cuda.is_available() else \"cpu\")\n",
    "torch.manual_seed(7)\n",
    "\n",
    "transform = transforms.Compose(\n",
    "    [transforms.functional.to_grayscale,\n",
    "     transforms.Resize((img_size, img_size)),\n",
    "     transforms.ToTensor(),\n",
    "     transforms.Normalize([0.5], [0.5])])\n",
    "\n",
    "testset = \\\n",
    "    torchvision.datasets.STL10(root=data_root, split='test',download=False, transform=transform)\n",
    "testloader =  torch.utils.data.DataLoader(testset, batch_size=128, shuffle=False)"
   ]
  },
  {
   "cell_type": "code",
   "execution_count": 4,
   "id": "0d8acc5b-b605-4a17-b307-aec3cb8286a8",
   "metadata": {},
   "outputs": [],
   "source": [
    "inputs, _ = next(iter(testloader))\n",
    "b,c,h,w = inputs.shape"
   ]
  },
  {
   "cell_type": "code",
   "execution_count": 5,
   "id": "950de3b3-a438-439e-af79-d0408288a76d",
   "metadata": {},
   "outputs": [],
   "source": [
    "# stat_walsh_stl10()\n",
    "Cov = np.load(stats_root / Path(\"Cov_{}x{}.npy\".format(img_size, img_size)))\n",
    "Mean = np.load(stats_root / Path(\"Average_{}x{}.npy\".format(img_size, img_size)))\n",
    "H =  wh.walsh2_matrix(img_size)\n",
    "# H =  wh.walsh2_matrix(img_size)/img_size\n",
    "# Cov /= img_size*img_size # THIS NEEDS TO BE NORMALIAZED FOR CONSISTENCY!\n",
    "\n",
    "\n",
    "Ord = Cov2Var(Cov)\n",
    "Perm = Permutation_Matrix(Ord)\n",
    "Pmat = np.dot(Perm,H);\n",
    "Pmat = Pmat[:M,:];\n"
   ]
  },
  {
   "cell_type": "code",
   "execution_count": 6,
   "id": "9190030b-d3d0-46b9-878c-302ccec5168b",
   "metadata": {},
   "outputs": [],
   "source": [
    "from spyrit.restructured.Updated_Had_Dcan import * "
   ]
  },
  {
   "cell_type": "code",
   "execution_count": 5,
   "id": "6ad2c92e-1eca-4535-babb-b902eb2b6682",
   "metadata": {},
   "outputs": [],
   "source": [
    "F = Forward_operator(Pmat)"
   ]
  },
  {
   "cell_type": "code",
   "execution_count": 6,
   "id": "06f8a4f1-fa75-4b24-8b15-9fbb72f4c079",
   "metadata": {},
   "outputs": [
    {
     "data": {
      "text/plain": [
       "torch.Size([128, 1, 64, 64])"
      ]
     },
     "execution_count": 6,
     "metadata": {},
     "output_type": "execute_result"
    }
   ],
   "source": [
    "inputs.shape"
   ]
  },
  {
   "cell_type": "code",
   "execution_count": 7,
   "id": "e72c1aae-5862-4e68-8ce1-8fd29bb5e725",
   "metadata": {},
   "outputs": [],
   "source": [
    "x = inputs.view(b*c,w*h)"
   ]
  },
  {
   "cell_type": "code",
   "execution_count": 8,
   "id": "5018ab52-4d7e-458e-89c0-712eb889003b",
   "metadata": {},
   "outputs": [
    {
     "data": {
      "text/plain": [
       "torch.Size([128, 4096])"
      ]
     },
     "execution_count": 8,
     "metadata": {},
     "output_type": "execute_result"
    }
   ],
   "source": [
    "x.shape"
   ]
  },
  {
   "cell_type": "code",
   "execution_count": 9,
   "id": "423c62a0-067d-487e-b100-6415459ad70c",
   "metadata": {},
   "outputs": [
    {
     "data": {
      "text/plain": [
       "<matplotlib.image.AxesImage at 0x7f13ed420cd0>"
      ]
     },
     "execution_count": 9,
     "metadata": {},
     "output_type": "execute_result"
    },
    {
     "data": {
      "image/png": "[encoded data removed]",
      "text/plain": [
       "<Figure size 432x288 with 1 Axes>"
      ]
     },
     "metadata": {
      "needs_background": "light"
     },
     "output_type": "display_data"
    }
   ],
   "source": [
    "img = x[1,:]\n",
    "img = img.numpy();\n",
    "plt.imshow(np.reshape(img,(h,w)), cmap='gray') "
   ]
  },
  {
   "cell_type": "code",
   "execution_count": 10,
   "id": "d29e692b-7ed9-4999-9877-5a9df0f7cf38",
   "metadata": {},
   "outputs": [],
   "source": [
    "y = F(x)"
   ]
  },
  {
   "cell_type": "code",
   "execution_count": 11,
   "id": "28a9a82e-7970-402b-8c39-c1f825694d9c",
   "metadata": {},
   "outputs": [],
   "source": [
    "x_est = F.adjoint(y)"
   ]
  },
  {
   "cell_type": "code",
   "execution_count": 12,
   "id": "be741357-8b72-46dd-b599-240255950cc7",
   "metadata": {},
   "outputs": [
    {
     "data": {
      "text/plain": [
       "torch.Size([128, 4096])"
      ]
     },
     "execution_count": 12,
     "metadata": {},
     "output_type": "execute_result"
    }
   ],
   "source": [
    "x_est.shape"
   ]
  },
  {
   "cell_type": "code",
   "execution_count": 13,
   "id": "ab05a86e-4cde-4ec9-a745-c85e0620aad6",
   "metadata": {},
   "outputs": [
    {
     "data": {
      "text/plain": [
       "<matplotlib.image.AxesImage at 0x7f13ed2fa970>"
      ]
     },
     "execution_count": 13,
     "metadata": {},
     "output_type": "execute_result"
    },
    {
     "data": {
      "image/png": "[encoded data removed]",
      "text/plain": [
       "<Figure size 432x288 with 1 Axes>"
      ]
     },
     "metadata": {
      "needs_background": "light"
     },
     "output_type": "display_data"
    }
   ],
   "source": [
    "img = x_est[1,:]\n",
    "img = img.numpy();\n",
    "plt.imshow(np.reshape(img,(h,w)), cmap='gray') "
   ]
  },
  {
   "cell_type": "code",
   "execution_count": 14,
   "id": "6c3846bb-453c-4881-97f5-ca26a9626b04",
   "metadata": {},
   "outputs": [
    {
     "data": {
      "text/plain": [
       "2872.2512"
      ]
     },
     "execution_count": 14,
     "metadata": {},
     "output_type": "execute_result"
    }
   ],
   "source": [
    "np.amax(img)"
   ]
  },
  {
   "cell_type": "code",
   "execution_count": 15,
   "id": "94e284c6-31c9-4153-8d93-7e584c91e82a",
   "metadata": {},
   "outputs": [
    {
     "ename": "NameError",
     "evalue": "name 'Pinv' is not defined",
     "output_type": "error",
     "traceback": [
      "\u001b[0;31m---------------------------------------------------------------------------\u001b[0m",
      "\u001b[0;31mNameError\u001b[0m                                 Traceback (most recent call last)",
      "Input \u001b[0;32mIn [15]\u001b[0m, in \u001b[0;36m<module>\u001b[0;34m\u001b[0m\n\u001b[0;32m----> 1\u001b[0m P \u001b[38;5;241m=\u001b[39m \u001b[43mPinv\u001b[49m(F)\n",
      "\u001b[0;31mNameError\u001b[0m: name 'Pinv' is not defined"
     ]
    }
   ],
   "source": [
    "P = Pinv(F)"
   ]
  },
  {
   "cell_type": "code",
   "execution_count": 16,
   "id": "12b66601-3a4e-45f1-b52a-1c352808a032",
   "metadata": {},
   "outputs": [
    {
     "ename": "NameError",
     "evalue": "name 'P' is not defined",
     "output_type": "error",
     "traceback": [
      "\u001b[0;31m---------------------------------------------------------------------------\u001b[0m",
      "\u001b[0;31mNameError\u001b[0m                                 Traceback (most recent call last)",
      "Input \u001b[0;32mIn [16]\u001b[0m, in \u001b[0;36m<module>\u001b[0;34m\u001b[0m\n\u001b[0;32m----> 1\u001b[0m x_pinv \u001b[38;5;241m=\u001b[39m \u001b[43mP\u001b[49m(y)\n",
      "\u001b[0;31mNameError\u001b[0m: name 'P' is not defined"
     ]
    }
   ],
   "source": [
    "x_pinv = P(y)"
   ]
  },
  {
   "cell_type": "code",
   "execution_count": 17,
   "id": "4fce6652-c0e1-48d6-9a34-a3c566193674",
   "metadata": {
    "tags": []
   },
   "outputs": [
    {
     "ename": "NameError",
     "evalue": "name 'x_pinv' is not defined",
     "output_type": "error",
     "traceback": [
      "\u001b[0;31m---------------------------------------------------------------------------\u001b[0m",
      "\u001b[0;31mNameError\u001b[0m                                 Traceback (most recent call last)",
      "Input \u001b[0;32mIn [17]\u001b[0m, in \u001b[0;36m<module>\u001b[0;34m\u001b[0m\n\u001b[0;32m----> 1\u001b[0m img \u001b[38;5;241m=\u001b[39m \u001b[43mx_pinv\u001b[49m[\u001b[38;5;241m1\u001b[39m,:]\n\u001b[1;32m      2\u001b[0m img \u001b[38;5;241m=\u001b[39m img\u001b[38;5;241m.\u001b[39mnumpy();\n\u001b[1;32m      3\u001b[0m plt\u001b[38;5;241m.\u001b[39mimshow(np\u001b[38;5;241m.\u001b[39mreshape(img,(h,w)), cmap\u001b[38;5;241m=\u001b[39m\u001b[38;5;124m'\u001b[39m\u001b[38;5;124mgray\u001b[39m\u001b[38;5;124m'\u001b[39m)\n",
      "\u001b[0;31mNameError\u001b[0m: name 'x_pinv' is not defined"
     ]
    }
   ],
   "source": [
    "img = x_pinv[1,:]\n",
    "img = img.numpy();\n",
    "plt.imshow(np.reshape(img,(h,w)), cmap='gray') "
   ]
  },
  {
   "cell_type": "code",
   "execution_count": 18,
   "id": "07598a19-c48d-419b-8092-a641e0b00351",
   "metadata": {},
   "outputs": [
    {
     "data": {
      "text/plain": [
       "2872.2512"
      ]
     },
     "execution_count": 18,
     "metadata": {},
     "output_type": "execute_result"
    }
   ],
   "source": [
    "np.amax(img)"
   ]
  },
  {
   "cell_type": "code",
   "execution_count": 19,
   "id": "2b3a1504-1fa0-407b-a11f-eb91fda6d158",
   "metadata": {},
   "outputs": [],
   "source": [
    "# #%% Simulate measurements\n",
    "# # model = noiCompNet(img_size, M, Mean, Cov, N0=N0, sig=0, H=H)\n",
    "# model = model.to(device)\n",
    "# inputs = inputs.to(device)\n",
    "\n",
    "# torch.manual_seed(0)    # for reproducibility\n",
    "# # raw = model.forward_acquire(inputs, b, c, h, w) # with pos/neg coefficients\n",
    "\n",
    "# #%% Reconstruction \n",
    "# # recon = model.forward_reconstruct_mmse(raw, b, c, h, w)\n",
    "\n",
    "# #%% Select two images in the batch\n",
    "# i_im = [71,72]\n",
    "# img = inputs[i_im, 0, :, :].cpu().detach().numpy().astype(np.float32, copy=False)\n",
    "# rec = recon[i_im, 0, :, :].cpu().detach().numpy()\n",
    "\n",
    "# #%% Error\n",
    "# #-- plot\n",
    "# f, axs = plt.subplots(1, 4, figsize=(12,8),  dpi= 100)\n",
    "# axs[0].imshow(img[0], cmap='gray') \n",
    "# axs[1].imshow(rec[0], cmap='gray')\n",
    "# axs[2].imshow(img[1], cmap='gray')\n",
    "# axs[3].imshow(rec[1], cmap='gray');\n",
    "# axs[0].set_title(\"ground-truth\")\n",
    "# axs[1].set_title(\"Completion recon\")\n",
    "# axs[2].set_title(\"ground-truth\")\n",
    "# axs[3].set_title(\"Completion recon\")\n",
    "# f.suptitle(f'Simulations assuming {N0} photons')\n"
   ]
  },
  {
   "cell_type": "markdown",
   "id": "6eb557a1-0a50-41cf-aed6-d4ee50291bc8",
   "metadata": {},
   "source": [
    "# Pos-neg forward operator"
   ]
  },
  {
   "cell_type": "code",
   "execution_count": null,
   "id": "03f3a38d-b72b-4fa2-8164-91b7468972e7",
   "metadata": {},
   "outputs": [],
   "source": [
    "F = Split_Forward_operator(Pmat)"
   ]
  },
  {
   "cell_type": "code",
   "execution_count": null,
   "id": "4dd455bd-40e1-4212-ad32-8169bc3c9056",
   "metadata": {},
   "outputs": [],
   "source": [
    "x = inputs.view(b*c,w*h)\n"
   ]
  },
  {
   "cell_type": "code",
   "execution_count": null,
   "id": "2033a755-2f54-40ca-959d-056e6f02f1d2",
   "metadata": {},
   "outputs": [],
   "source": [
    "m = F((x+1)/2)"
   ]
  },
  {
   "cell_type": "code",
   "execution_count": null,
   "id": "dfe91a5e-b3e4-451a-bba9-3ecf7e8bbb7b",
   "metadata": {},
   "outputs": [],
   "source": [
    "m.shape"
   ]
  },
  {
   "cell_type": "code",
   "execution_count": null,
   "id": "bef02411-da90-46e2-9148-20d1278791a9",
   "metadata": {},
   "outputs": [],
   "source": [
    "F.Hpos_neg.weight.data"
   ]
  },
  {
   "cell_type": "code",
   "execution_count": null,
   "id": "9126ac66-9b65-43b0-b176-50f409e5e49e",
   "metadata": {},
   "outputs": [],
   "source": [
    "B = Bruit_Poisson_approx_Gauss(N0,F)"
   ]
  },
  {
   "cell_type": "code",
   "execution_count": null,
   "id": "efd99a9b-1894-458a-bfc7-3e1437382031",
   "metadata": {},
   "outputs": [],
   "source": [
    "m_alpha = B(x)"
   ]
  },
  {
   "cell_type": "code",
   "execution_count": null,
   "id": "10db119a-d758-4668-b1d9-8f3dec445220",
   "metadata": {},
   "outputs": [],
   "source": [
    "m_alpha.shape"
   ]
  },
  {
   "cell_type": "code",
   "execution_count": null,
   "id": "5f0e88ef-b2f6-4b0e-b369-629012cc8ef1",
   "metadata": {},
   "outputs": [],
   "source": [
    "print(N0*m-m_alpha)"
   ]
  },
  {
   "cell_type": "code",
   "execution_count": null,
   "id": "a9c21868-4377-455f-8b1d-9381503d17d0",
   "metadata": {},
   "outputs": [],
   "source": [
    "m"
   ]
  },
  {
   "cell_type": "code",
   "execution_count": null,
   "id": "99655e89-624a-4423-9d31-ddf78115f982",
   "metadata": {},
   "outputs": [],
   "source": [
    "m_alpha"
   ]
  },
  {
   "cell_type": "markdown",
   "id": "7604c816-684d-4188-a56d-46c53b7983f4",
   "metadata": {},
   "source": [
    "Ok, seems like Bruit_Poisson_approx_Gauss works as intended"
   ]
  },
  {
   "cell_type": "code",
   "execution_count": null,
   "id": "ee50f809-fb98-44ad-b4c5-b7ee304e232c",
   "metadata": {},
   "outputs": [],
   "source": []
  }
 ],
 "metadata": {
  "kernelspec": {
   "display_name": "spyrit-env",
   "language": "python",
   "name": "spyrit-env"
  },
  "language_info": {
   "codemirror_mode": {
    "name": "ipython",
    "version": 3
   },
   "file_extension": ".py",
   "mimetype": "text/x-python",
   "name": "python",
   "nbconvert_exporter": "python",
   "pygments_lexer": "ipython3",
   "version": "3.8.12"
  }
 },
 "nbformat": 4,
 "nbformat_minor": 5
}

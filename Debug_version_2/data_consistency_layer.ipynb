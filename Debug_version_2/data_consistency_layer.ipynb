{
 "cells": [
  {
   "cell_type": "code",
   "execution_count": 1,
   "id": "d76177d5-8be7-4c30-9c67-73db868ec9da",
   "metadata": {},
   "outputs": [],
   "source": [
    "import torch\n",
    "import numpy as np\n",
    "from torchvision import datasets, transforms\n",
    "from pathlib import Path\n",
    "import spyrit.misc.walsh_hadamard as wh\n",
    "\n",
    "from spyrit.misc.statistics import stat_walsh_stl10\n",
    "from spyrit.misc.statistics import *\n",
    "from spyrit.misc.disp import *"
   ]
  },
  {
   "cell_type": "code",
   "execution_count": 2,
   "id": "da911fa8-10f7-483d-9ddd-a657d7f6ebe3",
   "metadata": {},
   "outputs": [],
   "source": [
    "img_size = 64 # image size\n",
    "M = 1024    # number of measurements\n",
    "N0 = 50     # Image intensity (in photons)\n",
    "bs = 10 # Batch size\n",
    "\n",
    "#- Model and data paths\n",
    "data_root = Path('../../data/')\n",
    "stats_root = Path('../../data/stats_walsh')"
   ]
  },
  {
   "cell_type": "code",
   "execution_count": null,
   "id": "678fcd15-2316-4694-84c2-9b92ce0c40aa",
   "metadata": {},
   "outputs": [],
   "source": [
    "#%% A batch of STL-10 test images\n",
    "device = torch.device(\"cuda:0\" if torch.cuda.is_available() else \"cpu\")\n",
    "torch.manual_seed(7)\n",
    "\n",
    "transform = transforms.Compose(\n",
    "    [transforms.functional.to_grayscale,\n",
    "     transforms.Resize((img_size, img_size)),\n",
    "     transforms.ToTensor(),\n",
    "     transforms.Normalize([0.5], [0.5])])\n",
    "\n",
    "testset = \\\n",
    "    torchvision.datasets.STL10(root=data_root, split='test',download=False, transform=transform)\n",
    "testloader =  torch.utils.data.DataLoader(testset, batch_size=bs, shuffle=False)"
   ]
  },
  {
   "cell_type": "code",
   "execution_count": null,
   "id": "0d8acc5b-b605-4a17-b307-aec3cb8286a8",
   "metadata": {},
   "outputs": [],
   "source": [
    "inputs, _ = next(iter(testloader))\n",
    "b,c,h,w = inputs.shape"
   ]
  },
  {
   "cell_type": "code",
   "execution_count": null,
   "id": "950de3b3-a438-439e-af79-d0408288a76d",
   "metadata": {},
   "outputs": [],
   "source": [
    "# stat_walsh_stl10()\n",
    "Cov = np.load(stats_root / Path(\"Cov_{}x{}.npy\".format(img_size, img_size)))\n",
    "Mean = np.load(stats_root / Path(\"Average_{}x{}.npy\".format(img_size, img_size)))\n",
    "H =  wh.walsh2_matrix(img_size)\n",
    "# H =  wh.walsh2_matrix(img_size)/img_size\n",
    "\n",
    "\n",
    "Ord = Cov2Var(Cov)\n",
    "Perm = Permutation_Matrix(Ord)\n",
    "Hperm = Perm@H;\n",
    "Pmat = Hperm[:M,:];\n"
   ]
  },
  {
   "cell_type": "code",
   "execution_count": null,
   "id": "e72c1aae-5862-4e68-8ce1-8fd29bb5e725",
   "metadata": {},
   "outputs": [],
   "source": [
    "x = inputs.view(b*c,w*h)\n",
    "x_0 = torch.zeros_like(x)"
   ]
  },
  {
   "cell_type": "code",
   "execution_count": null,
   "id": "423c62a0-067d-487e-b100-6415459ad70c",
   "metadata": {},
   "outputs": [],
   "source": [
    "img = x[1,:]\n",
    "img = img.numpy();\n",
    "imagesc(np.reshape(img,(h,w)))"
   ]
  },
  {
   "cell_type": "code",
   "execution_count": null,
   "id": "9190030b-d3d0-46b9-878c-302ccec5168b",
   "metadata": {},
   "outputs": [],
   "source": [
    "from spyrit.restructured.Updated_Had_Dcan import * "
   ]
  },
  {
   "cell_type": "code",
   "execution_count": null,
   "id": "6ad2c92e-1eca-4535-babb-b902eb2b6682",
   "metadata": {},
   "outputs": [],
   "source": [
    "FO_split = Split_Forward_operator(Pmat)\n",
    "A_b = Bruit_Poisson_approx_Gauss(N0, FO_split)\n",
    "SPP = Split_diag_poisson_preprocess(N0, M, w*h)"
   ]
  },
  {
   "cell_type": "code",
   "execution_count": null,
   "id": "21a118b3-0574-418f-a4e5-d82ecddf258e",
   "metadata": {},
   "outputs": [],
   "source": [
    "m = A_b(x)\n",
    "y = SPP(m,FO_split)\n",
    "var = SPP.sigma(m)"
   ]
  },
  {
   "cell_type": "markdown",
   "id": "355e8f47-251f-427d-9bf8-4841ab7dcac1",
   "metadata": {
    "tags": []
   },
   "source": [
    "# Pinv_orthogonal\n",
    "## Instancier"
   ]
  },
  {
   "cell_type": "code",
   "execution_count": null,
   "id": "c3b1abd2-70ca-4238-8f77-6439e31da812",
   "metadata": {},
   "outputs": [],
   "source": [
    "P = Pinv_orthogonal(FO_split)"
   ]
  },
  {
   "cell_type": "markdown",
   "id": "77d71d1d-3dab-4880-80b1-6a8c3244194c",
   "metadata": {},
   "source": [
    "## Test methode forward"
   ]
  },
  {
   "cell_type": "code",
   "execution_count": null,
   "id": "709105df-fdc4-4b57-b346-6d7b6b45334a",
   "metadata": {},
   "outputs": [],
   "source": [
    "x_est = P(y)"
   ]
  },
  {
   "cell_type": "code",
   "execution_count": null,
   "id": "efd99a9b-1894-458a-bfc7-3e1437382031",
   "metadata": {},
   "outputs": [],
   "source": [
    "img = x_est[1,:]\n",
    "img = img.numpy();\n",
    "imagesc(np.reshape(img,(h,w)))"
   ]
  },
  {
   "cell_type": "markdown",
   "id": "5fc9412a-c6d4-4212-a6ef-b170148954a4",
   "metadata": {},
   "source": [
    "# learned_measurement_to_image\n",
    "## Instantiation"
   ]
  },
  {
   "cell_type": "code",
   "execution_count": null,
   "id": "7f1a30f1-2a87-4433-8495-36ee4bd901b7",
   "metadata": {},
   "outputs": [],
   "source": [
    "P = learned_measurement_to_image(FO_split)"
   ]
  },
  {
   "cell_type": "markdown",
   "id": "019974c1-8849-4c7b-a492-90ee9ee490b4",
   "metadata": {},
   "source": [
    "## Test methode forward"
   ]
  },
  {
   "cell_type": "code",
   "execution_count": null,
   "id": "f0d4d8c4-d777-476e-aeb3-211a24662c7b",
   "metadata": {},
   "outputs": [],
   "source": [
    "x_est = P(y)"
   ]
  },
  {
   "cell_type": "code",
   "execution_count": null,
   "id": "ea3ebcc1-14b5-4b30-b7af-14cc427d115e",
   "metadata": {},
   "outputs": [],
   "source": [
    "img = x_est[1,:]\n",
    "img = img.detach().numpy();\n",
    "imagesc(np.reshape(img,(h,w)))"
   ]
  },
  {
   "cell_type": "markdown",
   "id": "22200c83-aa40-4400-a693-4f007c9f052d",
   "metadata": {},
   "source": [
    "Makes sens that we don't see anything as it currently only has random weights"
   ]
  },
  {
   "cell_type": "markdown",
   "id": "6ef9b05a-b9bc-4113-a337-5ef95a5d0a48",
   "metadata": {},
   "source": [
    "# gradient_step\n",
    "## Instantiation"
   ]
  },
  {
   "cell_type": "code",
   "execution_count": null,
   "id": "fa11deba-bc9c-40af-bafe-6761279cc81a",
   "metadata": {},
   "outputs": [],
   "source": [
    "P = gradient_step(FO_split, 0.0003)"
   ]
  },
  {
   "cell_type": "markdown",
   "id": "e72916b8-691b-4c61-bd26-4b982507da72",
   "metadata": {},
   "source": [
    "## Test methode forward"
   ]
  },
  {
   "cell_type": "code",
   "execution_count": null,
   "id": "8da74e97-7f02-4b28-92d2-630b6d93c447",
   "metadata": {},
   "outputs": [],
   "source": [
    "x_est = P(y, x_0)"
   ]
  },
  {
   "cell_type": "code",
   "execution_count": null,
   "id": "e3a5e23c-d38d-4dbf-805d-94b1f9e38c83",
   "metadata": {},
   "outputs": [],
   "source": [
    "img = x_est[1,:]\n",
    "img = img.detach().numpy();\n",
    "imagesc(np.reshape(img,(h,w)))"
   ]
  },
  {
   "cell_type": "code",
   "execution_count": null,
   "id": "b50dd6b4-8fcc-4320-a5fe-c72c52bdd5d7",
   "metadata": {},
   "outputs": [],
   "source": [
    "x_est = P(y, x_est)\n",
    "img = x_est[1,:]\n",
    "img = img.detach().numpy();\n",
    "imagesc(np.reshape(img,(h,w)))"
   ]
  },
  {
   "cell_type": "code",
   "execution_count": null,
   "id": "fd8507b9-b794-4aee-a072-cba44b717e8d",
   "metadata": {},
   "outputs": [],
   "source": [
    "x_est = P(y, x_est)\n",
    "img = x_est[1,:]\n",
    "img = img.detach().numpy();\n",
    "imagesc(np.reshape(img,(h,w)))"
   ]
  },
  {
   "cell_type": "markdown",
   "id": "dfa0575f-47c4-4c6e-817f-cf5994598a08",
   "metadata": {},
   "source": [
    "After 3 iterations we converge at the pseudo inverse (given the correct initial $\\mu$"
   ]
  },
  {
   "cell_type": "markdown",
   "id": "d8b892ed-fd8b-4da3-a727-2dac33ed2ec1",
   "metadata": {},
   "source": [
    "# Tikhonov_cg (not yet validated)\n",
    "## Instantiation"
   ]
  },
  {
   "cell_type": "code",
   "execution_count": null,
   "id": "93afb839-4d1a-4f67-b706-b399110a122a",
   "metadata": {},
   "outputs": [],
   "source": [
    "P = Tikhonov_cg(FO_split, n_iter = 6, mu = 1)"
   ]
  },
  {
   "cell_type": "markdown",
   "id": "8591538b-3ed0-4076-a6d6-e7c41faec15a",
   "metadata": {},
   "source": [
    "## Test methode forward"
   ]
  },
  {
   "cell_type": "code",
   "execution_count": null,
   "id": "7e0f4aaa-0dca-462e-b37a-586fcd6d9774",
   "metadata": {},
   "outputs": [],
   "source": [
    "x_est = P(y, x_0)\n",
    "img = x_est[1,:]\n",
    "img = img.detach().numpy();\n",
    "imagesc(np.reshape(img,(h,w)))"
   ]
  },
  {
   "cell_type": "code",
   "execution_count": null,
   "id": "657787cd-016b-411c-98ab-86702e3164e8",
   "metadata": {},
   "outputs": [],
   "source": [
    "P = Tikhonov_cg(FO_split, n_iter = 6, mu = 10000)\n",
    "x_est = P(y, x_0)\n",
    "img = x_est[1,:]\n",
    "img = img.detach().numpy();\n",
    "imagesc(np.reshape(img,(h,w)))"
   ]
  },
  {
   "cell_type": "markdown",
   "id": "5c51f5b3-0ee0-4460-b95d-a0e413f854f7",
   "metadata": {},
   "source": [
    "Too much regularisation (makes sense) due to tikhonov formula"
   ]
  },
  {
   "cell_type": "code",
   "execution_count": null,
   "id": "f34fa014-c76c-4a05-b568-404336c92c65",
   "metadata": {},
   "outputs": [],
   "source": [
    "P = Tikhonov_cg(FO_split, n_iter = 7, mu = 10000) # to check 6 is OK, & is not ok == Potential bug\n",
    "x_est = P(y, x_0)\n",
    "img = x_est[1,:]\n",
    "img = img.detach().numpy();\n",
    "imagesc(np.reshape(img,(h,w)))"
   ]
  },
  {
   "cell_type": "markdown",
   "id": "386c4c07-5f8a-4c64-b6d8-2a92f60ac0d0",
   "metadata": {},
   "source": [
    "# Tikhonov_cg_pylops /!\\ Aborded for now - problems with the  MatrixLinearOperator not being capable of taking Hermitian inverse + Multiplication\n",
    "## Instantiation"
   ]
  },
  {
   "cell_type": "code",
   "execution_count": null,
   "id": "ce0c334e-b472-47c8-b262-a8b191129f25",
   "metadata": {},
   "outputs": [],
   "source": [
    "# FO_pyl = Split_Forward_operator_pylops(Pmat)\n",
    "# P = Tikhonov_cg_pylops(FO_pyl, n_iter = 6, mu = 1)"
   ]
  },
  {
   "cell_type": "markdown",
   "id": "47624e23-146f-480b-aea0-9692cab23ca4",
   "metadata": {},
   "source": [
    "## Test methode forward"
   ]
  },
  {
   "cell_type": "code",
   "execution_count": null,
   "id": "da2feb15-c7ad-45c6-8412-8f5b8b25ef53",
   "metadata": {},
   "outputs": [],
   "source": [
    "# x_est = P(y, x_0)\n",
    "# img = x_est[1,:]\n",
    "# img = img.detach().numpy();\n",
    "# imagesc(np.reshape(img,(h,w)))"
   ]
  },
  {
   "cell_type": "markdown",
   "id": "10bc62a3-b277-46b2-b012-060b0a0140e8",
   "metadata": {},
   "source": [
    "# Tikhonov_solve (validated)\n",
    "## Instantiation"
   ]
  },
  {
   "cell_type": "code",
   "execution_count": null,
   "id": "6afa69af-4ab3-48c4-83dc-cfbafb686876",
   "metadata": {},
   "outputs": [],
   "source": [
    "P = Tikhonov_solve(FO_split, mu = 0.1)"
   ]
  },
  {
   "cell_type": "markdown",
   "id": "e83f4e15-d6de-4d0e-8e99-1c8a13684bee",
   "metadata": {},
   "source": [
    "## Test methode forward"
   ]
  },
  {
   "cell_type": "code",
   "execution_count": null,
   "id": "16fb36bc-2298-4556-9f10-7e65992d868d",
   "metadata": {},
   "outputs": [],
   "source": [
    "x_est = P(y, x_0)\n",
    "img = x_est[1,:]\n",
    "img = img.detach().numpy();\n",
    "imagesc(np.reshape(img,(h,w)))"
   ]
  },
  {
   "cell_type": "code",
   "execution_count": null,
   "id": "001d4205-c785-447f-a818-8704d2fb2a7f",
   "metadata": {},
   "outputs": [],
   "source": [
    "P = Tikhonov_solve(FO_split, mu = 1000000)\n",
    "x_est = P(y, x_0)\n",
    "img = x_est[1,:]\n",
    "img = img.detach().numpy();\n",
    "imagesc(np.reshape(img,(h,w)))"
   ]
  },
  {
   "cell_type": "markdown",
   "id": "49baf164-fcd6-402f-a8c4-31c547a70564",
   "metadata": {},
   "source": [
    "Too much regularisation (makes sense) due to tikhonov formula"
   ]
  },
  {
   "cell_type": "markdown",
   "id": "8f81b518-fd60-4db1-8a5c-4e148c870f6a",
   "metadata": {},
   "source": [
    "# Orthogonal Tikhonov (Validated)\n",
    "## Instantiation"
   ]
  },
  {
   "cell_type": "code",
   "execution_count": null,
   "id": "359773e6-d5e3-4ae5-9e7b-acac506b5975",
   "metadata": {},
   "outputs": [],
   "source": [
    "P = Orthogonal_Tikhonov(FO_split, mu = 0.1)"
   ]
  },
  {
   "cell_type": "markdown",
   "id": "e936160a-161f-4be7-ae57-c62704cffbf9",
   "metadata": {},
   "source": [
    "## Test methode forward"
   ]
  },
  {
   "cell_type": "code",
   "execution_count": null,
   "id": "bf0ddeca-71ec-4980-8019-8641e2ce9dce",
   "metadata": {},
   "outputs": [],
   "source": [
    "x_est = P(y, x_0)\n",
    "img = x_est[1,:]\n",
    "img = img.detach().numpy();\n",
    "imagesc(np.reshape(img,(h,w)))"
   ]
  },
  {
   "cell_type": "code",
   "execution_count": null,
   "id": "0051c53e-dcba-4957-a325-f57842b2819f",
   "metadata": {},
   "outputs": [],
   "source": [
    "P = Orthogonal_Tikhonov(FO_split,  mu = 1000000)\n",
    "x_est = P(y, x_0)\n",
    "img = x_est[1,:]\n",
    "img = img.detach().numpy();\n",
    "imagesc(np.reshape(img,(h,w)))"
   ]
  },
  {
   "cell_type": "markdown",
   "id": "b22c247f-16a9-4535-94c8-8b012778d4f2",
   "metadata": {},
   "source": [
    "Too much regularisation (makes sense) due to tikhonov formula"
   ]
  },
  {
   "cell_type": "markdown",
   "id": "2d02ad9d-bc14-49fa-9c19-e02c0139072a",
   "metadata": {},
   "source": [
    "# Generalised_Tikhonov_cg (not yet validated)\n",
    "## Instantiation"
   ]
  },
  {
   "cell_type": "code",
   "execution_count": null,
   "id": "897fc878-4320-4e6c-8014-c2db22c80e76",
   "metadata": {},
   "outputs": [],
   "source": [
    "Sigma_prior = 0.01*(1/(h*w))**2*Hperm.T@Cov@Hperm;\n",
    "P = Generalised_Tikhonov_cg(FO_split, Sigma_prior = Sigma_prior, n_iter = 6)"
   ]
  },
  {
   "cell_type": "markdown",
   "id": "8f275b6c-a32f-489b-ae84-d444a08482a6",
   "metadata": {},
   "source": [
    "## Test methode forward"
   ]
  },
  {
   "cell_type": "code",
   "execution_count": null,
   "id": "3763604d-4f2d-495d-904a-2b6f5625379e",
   "metadata": {},
   "outputs": [],
   "source": [
    "x_est = P(y, x_0, var)\n",
    "img = x_est[1,:]\n",
    "img = img.detach().numpy();\n",
    "imagesc(np.reshape(img,(h,w)))"
   ]
  },
  {
   "cell_type": "code",
   "execution_count": null,
   "id": "6b72ab78-5e52-4535-9e7e-0f563a43fd83",
   "metadata": {},
   "outputs": [],
   "source": [
    "P = Generalised_Tikhonov_cg(FO_split, Sigma_prior = Sigma_prior, n_iter = 7)\n",
    "x_est = P(y, x_0, var)\n",
    "img = x_est[1,:]\n",
    "img = img.detach().numpy();\n",
    "imagesc(np.reshape(img,(h,w)))"
   ]
  },
  {
   "cell_type": "markdown",
   "id": "f5fec2e4-69bc-4052-a59f-59d686fbea36",
   "metadata": {},
   "source": [
    "Too much regularisation (makes sense) due to tikhonov formula"
   ]
  },
  {
   "cell_type": "markdown",
   "id": "f06ca8e0-03aa-43f7-9bac-e95ee66716f3",
   "metadata": {},
   "source": [
    "# Generalised_Tikhonov_cg_pylops /!\\ Aborded for now\n",
    "## Instantiation"
   ]
  },
  {
   "cell_type": "code",
   "execution_count": null,
   "id": "fbe36495-a26a-4729-95e7-4865454e7ae6",
   "metadata": {},
   "outputs": [],
   "source": [
    "# FO_pyl = Split_Forward_operator_pylops(Pmat)\n",
    "# P = Generalised_Tikhonov_cg_pylops(FO_pyl, n_iter = 6, mu = 1)"
   ]
  },
  {
   "cell_type": "markdown",
   "id": "822cdb8a-6bba-4a42-b49f-b9b9540bdc32",
   "metadata": {},
   "source": [
    "## Test methode forward"
   ]
  },
  {
   "cell_type": "code",
   "execution_count": null,
   "id": "4b424e6f-08b4-4f05-be96-0eb5e42f3344",
   "metadata": {},
   "outputs": [],
   "source": [
    "# x_est = P(y, x_0)\n",
    "# img = x_est[1,:]\n",
    "# img = img.detach().numpy();\n",
    "# imagesc(np.reshape(img,(h,w)))"
   ]
  },
  {
   "cell_type": "markdown",
   "id": "3103e4e1-4626-4c47-9c30-b62ca54fff23",
   "metadata": {},
   "source": [
    "# Generalized_Orthogonal_Tikhonov\n",
    "## Instantiation"
   ]
  },
  {
   "cell_type": "code",
   "execution_count": null,
   "id": "b78150ce-1fc0-46f4-8389-4d62305d4e38",
   "metadata": {},
   "outputs": [],
   "source": [
    "P = Generalised_Tikhonov_solve(FO_split, mu = 0.1)"
   ]
  },
  {
   "cell_type": "markdown",
   "id": "bd196b3c-a4b1-4670-ad7d-e51f3913b0d0",
   "metadata": {},
   "source": [
    "## Test methode forward"
   ]
  },
  {
   "cell_type": "code",
   "execution_count": null,
   "id": "4bd4c553-88fb-456c-870a-dd20610091b1",
   "metadata": {},
   "outputs": [],
   "source": [
    "# x_est = P(y, x_0)\n",
    "# img = x_est[1,:]\n",
    "# img = img.detach().numpy();\n",
    "# imagesc(np.reshape(img,(h,w)))"
   ]
  },
  {
   "cell_type": "code",
   "execution_count": null,
   "id": "a992b855-eb8d-4006-acb7-c63730a99140",
   "metadata": {},
   "outputs": [],
   "source": [
    "# P = Tikhonov_solve(FO_split, mu = 1000000)\n",
    "# x_est = P(y, x_0)\n",
    "# img = x_est[1,:]\n",
    "# img = img.detach().numpy();\n",
    "# imagesc(np.reshape(img,(h,w)))"
   ]
  },
  {
   "cell_type": "markdown",
   "id": "d2faf2d2-9bc5-4d96-95c0-453d3c8b99b3",
   "metadata": {},
   "source": [
    "Too much regularisation (makes sense) due to tikhonov formula"
   ]
  },
  {
   "cell_type": "markdown",
   "id": "bc77ba7c-d0fe-4284-9c94-3d02ebb926ff",
   "metadata": {},
   "source": [
    "# Generalized_Orthogonal_Tikhonov\n",
    "## Instantiation"
   ]
  },
  {
   "cell_type": "code",
   "execution_count": null,
   "id": "ead7a3a2-a130-47a1-a01b-f8493780e4ed",
   "metadata": {},
   "outputs": [],
   "source": [
    "P = Generalized_Orthogonal_Tikhonov(FO_split, mu = 0.1)"
   ]
  },
  {
   "cell_type": "markdown",
   "id": "b8ce1f7a-20a4-40c6-9913-d23eb0188025",
   "metadata": {},
   "source": [
    "## Test methode forward"
   ]
  },
  {
   "cell_type": "code",
   "execution_count": null,
   "id": "27d693e4-f75f-4670-95d2-40c88aefba8a",
   "metadata": {},
   "outputs": [],
   "source": [
    "# x_est = P(y, x_0)\n",
    "# img = x_est[1,:]\n",
    "# img = img.detach().numpy();\n",
    "# imagesc(np.reshape(img,(h,w)))"
   ]
  },
  {
   "cell_type": "code",
   "execution_count": null,
   "id": "8df2d6ce-4fc9-41f5-9d0d-7b0f5c95441e",
   "metadata": {},
   "outputs": [],
   "source": [
    "# P = Orthogonal_Tikhonov(FO_split,  mu = 1000000)\n",
    "# x_est = P(y, x_0)\n",
    "# img = x_est[1,:]\n",
    "# img = img.detach().numpy();\n",
    "# imagesc(np.reshape(img,(h,w)))"
   ]
  },
  {
   "cell_type": "markdown",
   "id": "132c4b60-4fc9-4a09-a324-ff167f9f414e",
   "metadata": {},
   "source": [
    "Too much regularisation (makes sense) due to tikhonov formula"
   ]
  },
  {
   "cell_type": "code",
   "execution_count": null,
   "id": "413df88c-1eac-42ed-861c-d793036b167c",
   "metadata": {},
   "outputs": [],
   "source": []
  },
  {
   "cell_type": "code",
   "execution_count": null,
   "id": "2f805351-955a-4fba-96d1-335f51e34702",
   "metadata": {},
   "outputs": [],
   "source": []
  }
 ],
 "metadata": {
  "kernelspec": {
   "display_name": "spyrit-env",
   "language": "python",
   "name": "spyrit-env"
  },
  "language_info": {
   "codemirror_mode": {
    "name": "ipython",
    "version": 3
   },
   "file_extension": ".py",
   "mimetype": "text/x-python",
   "name": "python",
   "nbconvert_exporter": "python",
   "pygments_lexer": "ipython3",
   "version": "3.8.12"
  }
 },
 "nbformat": 4,
 "nbformat_minor": 5
}

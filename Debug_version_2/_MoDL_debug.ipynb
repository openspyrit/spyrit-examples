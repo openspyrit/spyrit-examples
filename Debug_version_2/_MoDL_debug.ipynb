{
 "cells": [
  {
   "cell_type": "code",
   "execution_count": 1,
   "id": "d76177d5-8be7-4c30-9c67-73db868ec9da",
   "metadata": {},
   "outputs": [],
   "source": [
    "import torch\n",
    "import numpy as np\n",
    "from torchvision import datasets, transforms\n",
    "from pathlib import Path\n",
    "import spyrit.misc.walsh_hadamard as wh\n",
    "\n",
    "# from spyrit.misc.statistics import stat_walsh_stl10\n",
    "from spyrit.misc.statistics import *\n",
    "from spyrit.misc.disp import *"
   ]
  },
  {
   "cell_type": "code",
   "execution_count": 2,
   "id": "da911fa8-10f7-483d-9ddd-a657d7f6ebe3",
   "metadata": {},
   "outputs": [],
   "source": [
    "img_size = 64 # image size\n",
    "M = 512    # number of measurements\n",
    "N0 = 50    # Image intensity (in photons)\n",
    "bs = 10 # Batch size\n",
    "\n",
    "#- Model and data paths\n",
    "data_root = Path('../../data/')\n",
    "stats_root = Path('../../data/stats_walsh')"
   ]
  },
  {
   "cell_type": "code",
   "execution_count": 3,
   "id": "678fcd15-2316-4694-84c2-9b92ce0c40aa",
   "metadata": {},
   "outputs": [],
   "source": [
    "#%% A batch of STL-10 test images\n",
    "device = torch.device(\"cuda:0\" if torch.cuda.is_available() else \"cpu\")\n",
    "torch.manual_seed(7)\n",
    "\n",
    "transform = transforms.Compose(\n",
    "    [transforms.functional.to_grayscale,\n",
    "     transforms.Resize((img_size, img_size)),\n",
    "     transforms.ToTensor(),\n",
    "     transforms.Normalize([0.5], [0.5])])\n",
    "\n",
    "testset = \\\n",
    "    torchvision.datasets.STL10(root=data_root, split='test',download=False, transform=transform)\n",
    "testloader =  torch.utils.data.DataLoader(testset, batch_size=bs, shuffle=False)"
   ]
  },
  {
   "cell_type": "code",
   "execution_count": 4,
   "id": "0d8acc5b-b605-4a17-b307-aec3cb8286a8",
   "metadata": {},
   "outputs": [],
   "source": [
    "inputs, _ = next(iter(testloader))\n",
    "b,c,h,w = inputs.shape"
   ]
  },
  {
   "cell_type": "code",
   "execution_count": 5,
   "id": "950de3b3-a438-439e-af79-d0408288a76d",
   "metadata": {},
   "outputs": [],
   "source": [
    "# stat_walsh_stl10()\n",
    "Cov = np.load(stats_root / Path(\"Cov_{}x{}.npy\".format(img_size, img_size)))\n",
    "Mean = np.load(stats_root / Path(\"Average_{}x{}.npy\".format(img_size, img_size)))\n",
    "H =  wh.walsh2_matrix(img_size)\n",
    "# H =  wh.walsh2_matrix(img_size)/img_size\n",
    "\n",
    "\n",
    "Ord = Cov2Var(Cov)\n",
    "Perm = Permutation_Matrix(Ord)\n",
    "Hperm = Perm@H;\n",
    "Pmat = Hperm[:M,:];\n"
   ]
  },
  {
   "cell_type": "code",
   "execution_count": 6,
   "id": "e72c1aae-5862-4e68-8ce1-8fd29bb5e725",
   "metadata": {},
   "outputs": [],
   "source": [
    "x = inputs.view(b*c,w*h)\n",
    "x_0 = torch.zeros_like(x)"
   ]
  },
  {
   "cell_type": "code",
   "execution_count": 7,
   "id": "423c62a0-067d-487e-b100-6415459ad70c",
   "metadata": {},
   "outputs": [
    {
     "data": {
      "image/png": "[encoded data removed]",
      "text/plain": [
       "<Figure size 432x288 with 2 Axes>"
      ]
     },
     "metadata": {
      "needs_background": "light"
     },
     "output_type": "display_data"
    }
   ],
   "source": [
    "img = x[1,:]\n",
    "img = img.numpy();\n",
    "imagesc(np.reshape(img,(h,w)))"
   ]
  },
  {
   "cell_type": "code",
   "execution_count": 8,
   "id": "9190030b-d3d0-46b9-878c-302ccec5168b",
   "metadata": {},
   "outputs": [],
   "source": [
    "from spyrit.restructured.Updated_Had_Dcan import *"
   ]
  },
  {
   "cell_type": "code",
   "execution_count": 9,
   "id": "6ad2c92e-1eca-4535-babb-b902eb2b6682",
   "metadata": {},
   "outputs": [],
   "source": [
    "FO_split_had = Split_Forward_operator_ft_had(Pmat, Perm)\n",
    "Acq = Bruit_Poisson_approx_Gauss(N0, FO_split_had)\n",
    "PreP = Split_diag_poisson_preprocess(N0, M, w*h)\n",
    "DC_layer = Orthogonal_Tikhonov(0.05)\n",
    "Denoi = Unet()"
   ]
  },
  {
   "cell_type": "code",
   "execution_count": 10,
   "id": "ead7a3a2-a130-47a1-a01b-f8493780e4ed",
   "metadata": {},
   "outputs": [
    {
     "data": {
      "text/plain": [
       "MoDL(\n",
       "  (Acq): Bruit_Poisson_approx_Gauss(\n",
       "    (FO): Split_Forward_operator_ft_had(\n",
       "      (Hsub): Linear(in_features=4096, out_features=512, bias=False)\n",
       "      (Hsub_adjoint): Linear(in_features=512, out_features=4096, bias=False)\n",
       "      (Hpos_neg): Linear(in_features=4096, out_features=1024, bias=False)\n",
       "      (Perm): Linear(in_features=4096, out_features=4096, bias=False)\n",
       "    )\n",
       "  )\n",
       "  (PreP): Split_diag_poisson_preprocess()\n",
       "  (DC_layer): Orthogonal_Tikhonov()\n",
       "  (Denoi): Unet(\n",
       "    (conv_encode1): Sequential(\n",
       "      (0): Conv2d(1, 16, kernel_size=(3, 3), stride=(1, 1), padding=(1, 1))\n",
       "      (1): ReLU()\n",
       "      (2): BatchNorm2d(16, eps=1e-05, momentum=0.1, affine=True, track_running_stats=True)\n",
       "      (3): Conv2d(16, 16, kernel_size=(3, 3), stride=(1, 1), padding=(1, 1))\n",
       "      (4): ReLU()\n",
       "      (5): BatchNorm2d(16, eps=1e-05, momentum=0.1, affine=True, track_running_stats=True)\n",
       "    )\n",
       "    (conv_maxpool1): MaxPool2d(kernel_size=2, stride=2, padding=0, dilation=1, ceil_mode=False)\n",
       "    (conv_encode2): Sequential(\n",
       "      (0): Conv2d(16, 32, kernel_size=(3, 3), stride=(1, 1), padding=(1, 1))\n",
       "      (1): ReLU()\n",
       "      (2): BatchNorm2d(32, eps=1e-05, momentum=0.1, affine=True, track_running_stats=True)\n",
       "      (3): Conv2d(32, 32, kernel_size=(3, 3), stride=(1, 1), padding=(1, 1))\n",
       "      (4): ReLU()\n",
       "      (5): BatchNorm2d(32, eps=1e-05, momentum=0.1, affine=True, track_running_stats=True)\n",
       "    )\n",
       "    (conv_maxpool2): MaxPool2d(kernel_size=2, stride=2, padding=0, dilation=1, ceil_mode=False)\n",
       "    (conv_encode3): Sequential(\n",
       "      (0): Conv2d(32, 64, kernel_size=(3, 3), stride=(1, 1), padding=(1, 1))\n",
       "      (1): ReLU()\n",
       "      (2): BatchNorm2d(64, eps=1e-05, momentum=0.1, affine=True, track_running_stats=True)\n",
       "      (3): Conv2d(64, 64, kernel_size=(3, 3), stride=(1, 1), padding=(1, 1))\n",
       "      (4): ReLU()\n",
       "      (5): BatchNorm2d(64, eps=1e-05, momentum=0.1, affine=True, track_running_stats=True)\n",
       "    )\n",
       "    (conv_maxpool3): MaxPool2d(kernel_size=2, stride=2, padding=0, dilation=1, ceil_mode=False)\n",
       "    (bottleneck): Sequential(\n",
       "      (0): Conv2d(64, 128, kernel_size=(3, 3), stride=(1, 1), padding=(1, 1))\n",
       "      (1): ReLU()\n",
       "      (2): Conv2d(128, 64, kernel_size=(3, 3), stride=(1, 1), padding=(1, 1))\n",
       "      (3): ReLU()\n",
       "    )\n",
       "    (conv_decode4): Sequential(\n",
       "      (0): Conv2d(64, 64, kernel_size=(3, 3), stride=(1, 1), padding=(1, 1))\n",
       "      (1): ReLU()\n",
       "      (2): BatchNorm2d(64, eps=1e-05, momentum=0.1, affine=True, track_running_stats=True)\n",
       "      (3): Conv2d(64, 64, kernel_size=(3, 3), stride=(1, 1), padding=(1, 1))\n",
       "      (4): ReLU()\n",
       "      (5): BatchNorm2d(64, eps=1e-05, momentum=0.1, affine=True, track_running_stats=True)\n",
       "      (6): ConvTranspose2d(64, 64, kernel_size=(3, 3), stride=(2, 2), padding=(1, 1), output_padding=(1, 1))\n",
       "    )\n",
       "    (conv_decode3): Sequential(\n",
       "      (0): Conv2d(128, 64, kernel_size=(3, 3), stride=(1, 1), padding=(1, 1))\n",
       "      (1): ReLU()\n",
       "      (2): BatchNorm2d(64, eps=1e-05, momentum=0.1, affine=True, track_running_stats=True)\n",
       "      (3): Conv2d(64, 64, kernel_size=(3, 3), stride=(1, 1), padding=(1, 1))\n",
       "      (4): ReLU()\n",
       "      (5): BatchNorm2d(64, eps=1e-05, momentum=0.1, affine=True, track_running_stats=True)\n",
       "      (6): ConvTranspose2d(64, 32, kernel_size=(3, 3), stride=(2, 2), padding=(1, 1), output_padding=(1, 1))\n",
       "    )\n",
       "    (conv_decode2): Sequential(\n",
       "      (0): Conv2d(64, 32, kernel_size=(3, 3), stride=(1, 1), padding=(1, 1))\n",
       "      (1): ReLU()\n",
       "      (2): BatchNorm2d(32, eps=1e-05, momentum=0.1, affine=True, track_running_stats=True)\n",
       "      (3): Conv2d(32, 32, kernel_size=(3, 3), stride=(1, 1), padding=(1, 1))\n",
       "      (4): ReLU()\n",
       "      (5): BatchNorm2d(32, eps=1e-05, momentum=0.1, affine=True, track_running_stats=True)\n",
       "      (6): ConvTranspose2d(32, 16, kernel_size=(3, 3), stride=(2, 2), padding=(1, 1), output_padding=(1, 1))\n",
       "    )\n",
       "    (final_layer): Sequential(\n",
       "      (0): Conv2d(32, 16, kernel_size=(3, 3), stride=(1, 1), padding=(1, 1))\n",
       "      (1): ReLU()\n",
       "      (2): BatchNorm2d(16, eps=1e-05, momentum=0.1, affine=True, track_running_stats=True)\n",
       "      (3): Conv2d(16, 16, kernel_size=(3, 3), stride=(1, 1), padding=(1, 1))\n",
       "      (4): ReLU()\n",
       "      (5): BatchNorm2d(16, eps=1e-05, momentum=0.1, affine=True, track_running_stats=True)\n",
       "      (6): Conv2d(16, 1, kernel_size=(3, 3), stride=(1, 1), padding=(1, 1))\n",
       "    )\n",
       "  )\n",
       ")"
      ]
     },
     "execution_count": 10,
     "metadata": {},
     "output_type": "execute_result"
    }
   ],
   "source": [
    "model = MoDL(Acq, PreP, DC_layer, Denoi, n_iter = 5)\n",
    "model.eval()"
   ]
  },
  {
   "cell_type": "code",
   "execution_count": 11,
   "id": "6a226195-ed63-4bec-b431-00d55171f6d6",
   "metadata": {},
   "outputs": [
    {
     "data": {
      "text/plain": [
       "torch.Size([10, 1, 64, 64])"
      ]
     },
     "execution_count": 11,
     "metadata": {},
     "output_type": "execute_result"
    }
   ],
   "source": [
    "inputs.shape"
   ]
  },
  {
   "cell_type": "code",
   "execution_count": 12,
   "id": "6da985e8-a612-45f1-ae5f-45606fc8644b",
   "metadata": {},
   "outputs": [],
   "source": [
    "outputs = model(inputs)"
   ]
  },
  {
   "cell_type": "code",
   "execution_count": 13,
   "id": "6c54af3b-31d3-41f5-b417-c667429b7962",
   "metadata": {},
   "outputs": [
    {
     "data": {
      "text/plain": [
       "torch.Size([10, 1, 64, 64])"
      ]
     },
     "execution_count": 13,
     "metadata": {},
     "output_type": "execute_result"
    }
   ],
   "source": [
    "outputs.shape"
   ]
  },
  {
   "cell_type": "code",
   "execution_count": 14,
   "id": "47e4805f-3fe2-48a2-850e-9bdb000c368a",
   "metadata": {},
   "outputs": [
    {
     "data": {
      "image/png": "[encoded data removed]",
      "text/plain": [
       "<Figure size 432x288 with 2 Axes>"
      ]
     },
     "metadata": {
      "needs_background": "light"
     },
     "output_type": "display_data"
    }
   ],
   "source": [
    "img = outputs[1,0,:,:]\n",
    "img = torch2numpy(img);\n",
    "imagesc(np.reshape(img,(h,w)))"
   ]
  },
  {
   "cell_type": "code",
   "execution_count": 15,
   "id": "86cbb1f8-4ca3-4323-b5f0-6900d685236e",
   "metadata": {},
   "outputs": [],
   "source": [
    "outputs = model.forward_mmse(inputs)"
   ]
  },
  {
   "cell_type": "code",
   "execution_count": 16,
   "id": "ac504f97-ee02-4072-b601-5c70845fed1d",
   "metadata": {},
   "outputs": [
    {
     "data": {
      "image/png": "[encoded data removed]",
      "text/plain": [
       "<Figure size 432x288 with 2 Axes>"
      ]
     },
     "metadata": {
      "needs_background": "light"
     },
     "output_type": "display_data"
    }
   ],
   "source": [
    "img = outputs[1,0,:,:]\n",
    "img = torch2numpy(img);\n",
    "imagesc(np.reshape(img,(h,w)))"
   ]
  },
  {
   "cell_type": "code",
   "execution_count": 17,
   "id": "cec7b38a-58e5-46d8-a9e0-349d7c2842c6",
   "metadata": {},
   "outputs": [
    {
     "data": {
      "text/plain": [
       "MoDL(\n",
       "  (Acq): Bruit_Poisson_approx_Gauss(\n",
       "    (FO): Split_Forward_operator_ft_had(\n",
       "      (Hsub): Linear(in_features=4096, out_features=512, bias=False)\n",
       "      (Hsub_adjoint): Linear(in_features=512, out_features=4096, bias=False)\n",
       "      (Hpos_neg): Linear(in_features=4096, out_features=1024, bias=False)\n",
       "      (Perm): Linear(in_features=4096, out_features=4096, bias=False)\n",
       "    )\n",
       "  )\n",
       "  (PreP): Split_diag_poisson_preprocess()\n",
       "  (DC_layer): Orthogonal_Tikhonov()\n",
       "  (Denoi): Unet(\n",
       "    (conv_encode1): Sequential(\n",
       "      (0): Conv2d(1, 16, kernel_size=(3, 3), stride=(1, 1), padding=(1, 1))\n",
       "      (1): ReLU()\n",
       "      (2): BatchNorm2d(16, eps=1e-05, momentum=0.1, affine=True, track_running_stats=True)\n",
       "      (3): Conv2d(16, 16, kernel_size=(3, 3), stride=(1, 1), padding=(1, 1))\n",
       "      (4): ReLU()\n",
       "      (5): BatchNorm2d(16, eps=1e-05, momentum=0.1, affine=True, track_running_stats=True)\n",
       "    )\n",
       "    (conv_maxpool1): MaxPool2d(kernel_size=2, stride=2, padding=0, dilation=1, ceil_mode=False)\n",
       "    (conv_encode2): Sequential(\n",
       "      (0): Conv2d(16, 32, kernel_size=(3, 3), stride=(1, 1), padding=(1, 1))\n",
       "      (1): ReLU()\n",
       "      (2): BatchNorm2d(32, eps=1e-05, momentum=0.1, affine=True, track_running_stats=True)\n",
       "      (3): Conv2d(32, 32, kernel_size=(3, 3), stride=(1, 1), padding=(1, 1))\n",
       "      (4): ReLU()\n",
       "      (5): BatchNorm2d(32, eps=1e-05, momentum=0.1, affine=True, track_running_stats=True)\n",
       "    )\n",
       "    (conv_maxpool2): MaxPool2d(kernel_size=2, stride=2, padding=0, dilation=1, ceil_mode=False)\n",
       "    (conv_encode3): Sequential(\n",
       "      (0): Conv2d(32, 64, kernel_size=(3, 3), stride=(1, 1), padding=(1, 1))\n",
       "      (1): ReLU()\n",
       "      (2): BatchNorm2d(64, eps=1e-05, momentum=0.1, affine=True, track_running_stats=True)\n",
       "      (3): Conv2d(64, 64, kernel_size=(3, 3), stride=(1, 1), padding=(1, 1))\n",
       "      (4): ReLU()\n",
       "      (5): BatchNorm2d(64, eps=1e-05, momentum=0.1, affine=True, track_running_stats=True)\n",
       "    )\n",
       "    (conv_maxpool3): MaxPool2d(kernel_size=2, stride=2, padding=0, dilation=1, ceil_mode=False)\n",
       "    (bottleneck): Sequential(\n",
       "      (0): Conv2d(64, 128, kernel_size=(3, 3), stride=(1, 1), padding=(1, 1))\n",
       "      (1): ReLU()\n",
       "      (2): Conv2d(128, 64, kernel_size=(3, 3), stride=(1, 1), padding=(1, 1))\n",
       "      (3): ReLU()\n",
       "    )\n",
       "    (conv_decode4): Sequential(\n",
       "      (0): Conv2d(64, 64, kernel_size=(3, 3), stride=(1, 1), padding=(1, 1))\n",
       "      (1): ReLU()\n",
       "      (2): BatchNorm2d(64, eps=1e-05, momentum=0.1, affine=True, track_running_stats=True)\n",
       "      (3): Conv2d(64, 64, kernel_size=(3, 3), stride=(1, 1), padding=(1, 1))\n",
       "      (4): ReLU()\n",
       "      (5): BatchNorm2d(64, eps=1e-05, momentum=0.1, affine=True, track_running_stats=True)\n",
       "      (6): ConvTranspose2d(64, 64, kernel_size=(3, 3), stride=(2, 2), padding=(1, 1), output_padding=(1, 1))\n",
       "    )\n",
       "    (conv_decode3): Sequential(\n",
       "      (0): Conv2d(128, 64, kernel_size=(3, 3), stride=(1, 1), padding=(1, 1))\n",
       "      (1): ReLU()\n",
       "      (2): BatchNorm2d(64, eps=1e-05, momentum=0.1, affine=True, track_running_stats=True)\n",
       "      (3): Conv2d(64, 64, kernel_size=(3, 3), stride=(1, 1), padding=(1, 1))\n",
       "      (4): ReLU()\n",
       "      (5): BatchNorm2d(64, eps=1e-05, momentum=0.1, affine=True, track_running_stats=True)\n",
       "      (6): ConvTranspose2d(64, 32, kernel_size=(3, 3), stride=(2, 2), padding=(1, 1), output_padding=(1, 1))\n",
       "    )\n",
       "    (conv_decode2): Sequential(\n",
       "      (0): Conv2d(64, 32, kernel_size=(3, 3), stride=(1, 1), padding=(1, 1))\n",
       "      (1): ReLU()\n",
       "      (2): BatchNorm2d(32, eps=1e-05, momentum=0.1, affine=True, track_running_stats=True)\n",
       "      (3): Conv2d(32, 32, kernel_size=(3, 3), stride=(1, 1), padding=(1, 1))\n",
       "      (4): ReLU()\n",
       "      (5): BatchNorm2d(32, eps=1e-05, momentum=0.1, affine=True, track_running_stats=True)\n",
       "      (6): ConvTranspose2d(32, 16, kernel_size=(3, 3), stride=(2, 2), padding=(1, 1), output_padding=(1, 1))\n",
       "    )\n",
       "    (final_layer): Sequential(\n",
       "      (0): Conv2d(32, 16, kernel_size=(3, 3), stride=(1, 1), padding=(1, 1))\n",
       "      (1): ReLU()\n",
       "      (2): BatchNorm2d(16, eps=1e-05, momentum=0.1, affine=True, track_running_stats=True)\n",
       "      (3): Conv2d(16, 16, kernel_size=(3, 3), stride=(1, 1), padding=(1, 1))\n",
       "      (4): ReLU()\n",
       "      (5): BatchNorm2d(16, eps=1e-05, momentum=0.1, affine=True, track_running_stats=True)\n",
       "      (6): Conv2d(16, 1, kernel_size=(3, 3), stride=(1, 1), padding=(1, 1))\n",
       "    )\n",
       "  )\n",
       ")"
      ]
     },
     "execution_count": 17,
     "metadata": {},
     "output_type": "execute_result"
    }
   ],
   "source": [
    "model"
   ]
  },
  {
   "cell_type": "code",
   "execution_count": 18,
   "id": "f04c065d-20aa-4d90-a433-d20538a63190",
   "metadata": {},
   "outputs": [],
   "source": [
    "x = inputs.view(b*c,w*h)\n",
    "m = Acq(x)\n",
    "m = m.view(b,c, 2*M)\n",
    "outputs = model.reconstruct(m)"
   ]
  },
  {
   "cell_type": "code",
   "execution_count": 19,
   "id": "4df4d16f-53d3-45c2-b7eb-ec7504573447",
   "metadata": {},
   "outputs": [
    {
     "data": {
      "image/png": "[encoded data removed]",
      "text/plain": [
       "<Figure size 432x288 with 2 Axes>"
      ]
     },
     "metadata": {
      "needs_background": "light"
     },
     "output_type": "display_data"
    }
   ],
   "source": [
    "img = outputs[1,0,:,:]\n",
    "img = torch2numpy(img);\n",
    "imagesc(np.reshape(img,(h,w)))"
   ]
  },
  {
   "cell_type": "code",
   "execution_count": 20,
   "id": "2e75ea92-087f-4700-9883-04e9844e8a4d",
   "metadata": {},
   "outputs": [],
   "source": [
    "# from spyrit.learning.nets import load_net\n",
    "# title = \"../../models/new_models/Pinv_net_Unet__N0_10_N_64_M_512_epo_2_lr_0.001_sss_10_sdr_0.5_bs_64_reg_1e-07\"\n",
    "# load_net(title, model, device)\n",
    "# model.eval();"
   ]
  },
  {
   "cell_type": "code",
   "execution_count": 21,
   "id": "0b83f111-cd35-49b2-8d89-5830e8802968",
   "metadata": {},
   "outputs": [],
   "source": [
    "# outputs = model(inputs)"
   ]
  },
  {
   "cell_type": "code",
   "execution_count": 22,
   "id": "ce195717-7ddf-40c3-a07f-5f799e7a73e6",
   "metadata": {},
   "outputs": [],
   "source": [
    "# img = outputs[1,0,:,:]\n",
    "# img = torch2numpy(img);\n",
    "# imagesc(np.reshape(img,(h,w)))"
   ]
  },
  {
   "cell_type": "code",
   "execution_count": null,
   "id": "6653355a-9f1a-44ca-9b28-acc61c45fa15",
   "metadata": {},
   "outputs": [],
   "source": []
  }
 ],
 "metadata": {
  "kernelspec": {
   "display_name": "spyrit-env",
   "language": "python",
   "name": "spyrit-env"
  },
  "language_info": {
   "codemirror_mode": {
    "name": "ipython",
    "version": 3
   },
   "file_extension": ".py",
   "mimetype": "text/x-python",
   "name": "python",
   "nbconvert_exporter": "python",
   "pygments_lexer": "ipython3",
   "version": "3.8.13"
  }
 },
 "nbformat": 4,
 "nbformat_minor": 5
}
